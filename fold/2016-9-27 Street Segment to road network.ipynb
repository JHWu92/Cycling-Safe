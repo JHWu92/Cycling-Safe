{
 "cells": [
  {
   "cell_type": "code",
   "execution_count": 1,
   "metadata": {
    "collapsed": false
   },
   "outputs": [
    {
     "name": "stdout",
     "output_type": "stream",
     "text": [
      "Populating the interactive namespace from numpy and matplotlib\n"
     ]
    }
   ],
   "source": [
    "%pylab inline\n",
    "import geopandas as gpd\n",
    "from geopandas.tools import sjoin\n",
    "import pandas as pd\n",
    "from IPython.display import display\n",
    "import snap"
   ]
  },
  {
   "cell_type": "code",
   "execution_count": null,
   "metadata": {
    "collapsed": false,
    "scrolled": false
   },
   "outputs": [],
   "source": [
    "str_gpd = gpd.read_file('Street_Segments.geojson')\n",
    "segid_in_st_data = set(pd.unique(str_gpd.STREETSEGID))\n",
    "print str_gpd.shape\n",
    "str_gpd.head()"
   ]
  },
  {
   "cell_type": "code",
   "execution_count": 3,
   "metadata": {
    "collapsed": false
   },
   "outputs": [],
   "source": [
    "str_gpd_obj = str_gpd[['OBJECTID','geometry']]\n",
    "joined = sjoin(str_gpd_obj, str_gpd_obj)"
   ]
  },
  {
   "cell_type": "markdown",
   "metadata": {},
   "source": [
    "segments that intersect with 2819 (the green one)"
   ]
  },
  {
   "cell_type": "code",
   "execution_count": 4,
   "metadata": {
    "collapsed": false
   },
   "outputs": [
    {
     "data": {
      "text/html": [
       "<div>\n",
       "<table border=\"1\" class=\"dataframe\">\n",
       "  <thead>\n",
       "    <tr style=\"text-align: right;\">\n",
       "      <th></th>\n",
       "      <th>BEGINMEASURE</th>\n",
       "      <th>DIRECTIONALITY</th>\n",
       "      <th>ENDMEASURE</th>\n",
       "      <th>FACILITYID</th>\n",
       "      <th>FROMADDRESSLEFTTHEO</th>\n",
       "      <th>FROMADDRESSRIGHTTHEO</th>\n",
       "      <th>FROMNODEID</th>\n",
       "      <th>OBJECTID</th>\n",
       "      <th>OBJECTID_1</th>\n",
       "      <th>QUADRANT</th>\n",
       "      <th>...</th>\n",
       "      <th>SHAPE_Length</th>\n",
       "      <th>SOURCEID</th>\n",
       "      <th>STREETID</th>\n",
       "      <th>STREETSEGID</th>\n",
       "      <th>STREETTYPE</th>\n",
       "      <th>TOADDRESSLEFTTHEO</th>\n",
       "      <th>TOADDRESSRIGHTTHEO</th>\n",
       "      <th>TONODEID</th>\n",
       "      <th>UPDATETIMESTAMP</th>\n",
       "      <th>geometry</th>\n",
       "    </tr>\n",
       "  </thead>\n",
       "  <tbody>\n",
       "    <tr>\n",
       "      <th>2818</th>\n",
       "      <td>0</td>\n",
       "      <td>2</td>\n",
       "      <td>56.966732</td>\n",
       "      <td>SEGID-6832</td>\n",
       "      <td>38</td>\n",
       "      <td>47</td>\n",
       "      <td>22079</td>\n",
       "      <td>2819</td>\n",
       "      <td>3199</td>\n",
       "      <td>NW</td>\n",
       "      <td>...</td>\n",
       "      <td>56.966716</td>\n",
       "      <td>13906005</td>\n",
       "      <td>103906</td>\n",
       "      <td>6832</td>\n",
       "      <td>ST</td>\n",
       "      <td>66</td>\n",
       "      <td>67</td>\n",
       "      <td>22102</td>\n",
       "      <td>2005-11-01T12:55:47</td>\n",
       "      <td>LINESTRING (-77.01066020369781 38.952369300992...</td>\n",
       "    </tr>\n",
       "  </tbody>\n",
       "</table>\n",
       "<p>1 rows × 22 columns</p>\n",
       "</div>"
      ],
      "text/plain": [
       "      BEGINMEASURE  DIRECTIONALITY  ENDMEASURE  FACILITYID  \\\n",
       "2818             0               2   56.966732  SEGID-6832   \n",
       "\n",
       "      FROMADDRESSLEFTTHEO  FROMADDRESSRIGHTTHEO  FROMNODEID  OBJECTID  \\\n",
       "2818                   38                    47       22079      2819   \n",
       "\n",
       "      OBJECTID_1 QUADRANT                        ...                          \\\n",
       "2818        3199       NW                        ...                           \n",
       "\n",
       "     SHAPE_Length  SOURCEID  STREETID STREETSEGID  STREETTYPE  \\\n",
       "2818    56.966716  13906005    103906        6832          ST   \n",
       "\n",
       "      TOADDRESSLEFTTHEO TOADDRESSRIGHTTHEO  TONODEID      UPDATETIMESTAMP  \\\n",
       "2818                 66                 67     22102  2005-11-01T12:55:47   \n",
       "\n",
       "                                               geometry  \n",
       "2818  LINESTRING (-77.01066020369781 38.952369300992...  \n",
       "\n",
       "[1 rows x 22 columns]"
      ]
     },
     "execution_count": 4,
     "metadata": {},
     "output_type": "execute_result"
    },
    {
     "data": {
      "image/png": "[encoded data removed]",
      "text/plain": [
       "<matplotlib.figure.Figure at 0x20ce4b70>"
      ]
     },
     "metadata": {},
     "output_type": "display_data"
    }
   ],
   "source": [
    "str_gpd[str_gpd.OBJECTID.isin([2819,1,2818,2820,3267,3268,87])].plot()\n",
    "str_gpd[str_gpd.OBJECTID==2819]"
   ]
  },
  {
   "cell_type": "code",
   "execution_count": 5,
   "metadata": {
    "collapsed": false,
    "scrolled": true
   },
   "outputs": [],
   "source": [
    "# exclude self-intersected pairs\n",
    "street_pairs = joined[joined.OBJECTID_left!=joined.OBJECTID_right][['OBJECTID_right','OBJECTID_left']]"
   ]
  },
  {
   "cell_type": "code",
   "execution_count": 6,
   "metadata": {
    "collapsed": false
   },
   "outputs": [],
   "source": [
    "nodes_in_graph = list(pd.unique(street_pairs.OBJECTID_left.append(street_pairs.OBJECTID_right)))\n",
    "nodes_in_graph = [int(x) for x in nodes_in_graph]\n",
    "edges_in_graph = street_pairs.values.tolist()"
   ]
  },
  {
   "cell_type": "code",
   "execution_count": 7,
   "metadata": {
    "collapsed": false
   },
   "outputs": [],
   "source": [
    "road_network = snap.TUNGraph.New()\n",
    "for n in nodes_in_graph:\n",
    "    road_network.AddNode(n)\n",
    "for a,b in edges_in_graph:\n",
    "    road_network.AddEdge(a,b)"
   ]
  },
  {
   "cell_type": "code",
   "execution_count": 8,
   "metadata": {
    "collapsed": false
   },
   "outputs": [],
   "source": [
    "btw_nodes= snap.TIntFltH()\n",
    "btw_edges = snap.TIntPrFltH()\n",
    "snap.GetBetweennessCentr(road_network, btw_nodes, btw_edges)"
   ]
  },
  {
   "cell_type": "code",
   "execution_count": 15,
   "metadata": {
    "collapsed": false
   },
   "outputs": [
    {
     "name": "stdout",
     "output_type": "stream",
     "text": [
      "segment id 1 with degree: 4, Betweenness: 60389.875463\n",
      "segment id 2818 with degree: 5, Betweenness: 1983.315671\n",
      "segment id 2820 with degree: 5, Betweenness: 75103.393799\n",
      "segment id 3267 with degree: 4, Betweenness: 152648.332773\n",
      "segment id 17 with degree: 7, Betweenness: 15222.088428\n",
      "segment id 87 with degree: 3, Betweenness: 12315.197992\n",
      "segment id 3269 with degree: 7, Betweenness: 71292.418176\n",
      "segment id 5786 with degree: 7, Betweenness: 87959.981235\n",
      "segment id 5787 with degree: 7, Betweenness: 123418.414006\n",
      "segment id 3099 with degree: 4, Betweenness: 7854.480299\n",
      "segment id 3268 with degree: 6, Betweenness: 37183.692382\n",
      "segment id 2819 with degree: 4, Betweenness: 144316.270763\n",
      "intesection: (1, 87) centrality: 41482.581704\n",
      "intesection: (1, 2819) centrality: 136856.207016\n",
      "intesection: (1, 2820) centrality: 4869.497019\n",
      "intesection: (1, 3268) centrality: 85389.216112\n",
      "intesection: (2818, 2819) centrality: 2902.560704\n",
      "intesection: (2818, 3267) centrality: 9892.426393\n",
      "intesection: (2818, 9061) centrality: 1398.378439\n",
      "intesection: (2818, 12021) centrality: 8266.345975\n",
      "intesection: (2818, 12022) centrality: 12511.551172\n",
      "intesection: (2820, 2821) centrality: 65514.802373\n",
      "intesection: (2820, 5787) centrality: 80191.363442\n",
      "intesection: (2820, 5788) centrality: 15290.930465\n"
     ]
    }
   ],
   "source": [
    "for cnt, node in enumerate(road_network.Nodes()):\n",
    "    print \"segment id %d with degree: %d, Betweenness: %f\" % (node.GetId(), node.GetInDeg(), btw_nodes[node.GetId()])\n",
    "    if cnt > 10:\n",
    "        break\n",
    "        \n",
    "for cnt, edge in enumerate(btw_edges):\n",
    "    print \"intesection: (%d, %d) centrality: %f\" % (edge.GetVal1(), edge.GetVal2(), btw_edges[edge])\n",
    "    if cnt>10:\n",
    "        break\n"
   ]
  },
  {
   "cell_type": "code",
   "execution_count": null,
   "metadata": {
    "collapsed": true
   },
   "outputs": [],
   "source": []
  }
 ],
 "metadata": {
  "kernelspec": {
   "display_name": "Python 2",
   "language": "python",
   "name": "python2"
  },
  "language_info": {
   "codemirror_mode": {
    "name": "ipython",
    "version": 2
   },
   "file_extension": ".py",
   "mimetype": "text/x-python",
   "name": "python",
   "nbconvert_exporter": "python",
   "pygments_lexer": "ipython2",
   "version": "2.7.11"
  }
 },
 "nbformat": 4,
 "nbformat_minor": 0
}
