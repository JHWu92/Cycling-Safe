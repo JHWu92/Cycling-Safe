{
 "cells": [
  {
   "cell_type": "markdown",
   "metadata": {},
   "source": [
    "#Questions\n",
    "- if one point is have equal distances to multiple segs, how to assign seg to it"
   ]
  },
  {
   "cell_type": "code",
   "execution_count": 1,
   "metadata": {
    "collapsed": false
   },
   "outputs": [],
   "source": [
    "import geopandas as gp\n",
    "from shapely.geometry import LineString, Point\n",
    "import rtree\n",
    "import os\n",
    "import numpy as np"
   ]
  },
  {
   "cell_type": "markdown",
   "metadata": {},
   "source": [
    "# Functions\n",
    "\n",
    "build_load_idx(seg_idx_path,segs,update=False): indexing segments\n",
    "\n",
    "pt2seg(pt,seg_idx): find the segment intersected/nearest to a given point"
   ]
  },
  {
   "cell_type": "code",
   "execution_count": 7,
   "metadata": {
    "collapsed": false
   },
   "outputs": [],
   "source": [
    "def build_load_idx(seg_idx_path, segs_with_ids, update=False):\n",
    "    \"\"\"\n",
    "    params:\n",
    "        seg_idx_path: the path of segment index if the index doesn't exist, the index will be built.\n",
    "        segs_with_ids: dict: key=objid, value=shapely.geometry.LineString, segments that will be indexed\n",
    "        update: True: rebuild the index no matter whether the index exists\n",
    "    Output:\n",
    "        rtree index of given segments.\n",
    "    \"\"\"\n",
    "    idx_exist = os.path.isfile(seg_idx_path+'.dat') & os.path.isfile(seg_idx_path+'.idx') \n",
    "    if update and idx_exist:\n",
    "        print 'remove existing files'\n",
    "        os.remove(seg_idx_path+'.dat')\n",
    "        os.remove(seg_idx_path+'.idx')\n",
    "        idx_exist = False\n",
    "    seg_idx = rtree.index.Rtree(seg_idx_path)\n",
    "    if not idx_exist:\n",
    "        print 'building idx'\n",
    "        for objid,seg in segs_with_ids.items():\n",
    "            seg_idx.insert(objid, seg.bounds)\n",
    "        print 'built idx'\n",
    "\n",
    "    return seg_idx\n",
    "\n",
    "def pt2seg(pt, segs_with_ids, seg_idx):\n",
    "    \"\"\"\n",
    "    params: \n",
    "        pt: shapely.geometry.Point\n",
    "        segs_with_ids:\n",
    "        seg_idx: rtree index of segments\n",
    "    Process:\n",
    "        1. load segment index and find segments(var:idx_match) whose bounds intersect with point's bounds\n",
    "           if there isn't any matched segment, the point will be buffered until len of idx_match !=0\n",
    "        2. find the segments that actually intersect with given point\n",
    "           if there isn't any intersected segment, nearest segment will be returned\n",
    "    Output:\n",
    "       hint: whether the returned segid is \"nearest\" or \"intersected\"\n",
    "       segid: assigned segment id\n",
    "       cnt: len of candidates \n",
    "       candidates: the index of segments that are \"equally near\"/\"intersected\" to the point\n",
    "       distance: the distance between point and segment\n",
    "    \"\"\"\n",
    "    \n",
    "    idx_match = list(seg_idx.intersection(pt.bounds))\n",
    "\n",
    "    # in case no idx is matched\n",
    "    bfr_value = 0.000001\n",
    "    while len(idx_match)==0:\n",
    "        idx_match = list(seg_idx.intersection(pt.buffer(bfr_value).bounds))\n",
    "        bfr_value*=2\n",
    "    \n",
    "    fil = [pt.intersects(segs_with_ids[idx]) for idx in idx_match]\n",
    "    seg_match = [idx for (idx,b) in zip(idx_match, fil) if b]\n",
    "    \n",
    "    if len(seg_match)==0:\n",
    "        dis = np.array([pt.distance(segs_with_ids[idx]) for idx in idx_match])\n",
    "        minimum = dis.min()\n",
    "        segid = idx_match[dis.argmin()]\n",
    "        return 'nearest', segid, int(np.where(dis==minimum)[0].shape[0]), np.array(idx_match)[np.where(dis==minimum)[0]],minimum\n",
    "    else:\n",
    "        segid=seg_match[0]\n",
    "        return 'intersected', segid, len(seg_match), np.array(seg_match),0"
   ]
  },
  {
   "cell_type": "markdown",
   "metadata": {},
   "source": [
    "# Open DC data\n",
    "\n",
    "- Street segments in DC\n",
    "- moving violation"
   ]
  },
  {
   "cell_type": "code",
   "execution_count": 3,
   "metadata": {
    "collapsed": false
   },
   "outputs": [],
   "source": [
    "dc_segs = gp.read_file('Street_Segments.geojson')\n",
    "mv_ptns = gp.read_file('Moving_Violations_in_January_2016.geojson')"
   ]
  },
  {
   "cell_type": "code",
   "execution_count": 5,
   "metadata": {
    "collapsed": false
   },
   "outputs": [],
   "source": [
    "segs_with_ids = dict(zip(dc_segs.STREETSEGID,dc_segs.geometry))\n",
    "dc_seg_idx_path = 'dc_seg_idx'\n",
    "dc_seg_idx = build_load_idx(dc_seg_idx_path, segs_with_ids)"
   ]
  },
  {
   "cell_type": "code",
   "execution_count": 8,
   "metadata": {
    "collapsed": false
   },
   "outputs": [],
   "source": [
    "get_seg = mv_ptns.geometry.apply(lambda x: gp.GeoSeries(pt2seg(x, segs_with_ids, dc_seg_idx)))\n",
    "get_seg.columns=[['hint','seg','len_can','candidates','distance']]\n",
    "mv_ptns_get_seg = mv_ptns.join(get_seg)"
   ]
  },
  {
   "cell_type": "code",
   "execution_count": 9,
   "metadata": {
    "collapsed": true
   },
   "outputs": [],
   "source": [
    "dc_seg_idx.close()"
   ]
  },
  {
   "cell_type": "code",
   "execution_count": 14,
   "metadata": {
    "collapsed": false,
    "scrolled": true
   },
   "outputs": [
    {
     "data": {
      "text/plain": [
       "(1001, 2)"
      ]
     },
     "execution_count": 14,
     "metadata": {},
     "output_type": "execute_result"
    }
   ],
   "source": [
    "df_mv_gb = mv_ptns_get_seg[['seg']].reset_index().groupby('seg').count().reset_index()\n",
    "df_mv_gb.columns= ['seg','cnt']\n",
    "df_mv_gb.shape"
   ]
  },
  {
   "cell_type": "code",
   "execution_count": 12,
   "metadata": {
    "collapsed": false,
    "scrolled": true
   },
   "outputs": [],
   "source": [
    "def gradient_color(percent):\n",
    "    import numpy as np\n",
    "    min_color = np.array([255,255,255])\n",
    "    max_color = np.array([248,105,107])\n",
    "    return min_color+(max_color-min_color)*percent\n",
    "\n",
    "dc_segs_with_mvcnt = dc_segs[['STREETSEGID','geometry']].merge(df_mv_gb, left_on = 'STREETSEGID', right_on = 'seg')\n",
    "dc_segs_with_mvcnt['log_cnt'] = np.log(dc_segs_with_mvcnt.cnt)\n",
    "dc_segs_with_mvcnt['norm'] = dc_segs_with_mvcnt.log_cnt/dc_segs_with_mvcnt.log_cnt.max()\n",
    "dc_segs_with_mvcnt['color'] = dc_segs_with_mvcnt.norm.apply(lambda x: '#%02x%02x%02x' % tuple([int(k) for k in gradient_color(x)]))"
   ]
  },
  {
   "cell_type": "code",
   "execution_count": 13,
   "metadata": {
    "collapsed": false
   },
   "outputs": [],
   "source": [
    "with open('C:\\\\Users\\\\JHW\\\\Desktop\\\\data.js', 'w') as f:\n",
    "    js = dc_segs_with_mvcnt[['geometry','STREETSEGID','color','cnt']].to_json()\n",
    "    f.write('var segs = %s;' %js)"
   ]
  }
 ],
 "metadata": {
  "kernelspec": {
   "display_name": "Python 2",
   "language": "python",
   "name": "python2"
  },
  "language_info": {
   "codemirror_mode": {
    "name": "ipython",
    "version": 2
   },
   "file_extension": ".py",
   "mimetype": "text/x-python",
   "name": "python",
   "nbconvert_exporter": "python",
   "pygments_lexer": "ipython2",
   "version": "2.7.11"
  }
 },
 "nbformat": 4,
 "nbformat_minor": 0
}
