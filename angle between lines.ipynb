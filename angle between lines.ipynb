{
 "cells": [
  {
   "cell_type": "code",
   "execution_count": 1,
   "metadata": {
    "collapsed": true
   },
   "outputs": [],
   "source": [
    "from shapely.geometry import LineString, Point"
   ]
  },
  {
   "cell_type": "code",
   "execution_count": 9,
   "metadata": {
    "collapsed": true
   },
   "outputs": [],
   "source": [
    "l1 = LineString([(0,0),(1,0)])\n",
    "l2 = LineString([(0,0),(1,1)])\n",
    "l3 = LineString([(0,0),(0,1)])\n",
    "l4 = LineString([(0,1),(0,0)])\n",
    "l5 = LineString([(0,1),(1,1)])"
   ]
  },
  {
   "cell_type": "code",
   "execution_count": 176,
   "metadata": {
    "collapsed": false
   },
   "outputs": [],
   "source": [
    "import math\n",
    "def dot(vA, vB):\n",
    "    return vA[0]*vB[0]+vA[1]*vB[1]\n",
    "def ang(lineA, lineB):\n",
    "    # Get nicer vector form\n",
    "    vA = [(lineA[0][0]-lineA[1][0]), (lineA[0][1]-lineA[1][1])]\n",
    "    vB = [(lineB[0][0]-lineB[1][0]), (lineB[0][1]-lineB[1][1])]\n",
    "    # Get dot prod\n",
    "    dot_prod = dot(vA, vB)\n",
    "    # Get magnitudes\n",
    "    magA = dot(vA, vA)**0.5\n",
    "    magB = dot(vB, vB)**0.5\n",
    "    # Get cosine value\n",
    "    cos_ = dot_prod/magA/magB\n",
    "    # Get angle in radians and then convert to degrees\n",
    "    angle = math.acos(dot_prod/magB/magA)\n",
    "    # Basically doing angle <- angle mod 360\n",
    "    ang_deg = math.degrees(angle)%360\n",
    "\n",
    "    if ang_deg-180>=0:\n",
    "        return 360 - ang_deg\n",
    "#         ang_deg = 360 - ang_deg\n",
    "#     if ang_deg>90:\n",
    "#         return 180-ang_deg\n",
    "    return ang_deg"
   ]
  },
  {
   "cell_type": "code",
   "execution_count": 13,
   "metadata": {
    "collapsed": false
   },
   "outputs": [
    {
     "data": {
      "text/plain": [
       "(45.00000000000001, 90.0, 90.0, 135.0, 45.00000000000001)"
      ]
     },
     "execution_count": 13,
     "metadata": {},
     "output_type": "execute_result"
    }
   ],
   "source": [
    "ang(l1.coords,l2.coords),ang(l1.coords,l3.coords),ang(l1.coords,l4.coords),ang(l2.coords,l4.coords),ang(l2.coords,l3.coords)"
   ]
  },
  {
   "cell_type": "code",
   "execution_count": 143,
   "metadata": {
    "collapsed": false
   },
   "outputs": [],
   "source": [
    "ldc = LineString([(-77.01239193659748, 38.9508361022552) , (-77.01234856964504, 38.95089366972041) , (-77.01223392367461, 38.95104574145057) , (-77.01204153978975, 38.95130682121423) , (-77.01194723815085, 38.951434764707194) , (-77.01168237327896, 38.9517941151788) , (-77.01153888919112, 38.951984744486694) , (-77.01141178287865, 38.95215366207694) , (-77.01134972955431, 38.95223996736828) , (-77.0113444239744, 38.9522479852457) , (-77.01134303993538, 38.952250237448105) , (-77.01133704255646, 38.95226077770855) , (-77.01133173741759, 38.95227158814972) , (-77.01132735523778, 38.952282578666605) , (-77.0113236652701, 38.952293659199015) , (-77.01132066754346, 38.952305009912386) , (-77.01131859274835, 38.952316360536265) , (-77.01131721018066, 38.952327891258555) , (-77.01131675053101, 38.95233933180869) , (-77.01131698309513, 38.95235086237454) ,])\n",
    "losm = LineString([(-77.009007, 38.952407) , (-77.0095895, 38.9523932) , (-77.0106576, 38.9523583) , (-77.0113145, 38.9523389) , (-77.0124321, 38.9523077) ])\n",
    "\n",
    "ldc1 = LineString([(-77.0090093127404, 38.952414931671896) , (-77.00915075208486, 38.95241293886451) , (-77.0091734792817, 38.9524125767521) , (-77.00949131351722, 38.95240453401328) , (-77.00959064456887, 38.95240154698228) , (-77.0098097243037, 38.952394958955786) , (-77.01012790423285, 38.952385112802894) , (-77.01042278019413, 38.95237652902243) , (-77.01045773686705, 38.95237553499021) , (-77.01066020369781, 38.952369300992785) ])"
   ]
  },
  {
   "cell_type": "code",
   "execution_count": 178,
   "metadata": {
    "collapsed": false,
    "scrolled": true
   },
   "outputs": [
    {
     "name": "stdout",
     "output_type": "stream",
     "text": [
      "82.2047670592\n",
      "86.3488855898\n"
     ]
    }
   ],
   "source": [
    "l = LineString([(38.920133, -77.031828),(38.921000, -77.031728),(38.921042, -77.029749),(38.920537, -77.029706 )])\n",
    "# l = LineString([(38.919277, -77.031771 ),(38.919995, -77.031750 ),(38.920346, -77.029830 ),(38.919311, -77.029798 )])\n",
    "sublosms = zip(l.coords[:-1],l.coords[1:])\n",
    "\n",
    "for i in range(len(sublosms)-1):\n",
    "    print ang(sublosms[i],sublosms[i+1])"
   ]
  },
  {
   "cell_type": "code",
   "execution_count": 150,
   "metadata": {
    "collapsed": false,
    "scrolled": true
   },
   "outputs": [],
   "source": [
    "gpdf = gp.GeoDataFrame([ldc,ldc1,losm],columns=['geometry'])\n",
    "gpdf.crs = {'init': u'epsg:4326'}\n",
    "gpdf = gpdf.to_crs(epsg=3559)"
   ]
  },
  {
   "cell_type": "code",
   "execution_count": 152,
   "metadata": {
    "collapsed": true
   },
   "outputs": [],
   "source": [
    "new_ldc, new_ldc1, new_losm = gpdf.geometry.values"
   ]
  },
  {
   "cell_type": "code",
   "execution_count": 157,
   "metadata": {
    "collapsed": true
   },
   "outputs": [],
   "source": [
    "sublosms = zip(new_losm.coords[:-1],new_losm.coords[1:])\n",
    "subldcs = zip(new_ldc.coords[:-1],new_ldc.coords[1:])\n",
    "subldcs1 = zip(new_ldc1.coords[:-1],new_ldc1.coords[1:])"
   ]
  },
  {
   "cell_type": "code",
   "execution_count": 170,
   "metadata": {
    "collapsed": false
   },
   "outputs": [
    {
     "name": "stdout",
     "output_type": "stream",
     "text": [
      "423618.757232 423817.433411\n",
      "423618.756255 423817.432434\n",
      "423618.756255 423817.432434\n"
     ]
    }
   ],
   "source": [
    "for subl in sublosms:\n",
    "    print LineString(subl).distance(new_ldc), LineString(subl).distance(new_ldc1)"
   ]
  },
  {
   "cell_type": "code",
   "execution_count": 169,
   "metadata": {
    "collapsed": false
   },
   "outputs": [
    {
     "name": "stdout",
     "output_type": "stream",
     "text": [
      "157.128693486 157.128693486\n",
      "140.613250791 140.613250791\n",
      "112.245417432 112.245417432\n",
      "98.3436695161 98.3436695161\n",
      "59.2982670942 59.2982670942\n",
      "38.5945357412 38.5945357412\n",
      "20.248725673 20.248725673\n",
      "10.8663225879 10.8663225879\n",
      "9.99326241158 9.99326241158\n",
      "9.74769278917 9.74769278917\n",
      "8.59694602199 8.59694602199\n",
      "7.41408228262 7.41408228262\n",
      "6.20838324426 6.20838324426\n",
      "4.99055455617 4.99055455617\n",
      "3.74060889851 3.74060889851\n",
      "2.48781526744 2.48781526744\n",
      "1.21289832177 1.21289832177\n",
      "0.0 0.0\n",
      "0.0548729309899 0.0548729309899\n"
     ]
    }
   ],
   "source": [
    "for subl in subldcs:\n",
    "    print LineString(subl).distance(new_losm), LineString(subl).distance(new_losm)\n",
    "    "
   ]
  },
  {
   "cell_type": "code",
   "execution_count": 159,
   "metadata": {
    "collapsed": false
   },
   "outputs": [
    {
     "name": "stdout",
     "output_type": "stream",
     "text": [
      "0.886161772577 0.886161772577\n",
      "1.0368167761 1.0368167761\n",
      "0.999473925373 0.999473925373\n",
      "0.929722657626 0.929722657626\n",
      "0.929928422915 0.929928422915\n",
      "0.993100879967 0.993100879967\n",
      "1.05409168273 1.05409168273\n",
      "1.1707299001 1.1707299001\n",
      "1.18717442937 1.18717442937\n"
     ]
    }
   ],
   "source": [
    "for subl in subldcs1:\n",
    "    print LineString(subl).distance(new_losm), LineString(subl).distance(new_losm)"
   ]
  },
  {
   "cell_type": "code",
   "execution_count": 156,
   "metadata": {
    "collapsed": false
   },
   "outputs": [
    {
     "data": {
      "text/plain": [
       "<matplotlib.axes._subplots.AxesSubplot at 0x13ca17f0>"
      ]
     },
     "execution_count": 156,
     "metadata": {},
     "output_type": "execute_result"
    },
    {
     "data": {
      "image/png": "[encoded data removed]",
      "text/plain": [
       "<matplotlib.figure.Figure at 0x13ca1a90>"
      ]
     },
     "metadata": {},
     "output_type": "display_data"
    }
   ],
   "source": [
    "gpdf.to_crs(epsg=4326).plot()"
   ]
  },
  {
   "cell_type": "code",
   "execution_count": 77,
   "metadata": {
    "collapsed": true
   },
   "outputs": [],
   "source": [
    "def project_obj_on_line(obj, line):\n",
    "    if len(obj.coords)==1:\n",
    "        return shapely.geometry.Point(line.interpolate(line.project(obj)))\n",
    "    narr = np.array([line.project(shapely.geometry.Point(x)) for x in obj.coords])\n",
    "    return shapely.geometry.LineString([line.interpolate(x) for x in [narr.min(), narr.max()]])\n"
   ]
  },
  {
   "cell_type": "code",
   "execution_count": 78,
   "metadata": {
    "collapsed": false
   },
   "outputs": [],
   "source": [
    "sublosms = zip(losm.coords[:-1],losm.coords[1:])\n",
    "subldcs = zip(ldc.coords[:-1],ldc.coords[1:])"
   ]
  },
  {
   "cell_type": "code",
   "execution_count": 80,
   "metadata": {
    "collapsed": true
   },
   "outputs": [],
   "source": [
    "import numpy as np\n",
    "import shapely"
   ]
  },
  {
   "cell_type": "code",
   "execution_count": 81,
   "metadata": {
    "collapsed": false
   },
   "outputs": [
    {
     "name": "stdout",
     "output_type": "stream",
     "text": [
      "0.000582663444888 0.000580592756926\n",
      "((-77.009007, 38.952407), (-77.0095895, 38.9523932)) [(-77.0090093127404, 38.952414931671896), (-77.00958975181337, 38.95240157382875)]\n",
      "0.00106867002391 0.001068674366\n",
      "((-77.0095895, 38.9523932), (-77.0106576, 38.9523583)) [(-77.00958975181337, 38.95240157382875), (-77.01065794086819, 38.9523693706658)]\n",
      "0.000657186404298 2.2639019945e-06\n",
      "((-77.0106576, 38.9523583), (-77.0113145, 38.9523389)) [(-77.01065794086819, 38.9523693706658), (-77.01066020369781, 38.952369300992785)]\n",
      "0.00111803541983 0.0\n",
      "((-77.0113145, 38.9523389), (-77.0124321, 38.9523077)) [(-77.01066020369781, 38.952369300992785), (-77.01066020369781, 38.952369300992785)]\n"
     ]
    }
   ],
   "source": [
    "for ln in l:\n",
    "    lnstr = LineString(ln)\n",
    "    proj_ln = project_obj_on_line(lnstr, ldc)\n",
    "    print lnstr.length, proj_ln.length\n",
    "    print ln, list(proj_ln.coords)"
   ]
  },
  {
   "cell_type": "code",
   "execution_count": 82,
   "metadata": {
    "collapsed": false,
    "scrolled": true
   },
   "outputs": [
    {
     "name": "stdout",
     "output_type": "stream",
     "text": [
      "0.549925149934 0.44432333575 0.0924104591685 0.365309683237 0.365303475133 0.41532606014 0.310258146837 0.271691138139 0.406452534729\n",
      "\n",
      "1.06425022135 0.958648407168 0.421914612249 0.149015388182 0.149021596278 0.0989990112776 0.204066924575 0.242633933272 0.107872536691\n",
      "\n",
      "0.884390158543 0.778788344362 0.242054549442 0.0308446746066 0.0308384665189 0.0808610515249 0.0242068617556 0.0627738704531 0.0719875261205\n",
      "\n",
      "0.791894369365 0.686292555183 0.149558760263 0.123340463803 0.123334255703 0.173356840709 0.0682889274075 0.0297219186885 0.164483315298\n",
      "\n"
     ]
    }
   ],
   "source": [
    "for sublosm in sublosms:\n",
    "    for subldc in subldcs:\n",
    "        print ang(sublosm,subldc),\n",
    "    print\n",
    "    print "
   ]
  },
  {
   "cell_type": "code",
   "execution_count": 83,
   "metadata": {
    "collapsed": false,
    "scrolled": true
   },
   "outputs": [
    {
     "name": "stdout",
     "output_type": "stream",
     "text": [
      "0.549925149934 0.44432333575 0.0924104591685 0.365309683237 0.365303475133 0.41532606014 0.310258146837 0.271691138139 0.406452534729\n",
      "\n",
      "1.06425022135 0.958648407168 0.421914612249 0.149015388182 0.149021596278 0.0989990112776 0.204066924575 0.242633933272 0.107872536691\n",
      "\n",
      "0.884390158543 0.778788344362 0.242054549442 0.0308446746066 0.0308384665189 0.0808610515249 0.0242068617556 0.0627738704531 0.0719875261205\n",
      "\n",
      "0.791894369365 0.686292555183 0.149558760263 0.123340463803 0.123334255703 0.173356840709 0.0682889274075 0.0297219186885 0.164483315298\n",
      "\n"
     ]
    }
   ],
   "source": [
    "for sublosm in sublosms:\n",
    "    for subldc in subldcs:\n",
    "        print ang(sublosm,subldc),\n",
    "    print\n",
    "    print "
   ]
  },
  {
   "cell_type": "code",
   "execution_count": 116,
   "metadata": {
    "collapsed": true
   },
   "outputs": [],
   "source": [
    "def split_linestring_by_large_angle(to_split_line, ang_thres=4):\n",
    "    new_lines = []\n",
    "    from shapely.geometry import LineString\n",
    "    from shapely.ops import linemerge\n",
    "    ln_coords = to_split_line.coords if isinstance(to_split_line, LineString) else to_split_line\n",
    "    sublns = zip(ln_coords[:-1],ln_coords[1:])\n",
    "    new_line = [sublns[0]]\n",
    "    for i in range(len(sublns)-1):\n",
    "        print ang(sublns[i],sublns[i+1]) \n",
    "        if ang(sublns[i],sublns[i+1]) < ang_thres:\n",
    "            new_line.append(sublns[i+1])\n",
    "        else:\n",
    "            new_lines.append(linemerge(new_line))\n",
    "            new_line = [sublns[i+1]]\n",
    "    new_lines.append(linemerge(new_line))\n",
    "    return new_lines"
   ]
  },
  {
   "cell_type": "code",
   "execution_count": 117,
   "metadata": {
    "collapsed": false
   },
   "outputs": [],
   "source": [
    "import geopandas as gp \n",
    "%matplotlib inline\n"
   ]
  },
  {
   "cell_type": "code",
   "execution_count": 119,
   "metadata": {
    "collapsed": false,
    "scrolled": true
   },
   "outputs": [
    {
     "name": "stdout",
     "output_type": "stream",
     "text": [
      "0.00772221013329\n",
      "1.24450073576\n",
      "2.22270233535\n",
      "1.92150899627\n",
      "1.93208888151\n",
      "3.50062398455\n",
      "4.40078929799\n",
      "3.31988432299\n",
      "3.62440936815\n",
      "4.43524135424\n",
      "3.52151559809\n",
      "4.53654358875\n",
      "3.45621095298\n"
     ]
    },
    {
     "data": {
      "text/plain": [
       "<matplotlib.axes._subplots.AxesSubplot at 0x1228dd30>"
      ]
     },
     "execution_count": 119,
     "metadata": {},
     "output_type": "execute_result"
    },
    {
     "data": {
      "image/png": "[encoded data removed]",
      "text/plain": [
       "<matplotlib.figure.Figure at 0x133d0f60>"
      ]
     },
     "metadata": {},
     "output_type": "display_data"
    }
   ],
   "source": [
    "gp.GeoDataFrame(split_linestring_by_large_angle(ldc.coords[5:],ang_thres=1),columns=['geometry']).plot()"
   ]
  },
  {
   "cell_type": "code",
   "execution_count": null,
   "metadata": {
    "collapsed": true
   },
   "outputs": [],
   "source": [
    "(0,0),(0,1), (1,1)"
   ]
  },
  {
   "cell_type": "code",
   "execution_count": 120,
   "metadata": {
    "collapsed": false
   },
   "outputs": [
    {
     "data": {
      "text/plain": [
       "38.12374162676329"
      ]
     },
     "execution_count": 120,
     "metadata": {},
     "output_type": "execute_result"
    }
   ],
   "source": [
    "sum([0.00772221013329,\n",
    "1.24450073576,\n",
    "2.22270233535,\n",
    "1.92150899627,\n",
    "1.93208888151,\n",
    "3.50062398455,\n",
    "4.40078929799,\n",
    "3.31988432299,\n",
    "3.62440936815,\n",
    "4.43524135424,\n",
    "3.52151559809,\n",
    "4.53654358875,\n",
    "3.45621095298,])"
   ]
  },
  {
   "cell_type": "code",
   "execution_count": 124,
   "metadata": {
    "collapsed": false
   },
   "outputs": [
    {
     "data": {
      "text/plain": [
       "38.12374162677848"
      ]
     },
     "execution_count": 124,
     "metadata": {},
     "output_type": "execute_result"
    }
   ],
   "source": [
    "ang(ldc.coords[5:7],ldc.coords[-2:])"
   ]
  },
  {
   "cell_type": "code",
   "execution_count": 135,
   "metadata": {
    "collapsed": false,
    "scrolled": true
   },
   "outputs": [
    {
     "data": {
      "text/plain": [
       "<matplotlib.axes._subplots.AxesSubplot at 0x134b8a58>"
      ]
     },
     "execution_count": 135,
     "metadata": {},
     "output_type": "execute_result"
    },
    {
     "data": {
      "image/png": "[encoded data removed]",
      "text/plain": [
       "<matplotlib.figure.Figure at 0x138635f8>"
      ]
     },
     "metadata": {},
     "output_type": "display_data"
    }
   ],
   "source": [
    "gp.GeoDataFrame([LineString(ldc.coords[5:7]),LineString([(-77.01131675053101, 38.95233933180869), (-77.01130959873211, 38.951984744486694)])],columns=['geometry']).plot()"
   ]
  },
  {
   "cell_type": "code",
   "execution_count": 131,
   "metadata": {
    "collapsed": false
   },
   "outputs": [
    {
     "data": {
      "text/plain": [
       "[(-77.01168237327896, 38.9517941151788),\n",
       " (-77.01153888919112, 38.951984744486694)]"
      ]
     },
     "execution_count": 131,
     "metadata": {},
     "output_type": "execute_result"
    }
   ],
   "source": [
    "ldc.coords[5:7]"
   ]
  },
  {
   "cell_type": "code",
   "execution_count": 128,
   "metadata": {
    "collapsed": false
   },
   "outputs": [],
   "source": [
    "(x1,y1), (x2,y2) = ldc.coords[-2:]"
   ]
  },
  {
   "cell_type": "code",
   "execution_count": 130,
   "metadata": {
    "collapsed": false
   },
   "outputs": [
    {
     "data": {
      "text/plain": [
       "(2.3256411907368602e-07, -1.1530565849682262e-05)"
      ]
     },
     "execution_count": 130,
     "metadata": {},
     "output_type": "execute_result"
    }
   ],
   "source": [
    "x1-x2, y1-y2"
   ]
  },
  {
   "cell_type": "code",
   "execution_count": 133,
   "metadata": {
    "collapsed": false
   },
   "outputs": [
    {
     "name": "stdout",
     "output_type": "stream",
     "text": [
      "-77.0113095987\n"
     ]
    }
   ],
   "source": [
    "y = 38.951984744486694\n",
    "x = (x2-x1)*(y-y1)/(y2-y1)+x1\n",
    "print x"
   ]
  },
  {
   "cell_type": "code",
   "execution_count": 134,
   "metadata": {
    "collapsed": false
   },
   "outputs": [
    {
     "data": {
      "text/plain": [
       "((-77.01131675053101, 38.95233933180869),\n",
       " (-77.01130959873211, 38.951984744486694))"
      ]
     },
     "execution_count": 134,
     "metadata": {},
     "output_type": "execute_result"
    }
   ],
   "source": [
    "(x1,y1),(x,y)"
   ]
  },
  {
   "cell_type": "code",
   "execution_count": null,
   "metadata": {
    "collapsed": true
   },
   "outputs": [],
   "source": [
    "[(-77.01131675053101, 38.95233933180869), (-77.01130959873211, 38.951984744486694)]"
   ]
  }
 ],
 "metadata": {
  "kernelspec": {
   "display_name": "Python 2",
   "language": "python",
   "name": "python2"
  },
  "language_info": {
   "codemirror_mode": {
    "name": "ipython",
    "version": 2
   },
   "file_extension": ".py",
   "mimetype": "text/x-python",
   "name": "python",
   "nbconvert_exporter": "python",
   "pygments_lexer": "ipython2",
   "version": "2.7.11"
  }
 },
 "nbformat": 4,
 "nbformat_minor": 0
}
