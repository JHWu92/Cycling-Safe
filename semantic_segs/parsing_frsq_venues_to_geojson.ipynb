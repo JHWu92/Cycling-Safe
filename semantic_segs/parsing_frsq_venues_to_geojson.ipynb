{
 "cells": [
  {
   "cell_type": "markdown",
   "metadata": {},
   "source": [
    "From VENUES_DIR to EXTRACTED_VENUES"
   ]
  },
  {
   "cell_type": "code",
   "execution_count": 1,
   "metadata": {
    "collapsed": true
   },
   "outputs": [],
   "source": [
    "\n",
    "VENUES_DIR = '../data/output/4square/'\n",
    "import glob\n",
    "import csv\n",
    "import json\n",
    "from ast import literal_eval"
   ]
  },
  {
   "cell_type": "code",
   "execution_count": 2,
   "metadata": {
    "collapsed": true
   },
   "outputs": [],
   "source": [
    "import json"
   ]
  },
  {
   "cell_type": "code",
   "execution_count": 10,
   "metadata": {
    "collapsed": false,
    "scrolled": true
   },
   "outputs": [
    {
     "name": "stdout",
     "output_type": "stream",
     "text": [
      "../data/output/4square\\10000.txt\n",
      "../data/output/4square\\12000.txt\n",
      "../data/output/4square\\14000.txt\n",
      "../data/output/4square\\16000.txt\n",
      "../data/output/4square\\18000.txt\n",
      "../data/output/4square\\2000.txt\n",
      "../data/output/4square\\20000.txt\n",
      "../data/output/4square\\21481.txt\n",
      "../data/output/4square\\4000.txt\n",
      "../data/output/4square\\6000.txt\n",
      "../data/output/4square\\8000.txt\n"
     ]
    },
    {
     "data": {
      "text/plain": [
       "43004"
      ]
     },
     "execution_count": 10,
     "metadata": {},
     "output_type": "execute_result"
    }
   ],
   "source": [
    "import pandas as pd\n",
    "from pandas.io.json import json_normalize\n",
    "from IPython.display import display\n",
    "TARGET_KEYS = ['id', 'name', 'location', 'categories', 'verified', 'stats']\n",
    "all_venues = []\n",
    "\n",
    "for fn in glob.glob(VENUES_DIR+'*'):\n",
    "    print fn\n",
    "    with open(fn) as f:\n",
    "        for line in f:\n",
    "            swne, vcnt, data = line.split('\\t')\n",
    "            data = literal_eval(data)\n",
    "            venues = data['venues']\n",
    "            all_venues.extend(venues)\n",
    "\n",
    "len(all_venues)"
   ]
  },
  {
   "cell_type": "code",
   "execution_count": 27,
   "metadata": {
    "collapsed": true
   },
   "outputs": [],
   "source": [
    "df_venues = json_normalize(all_venues)"
   ]
  },
  {
   "cell_type": "code",
   "execution_count": 54,
   "metadata": {
    "collapsed": true
   },
   "outputs": [],
   "source": [
    "import shapely.geometry as shpgeo"
   ]
  },
  {
   "cell_type": "code",
   "execution_count": 55,
   "metadata": {
    "collapsed": false,
    "scrolled": true
   },
   "outputs": [],
   "source": [
    "df_venues['categories.name'] = df_venues.categories.apply(lambda x: x[0]['name'] if x else '')\n",
    "df_venues['categories.id'] = df_venues.categories.apply(lambda x: x[0]['id'] if x else '')\n",
    "df_venues['geometry'] = df_venues.apply(lambda x: shpgeo.Point(x['location.lng'], x['location.lat']), axis=1)"
   ]
  },
  {
   "cell_type": "code",
   "execution_count": 60,
   "metadata": {
    "collapsed": false,
    "scrolled": true
   },
   "outputs": [
    {
     "data": {
      "text/plain": [
       "True    2\n",
       "dtype: int64"
      ]
     },
     "execution_count": 60,
     "metadata": {},
     "output_type": "execute_result"
    }
   ],
   "source": [
    "df_venues['location.isFuzzed'].value_counts()"
   ]
  },
  {
   "cell_type": "code",
   "execution_count": 61,
   "metadata": {
    "collapsed": false,
    "scrolled": true
   },
   "outputs": [
    {
     "name": "stdout",
     "output_type": "stream",
     "text": [
      "display    42793\n",
      "0            211\n",
      "dtype: int64\n"
     ]
    },
    {
     "data": {
      "text/plain": [
       "1    42793\n",
       "0      211\n",
       "dtype: int64"
      ]
     },
     "execution_count": 61,
     "metadata": {},
     "output_type": "execute_result"
    }
   ],
   "source": [
    "print df_venues['location.labeledLatLngs'].apply(lambda x: x[0]['label'] if type(x)!=float else 0).value_counts()\n",
    "df_venues.apply(lambda x: (x['location.labeledLatLngs'][0]['lng']/x['location.lng'] )\n",
    "                            if type(x['location.labeledLatLngs'])!=float else 0, axis=1).value_counts()"
   ]
  },
  {
   "cell_type": "code",
   "execution_count": 68,
   "metadata": {
    "collapsed": false
   },
   "outputs": [],
   "source": [
    "columns_ = ['id', 'geometry', 'name', 'stats.checkinsCount', 'stats.tipCount', 'stats.usersCount','categories.name']\n",
    "df_no_dup = df_venues[columns].drop_duplicates('id').copy()"
   ]
  },
  {
   "cell_type": "code",
   "execution_count": 72,
   "metadata": {
    "collapsed": false
   },
   "outputs": [],
   "source": [
    "\n",
    "df_no_dup.columns = ['id', 'geometry', 'name', 'checkins', 'tips', 'users','category']\n"
   ]
  },
  {
   "cell_type": "code",
   "execution_count": 76,
   "metadata": {
    "collapsed": false
   },
   "outputs": [],
   "source": [
    "import geopandas as gp\n",
    "with open(EXTRACTED_VENUES, 'w') as f:\n",
    "    f.write(gp.GeoDataFrame(df_no_dup).to_json())"
   ]
  }
 ],
 "metadata": {
  "kernelspec": {
   "display_name": "Python 2",
   "language": "python",
   "name": "python2"
  },
  "language_info": {
   "codemirror_mode": {
    "name": "ipython",
    "version": 2
   },
   "file_extension": ".py",
   "mimetype": "text/x-python",
   "name": "python",
   "nbconvert_exporter": "python",
   "pygments_lexer": "ipython2",
   "version": "2.7.11"
  }
 },
 "nbformat": 4,
 "nbformat_minor": 0
}
