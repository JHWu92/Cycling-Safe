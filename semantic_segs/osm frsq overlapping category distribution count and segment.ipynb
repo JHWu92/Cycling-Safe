{
 "cells": [
  {
   "cell_type": "markdown",
   "metadata": {},
   "source": [
    "# Load raw FS and OSM data"
   ]
  },
  {
   "cell_type": "code",
   "execution_count": 1,
   "metadata": {
    "collapsed": true
   },
   "outputs": [],
   "source": [
    "from shapely.ops import cascaded_union\n",
    "from ast import literal_eval\n",
    "import sys, os\n",
    "sys.path.insert(0, os.path.abspath('../../'))\n",
    "from Cycling_Safe.utils.osm_helper import *\n",
    "from Cycling_Safe.utils.str_similarity import similarity\n",
    "import geopandas as gp\n",
    "from osmread import Node, Way, Relation\n",
    "import datetime\n",
    "import pandas as pd\n",
    "\n",
    "\n",
    "data_dir = '../data/'\n",
    "osm_data_dir = data_dir + 'osm/'\n",
    "category_in_dc_path = osm_data_dir +'osm_category_in_dc.txt'\n",
    "\n",
    "FRSQ_DIR ='../data/frsq/'\n",
    "FRSQ_GRAPH_DIR = FRSQ_DIR+'graphs/'\n",
    "SUFFIX = '_nearby'\n",
    "frsq_venues_path = FRSQ_DIR+ 'frsq_extracted_venues{}.geojson'.format(SUFFIX)\n",
    "frsq_venues_mapped_path = FRSQ_DIR+ 'frsq_extracted_venues_mapped{}.geojson'.format(SUFFIX)"
   ]
  },
  {
   "cell_type": "code",
   "execution_count": 2,
   "metadata": {
    "collapsed": false
   },
   "outputs": [
    {
     "data": {
      "text/plain": [
       "((33003, 4), (35284, 4))"
      ]
     },
     "execution_count": 2,
     "metadata": {},
     "output_type": "execute_result"
    }
   ],
   "source": [
    "category_in_dc_df = pd.read_csv(category_in_dc_path,index_col=0)\n",
    "category_in_dc_df.category = category_in_dc_df.category.apply(eval)\n",
    "exclude = 'exclude'\n",
    "category_in_dc_df['has_category'] = category_in_dc_df.category.apply(lambda x: (len(x)>0) and (exclude not in x))\n",
    "# category_in_dc_df[category_in_dc_df.category==set(['exclude'])]\n",
    "category_in_dc_df[category_in_dc_df.has_category].shape,\\\n",
    "category_in_dc_df[category_in_dc_df.category.apply(len)>0].shape"
   ]
  },
  {
   "cell_type": "code",
   "execution_count": 3,
   "metadata": {
    "collapsed": false
   },
   "outputs": [
    {
     "name": "stdout",
     "output_type": "stream",
     "text": [
      "begin reading osm 2016-12-12 13:27:44.910000\n",
      "finish reading osm 2016-12-12 13:28:55.385000\n",
      "[\"len of <class 'osmread.elements.Node'> = 2546260\", \"len of <class 'osmread.elements.Relation'> = 3427\", \"len of <class 'osmread.elements.Way'> = 306332\"]\n"
     ]
    }
   ],
   "source": [
    "\n",
    "OSM_DC_BBOX_PATH = '../data/osm/osm_dc_bbox.osm'\n",
    "OSM_DC_BBOX = osm_container(OSM_DC_BBOX_PATH)\n",
    "print OSM_DC_BBOX.data_size()\n"
   ]
  },
  {
   "cell_type": "code",
   "execution_count": 4,
   "metadata": {
    "collapsed": false
   },
   "outputs": [
    {
     "data": {
      "text/plain": [
       "(11769, 20017, 1217)"
      ]
     },
     "execution_count": 4,
     "metadata": {},
     "output_type": "execute_result"
    }
   ],
   "source": [
    "def keep_obj(osm_objs, df,osmtype, osmtype_str):\n",
    "    osm_ids = set(df[(df.type==osmtype_str) & (df['has_category']==True)].id.values)\n",
    "    return [obj for obj in osm_objs.osm_objs[osmtype] if obj.id in osm_ids]\n",
    "\n",
    "nodes_with_category = keep_obj(OSM_DC_BBOX, category_in_dc_df,Node, 'Node')\n",
    "ways_with_category = keep_obj(OSM_DC_BBOX, category_in_dc_df,Way, 'Way')\n",
    "rltns_with_category = keep_obj(OSM_DC_BBOX, category_in_dc_df,Relation, 'Relation')\n",
    "len(nodes_with_category), len(ways_with_category), len(rltns_with_category)"
   ]
  },
  {
   "cell_type": "markdown",
   "metadata": {},
   "source": [
    "# transform foursquare, OSM data into geopandas"
   ]
  },
  {
   "cell_type": "code",
   "execution_count": 5,
   "metadata": {
    "collapsed": false
   },
   "outputs": [],
   "source": [
    "sys.path.insert(0, os.path.abspath('../../'))\n",
    "from Cycling_Safe.utils.osm.osm2shp import *"
   ]
  },
  {
   "cell_type": "markdown",
   "metadata": {},
   "source": [
    "## resolve osm relation"
   ]
  },
  {
   "cell_type": "code",
   "execution_count": 6,
   "metadata": {
    "collapsed": false
   },
   "outputs": [],
   "source": [
    "rltn_pts = []\n",
    "rltn_lns = []\n",
    "\n",
    "for r in rltns_with_category:\n",
    "    shps = rltn2dictShp(OSM_DC_BBOX,r)\n",
    "    cnt = 0\n",
    "    pts = [(r.id,'{}_{}'.format(r.id,i+cnt), r.tags, pt, 'Relation') for i, pt in enumerate(shps['Point'])]\n",
    "    rltn_pts.extend(pts)\n",
    "    cnt+=len(shps['Point'])\n",
    "    lns = [(r.id,'{}_{}'.format(r.id,i+cnt), r.tags, pt, 'Relation') for i, pt in enumerate(shps['LineString'])]\n",
    "    rltn_lns.extend(lns)\n",
    "    cnt+=len(shps['LineString'])\n",
    "    polys = [(r.id,'{}_{}'.format(r.id,i+cnt), r.tags, pt, 'Relation') for i, pt in enumerate(shps['Polygon'])]\n",
    "    rltn_lns.extend(polys)\n",
    "    \n",
    "rltn_pts = pd.DataFrame(rltn_pts, columns=['id','id_keep','tag','geometry','type']).merge(category_in_dc_df)\n",
    "rltn_pts = rltn_pts.drop(['id','has_category'], axis=1)\n",
    "rltn_pts.columns = ['id','tag','geometry','type','category']\n",
    "\n",
    "rltn_lns = pd.DataFrame(rltn_lns, columns=['id','id_keep','tag','geometry','type']).merge(category_in_dc_df)\n",
    "rltn_lns = rltn_lns.drop(['id','has_category'], axis=1)\n",
    "rltn_lns.columns = ['id','tag','geometry','type','category']\n"
   ]
  },
  {
   "cell_type": "markdown",
   "metadata": {},
   "source": [
    "## get pts"
   ]
  },
  {
   "cell_type": "code",
   "execution_count": 7,
   "metadata": {
    "collapsed": true
   },
   "outputs": [],
   "source": [
    "pts_bfr = 5"
   ]
  },
  {
   "cell_type": "code",
   "execution_count": 8,
   "metadata": {
    "collapsed": false
   },
   "outputs": [],
   "source": [
    "pts = [(nd.id, nd.tags, node2pt(nd),'Node') for nd in nodes_with_category]\n",
    "pts_gpdf = gp.GeoDataFrame(pts, columns=['id','tag', 'geometry','type'])\n",
    "\n",
    "pts_gpdf = pts_gpdf.merge(category_in_dc_df).drop('has_category',axis=1)\n",
    "pts_gpdf = pts_gpdf.append(rltn_pts,ignore_index=True)\n",
    "# pts_gpdf.tag = pts_gpdf.tag.apply(str)\n",
    "\n",
    "pts_gpdf.crs = {'init': u'epsg:4326'}\n",
    "pts_gpdf_crs = pts_gpdf.to_crs(epsg=3559)\n",
    "pts_gpdf_crs.geometry = pts_gpdf_crs.buffer(pts_bfr)\n",
    "\n",
    "pts_gpdf_bfr = pts_gpdf_crs.to_crs(epsg=4326)\n",
    "pts_gpdf_bfr.columns=['id','tag','geometry','type','category']"
   ]
  },
  {
   "cell_type": "code",
   "execution_count": 9,
   "metadata": {
    "collapsed": false
   },
   "outputs": [],
   "source": [
    "venues_gpdf = gp.read_file(frsq_venues_mapped_path)\n",
    "\n",
    "venues_gpdf_crs = venues_gpdf.to_crs(epsg=3559)\n",
    "venues_gpdf_crs.geometry = venues_gpdf_crs.buffer(pts_bfr)\n",
    "\n",
    "venues_gpdf_bfr = venues_gpdf_crs.to_crs(epsg=4326)\n",
    "venues_gpdf_bfr = venues_gpdf_bfr.drop(['checkins','tips','users'],axis=1)\n",
    "venues_gpdf_bfr['type']='fq'\n",
    "venues_gpdf_bfr.columns=['tag','geometry','id','category','name','type']\n",
    "venues_gpdf_bfr = venues_gpdf_bfr[venues_gpdf_bfr.category!='no category']\n",
    "venues_gpdf_bfr.category = venues_gpdf_bfr.category.apply(lambda x: set([x]))"
   ]
  },
  {
   "cell_type": "markdown",
   "metadata": {},
   "source": [
    "## get lns or polys, append rltn lns"
   ]
  },
  {
   "cell_type": "code",
   "execution_count": 10,
   "metadata": {
    "collapsed": false
   },
   "outputs": [
    {
     "name": "stderr",
     "output_type": "stream",
     "text": [
      "Ring Self-intersection at or near point -77.020059900000007 38.815362499999999\n",
      "WARNING:shapely.geos:Ring Self-intersection at or near point -77.020059900000007 38.815362499999999\n"
     ]
    },
    {
     "name": "stdout",
     "output_type": "stream",
     "text": [
      "(20017, 5)\n",
      "(23956, 5)\n"
     ]
    },
    {
     "name": "stderr",
     "output_type": "stream",
     "text": [
      "D:\\���ѧϰ����\\Life in Maryland\\Research Project��CyclingSafe\\github\\Cycling_Safe\\utils\\osm\\osm2shp.py:30: UserWarning: way id=59249848 is not valid as a <class 'shapely.geometry.polygon.Polygon'>\n",
      "  warnings.warn(\"way id={} is not valid as a {}\".format(way.id, type(obj)))\n"
     ]
    }
   ],
   "source": [
    "lns = [(way.id, way.tags, way2lineOrpoly(OSM_DC_BBOX, way),'Way') for way in ways_with_category]\n",
    "lns_gpdf = gp.GeoDataFrame(lns, columns=['id','tag', 'geometry','type'])\n",
    "\n",
    "lns_gpdf = lns_gpdf.merge(category_in_dc_df[category_in_dc_df.has_category]).drop('has_category', axis=1)\n",
    "print lns_gpdf.shape\n",
    "\n",
    "lns_gpdf = lns_gpdf.append(rltn_lns,ignore_index=True)\n",
    "print lns_gpdf.shape\n",
    "\n",
    "# lns_gpdf.tag = lns_gpdf.tag.apply(str)\n",
    "\n",
    "lns_gpdf.columns=['id','tag','geometry','type','category']"
   ]
  },
  {
   "cell_type": "markdown",
   "metadata": {},
   "source": [
    "# find overlap"
   ]
  },
  {
   "cell_type": "markdown",
   "metadata": {},
   "source": [
    "## overlap between osm nodes and fq"
   ]
  },
  {
   "cell_type": "code",
   "execution_count": 11,
   "metadata": {
    "collapsed": false,
    "scrolled": true
   },
   "outputs": [],
   "source": [
    "fq_pts = gp.tools.sjoin(pts_gpdf_bfr, venues_gpdf_bfr)"
   ]
  },
  {
   "cell_type": "code",
   "execution_count": 12,
   "metadata": {
    "collapsed": false
   },
   "outputs": [
    {
     "data": {
      "text/plain": [
       "(3952, 11)"
      ]
     },
     "execution_count": 12,
     "metadata": {},
     "output_type": "execute_result"
    }
   ],
   "source": [
    "fq_pts.shape"
   ]
  },
  {
   "cell_type": "code",
   "execution_count": 13,
   "metadata": {
    "collapsed": false
   },
   "outputs": [
    {
     "data": {
      "text/html": [
       "<div>\n",
       "<table border=\"1\" class=\"dataframe\">\n",
       "  <thead>\n",
       "    <tr style=\"text-align: right;\">\n",
       "      <th></th>\n",
       "      <th>id_left</th>\n",
       "      <th>tag_left</th>\n",
       "      <th>geometry</th>\n",
       "      <th>type_left</th>\n",
       "      <th>category_left</th>\n",
       "      <th>index_right</th>\n",
       "      <th>tag_right</th>\n",
       "      <th>id_right</th>\n",
       "      <th>category_right</th>\n",
       "      <th>name</th>\n",
       "      <th>type_right</th>\n",
       "    </tr>\n",
       "  </thead>\n",
       "  <tbody>\n",
       "    <tr>\n",
       "      <th>8</th>\n",
       "      <td>49716664</td>\n",
       "      <td>{u'source': u'Bing', u'highway': u'crossing'}</td>\n",
       "      <td>POLYGON ((-77.00900476913097 38.88750470445696...</td>\n",
       "      <td>Node</td>\n",
       "      <td>set([cycling facilities])</td>\n",
       "      <td>11142</td>\n",
       "      <td>Government Building</td>\n",
       "      <td>4be09e4c98f2a5931cd8c25a</td>\n",
       "      <td>set([professional service])</td>\n",
       "      <td>Office of Rep. Chris Van Hollen (MD-08)</td>\n",
       "      <td>fq</td>\n",
       "    </tr>\n",
       "    <tr>\n",
       "      <th>22</th>\n",
       "      <td>49719415</td>\n",
       "      <td>{u'highway': u'traffic_signals'}</td>\n",
       "      <td>POLYGON ((-77.05696555480179 38.90525342812081...</td>\n",
       "      <td>Node</td>\n",
       "      <td>set([cycling facilities])</td>\n",
       "      <td>1506</td>\n",
       "      <td>Men's Store</td>\n",
       "      <td>5391f13f498e8a555acb7023</td>\n",
       "      <td>set([retail shop])</td>\n",
       "      <td>Ike Behar</td>\n",
       "      <td>fq</td>\n",
       "    </tr>\n",
       "    <tr>\n",
       "      <th>58</th>\n",
       "      <td>49732053</td>\n",
       "      <td>{u'highway': u'traffic_signals'}</td>\n",
       "      <td>POLYGON ((-77.05805425481758 38.90523442865798...</td>\n",
       "      <td>Node</td>\n",
       "      <td>set([cycling facilities])</td>\n",
       "      <td>1475</td>\n",
       "      <td>Bank</td>\n",
       "      <td>4bc0fb9874a9a593f019d1f6</td>\n",
       "      <td>set([professional service])</td>\n",
       "      <td>Wells Fargo</td>\n",
       "      <td>fq</td>\n",
       "    </tr>\n",
       "    <tr>\n",
       "      <th>64</th>\n",
       "      <td>49732286</td>\n",
       "      <td>{u'highway': u'traffic_signals'}</td>\n",
       "      <td>POLYGON ((-77.02800236543074 38.8920883138304,...</td>\n",
       "      <td>Node</td>\n",
       "      <td>set([cycling facilities])</td>\n",
       "      <td>10258</td>\n",
       "      <td>Art Gallery</td>\n",
       "      <td>4c27ccfc97d00f4725f13eea</td>\n",
       "      <td>set([art])</td>\n",
       "      <td>Michael Jackson's Fedora @Apollo Exhibit</td>\n",
       "      <td>fq</td>\n",
       "    </tr>\n",
       "    <tr>\n",
       "      <th>9321</th>\n",
       "      <td>3016605404</td>\n",
       "      <td>{u'highway': u'traffic_signals'}</td>\n",
       "      <td>POLYGON ((-77.02814476543053 38.89208861390066...</td>\n",
       "      <td>Node</td>\n",
       "      <td>set([cycling facilities])</td>\n",
       "      <td>10258</td>\n",
       "      <td>Art Gallery</td>\n",
       "      <td>4c27ccfc97d00f4725f13eea</td>\n",
       "      <td>set([art])</td>\n",
       "      <td>Michael Jackson's Fedora @Apollo Exhibit</td>\n",
       "      <td>fq</td>\n",
       "    </tr>\n",
       "    <tr>\n",
       "      <th>72</th>\n",
       "      <td>49734010</td>\n",
       "      <td>{u'highway': u'stop'}</td>\n",
       "      <td>POLYGON ((-77.01360948760406 38.86462800672898...</td>\n",
       "      <td>Node</td>\n",
       "      <td>set([cycling facilities])</td>\n",
       "      <td>12979</td>\n",
       "      <td>Government Building</td>\n",
       "      <td>4de4542fd164df8575287ffe</td>\n",
       "      <td>set([professional service])</td>\n",
       "      <td>National Response Center</td>\n",
       "      <td>fq</td>\n",
       "    </tr>\n",
       "    <tr>\n",
       "      <th>76</th>\n",
       "      <td>49734611</td>\n",
       "      <td>{u'highway': u'traffic_signals'}</td>\n",
       "      <td>POLYGON ((-77.04331293640715 38.92800152138454...</td>\n",
       "      <td>Node</td>\n",
       "      <td>set([cycling facilities])</td>\n",
       "      <td>14338</td>\n",
       "      <td>Bike Rental / Bike Share</td>\n",
       "      <td>4e54f80ad4c0fe0342802d27</td>\n",
       "      <td>set([cycling facilities])</td>\n",
       "      <td>Adams Mill &amp; Harvard Bikestation</td>\n",
       "      <td>fq</td>\n",
       "    </tr>\n",
       "    <tr>\n",
       "      <th>77</th>\n",
       "      <td>49734612</td>\n",
       "      <td>{u'source': u'survey', u'highway': u'traffic_s...</td>\n",
       "      <td>POLYGON ((-77.03876393272729 38.93255011914005...</td>\n",
       "      <td>Node</td>\n",
       "      <td>set([cycling facilities])</td>\n",
       "      <td>13548</td>\n",
       "      <td>Laundry Service</td>\n",
       "      <td>4be0a15bcb81c9b6bb7e668b</td>\n",
       "      <td>set([retail shop])</td>\n",
       "      <td>Lamont Cleaners</td>\n",
       "      <td>fq</td>\n",
       "    </tr>\n",
       "    <tr>\n",
       "      <th>10139</th>\n",
       "      <td>3378524030</td>\n",
       "      <td>{u'operator': u'United States Postal Service',...</td>\n",
       "      <td>POLYGON ((-77.03892363276702 38.93250101921883...</td>\n",
       "      <td>Node</td>\n",
       "      <td>set([professional service])</td>\n",
       "      <td>13548</td>\n",
       "      <td>Laundry Service</td>\n",
       "      <td>4be0a15bcb81c9b6bb7e668b</td>\n",
       "      <td>set([retail shop])</td>\n",
       "      <td>Lamont Cleaners</td>\n",
       "      <td>fq</td>\n",
       "    </tr>\n",
       "    <tr>\n",
       "      <th>11197</th>\n",
       "      <td>4082394066</td>\n",
       "      <td>{u'stop': u'minor', u'highway': u'stop'}</td>\n",
       "      <td>POLYGON ((-77.03888013276854 38.93249911919739...</td>\n",
       "      <td>Node</td>\n",
       "      <td>set([cycling facilities])</td>\n",
       "      <td>13548</td>\n",
       "      <td>Laundry Service</td>\n",
       "      <td>4be0a15bcb81c9b6bb7e668b</td>\n",
       "      <td>set([retail shop])</td>\n",
       "      <td>Lamont Cleaners</td>\n",
       "      <td>fq</td>\n",
       "    </tr>\n",
       "    <tr>\n",
       "      <th>78</th>\n",
       "      <td>49734615</td>\n",
       "      <td>{u'source': u'survey', u'highway': u'traffic_s...</td>\n",
       "      <td>POLYGON ((-77.0326513336996 38.93134601612411,...</td>\n",
       "      <td>Node</td>\n",
       "      <td>set([cycling facilities])</td>\n",
       "      <td>9580</td>\n",
       "      <td>Residential Building (Apartment / Condo)</td>\n",
       "      <td>559d2ee1498eda0fed1ec34d</td>\n",
       "      <td>set([residence])</td>\n",
       "      <td>The Herbert</td>\n",
       "      <td>fq</td>\n",
       "    </tr>\n",
       "    <tr>\n",
       "      <th>89</th>\n",
       "      <td>49737722</td>\n",
       "      <td>{u'highway': u'traffic_signals'}</td>\n",
       "      <td>POLYGON ((-77.05135945710234 38.90240402535479...</td>\n",
       "      <td>Node</td>\n",
       "      <td>set([cycling facilities])</td>\n",
       "      <td>2917</td>\n",
       "      <td>Home Service</td>\n",
       "      <td>56a5f623498e6a36842bedc8</td>\n",
       "      <td>set([retail shop])</td>\n",
       "      <td>2400 Pennsylvania Avenue Apartments</td>\n",
       "      <td>fq</td>\n",
       "    </tr>\n",
       "    <tr>\n",
       "      <th>90</th>\n",
       "      <td>49737875</td>\n",
       "      <td>{u'traffic_signals': u'signal', u'highway': u'...</td>\n",
       "      <td>POLYGON ((-77.00428395192243 38.90880230212771...</td>\n",
       "      <td>Node</td>\n",
       "      <td>set([cycling facilities])</td>\n",
       "      <td>19357</td>\n",
       "      <td>Other Great Outdoors</td>\n",
       "      <td>4e5b274a483b865169f56669</td>\n",
       "      <td>set([outdoors and recreation])</td>\n",
       "      <td>Dave Thomas Circle</td>\n",
       "      <td>fq</td>\n",
       "    </tr>\n",
       "    <tr>\n",
       "      <th>90</th>\n",
       "      <td>49737875</td>\n",
       "      <td>{u'traffic_signals': u'signal', u'highway': u'...</td>\n",
       "      <td>POLYGON ((-77.00428395192243 38.90880230212771...</td>\n",
       "      <td>Node</td>\n",
       "      <td>set([cycling facilities])</td>\n",
       "      <td>19367</td>\n",
       "      <td>Food Court</td>\n",
       "      <td>4f2d7a79e4b083c42743e1ef</td>\n",
       "      <td>set([food])</td>\n",
       "      <td>wings over dc</td>\n",
       "      <td>fq</td>\n",
       "    </tr>\n",
       "    <tr>\n",
       "      <th>102</th>\n",
       "      <td>49739609</td>\n",
       "      <td>{u'highway': u'traffic_signals'}</td>\n",
       "      <td>POLYGON ((-76.98544635887737 38.90019699283324...</td>\n",
       "      <td>Node</td>\n",
       "      <td>set([cycling facilities])</td>\n",
       "      <td>3166</td>\n",
       "      <td>Korean Restaurant</td>\n",
       "      <td>56f07414498e1422777598a0</td>\n",
       "      <td>set([food])</td>\n",
       "      <td>BAB Korean Fusion</td>\n",
       "      <td>fq</td>\n",
       "    </tr>\n",
       "    <tr>\n",
       "      <th>5773</th>\n",
       "      <td>775352984</td>\n",
       "      <td>{u'crossing': u'uncontrolled', u'crossing_ref'...</td>\n",
       "      <td>POLYGON ((-76.98559015887717 38.90019719290417...</td>\n",
       "      <td>Node</td>\n",
       "      <td>set([cycling facilities])</td>\n",
       "      <td>3166</td>\n",
       "      <td>Korean Restaurant</td>\n",
       "      <td>56f07414498e1422777598a0</td>\n",
       "      <td>set([food])</td>\n",
       "      <td>BAB Korean Fusion</td>\n",
       "      <td>fq</td>\n",
       "    </tr>\n",
       "    <tr>\n",
       "      <th>102</th>\n",
       "      <td>49739609</td>\n",
       "      <td>{u'highway': u'traffic_signals'}</td>\n",
       "      <td>POLYGON ((-76.98544635887737 38.90019699283324...</td>\n",
       "      <td>Node</td>\n",
       "      <td>set([cycling facilities])</td>\n",
       "      <td>3187</td>\n",
       "      <td>American Restaurant</td>\n",
       "      <td>5168a83be4b0088a3ce6ac2a</td>\n",
       "      <td>set([food])</td>\n",
       "      <td>rose's dejavu</td>\n",
       "      <td>fq</td>\n",
       "    </tr>\n",
       "    <tr>\n",
       "      <th>105</th>\n",
       "      <td>49739950</td>\n",
       "      <td>{u'source': u'survey', u'highway': u'traffic_s...</td>\n",
       "      <td>POLYGON ((-77.04262634072533 38.92266102104578...</td>\n",
       "      <td>Node</td>\n",
       "      <td>set([cycling facilities])</td>\n",
       "      <td>15074</td>\n",
       "      <td>Coffee Shop</td>\n",
       "      <td>4a97092ef964a520182820e3</td>\n",
       "      <td>set([food])</td>\n",
       "      <td>Starbucks</td>\n",
       "      <td>fq</td>\n",
       "    </tr>\n",
       "    <tr>\n",
       "      <th>118</th>\n",
       "      <td>49741058</td>\n",
       "      <td>{u'highway': u'stop'}</td>\n",
       "      <td>POLYGON ((-77.00051335887017 38.90020500026729...</td>\n",
       "      <td>Node</td>\n",
       "      <td>set([cycling facilities])</td>\n",
       "      <td>3480</td>\n",
       "      <td>Bus Station</td>\n",
       "      <td>4daecca60437710b813ab310</td>\n",
       "      <td>set([transportation])</td>\n",
       "      <td>X2 4th St NE &amp; H St Bus Stop</td>\n",
       "      <td>fq</td>\n",
       "    </tr>\n",
       "    <tr>\n",
       "      <th>5873</th>\n",
       "      <td>776586119</td>\n",
       "      <td>{u'highway': u'crossing'}</td>\n",
       "      <td>POLYGON ((-77.00059145887025 38.90020490030585...</td>\n",
       "      <td>Node</td>\n",
       "      <td>set([cycling facilities])</td>\n",
       "      <td>3480</td>\n",
       "      <td>Bus Station</td>\n",
       "      <td>4daecca60437710b813ab310</td>\n",
       "      <td>set([transportation])</td>\n",
       "      <td>X2 4th St NE &amp; H St Bus Stop</td>\n",
       "      <td>fq</td>\n",
       "    </tr>\n",
       "    <tr>\n",
       "      <th>8031</th>\n",
       "      <td>2791131134</td>\n",
       "      <td>{u'highway': u'crossing'}</td>\n",
       "      <td>POLYGON ((-77.00051385895687 38.90009770026756...</td>\n",
       "      <td>Node</td>\n",
       "      <td>set([cycling facilities])</td>\n",
       "      <td>3480</td>\n",
       "      <td>Bus Station</td>\n",
       "      <td>4daecca60437710b813ab310</td>\n",
       "      <td>set([transportation])</td>\n",
       "      <td>X2 4th St NE &amp; H St Bus Stop</td>\n",
       "      <td>fq</td>\n",
       "    </tr>\n",
       "    <tr>\n",
       "      <th>118</th>\n",
       "      <td>49741058</td>\n",
       "      <td>{u'highway': u'stop'}</td>\n",
       "      <td>POLYGON ((-77.00051335887017 38.90020500026729...</td>\n",
       "      <td>Node</td>\n",
       "      <td>set([cycling facilities])</td>\n",
       "      <td>3468</td>\n",
       "      <td>Salon / Barbershop</td>\n",
       "      <td>5643150538fa12a9224eff03</td>\n",
       "      <td>set([retail shop])</td>\n",
       "      <td>H St Hair</td>\n",
       "      <td>fq</td>\n",
       "    </tr>\n",
       "    <tr>\n",
       "      <th>5873</th>\n",
       "      <td>776586119</td>\n",
       "      <td>{u'highway': u'crossing'}</td>\n",
       "      <td>POLYGON ((-77.00059145887025 38.90020490030585...</td>\n",
       "      <td>Node</td>\n",
       "      <td>set([cycling facilities])</td>\n",
       "      <td>3468</td>\n",
       "      <td>Salon / Barbershop</td>\n",
       "      <td>5643150538fa12a9224eff03</td>\n",
       "      <td>set([retail shop])</td>\n",
       "      <td>H St Hair</td>\n",
       "      <td>fq</td>\n",
       "    </tr>\n",
       "    <tr>\n",
       "      <th>8042</th>\n",
       "      <td>2791131202</td>\n",
       "      <td>{u'highway': u'crossing'}</td>\n",
       "      <td>POLYGON ((-77.00041665887024 38.90020490021961...</td>\n",
       "      <td>Node</td>\n",
       "      <td>set([cycling facilities])</td>\n",
       "      <td>3468</td>\n",
       "      <td>Salon / Barbershop</td>\n",
       "      <td>5643150538fa12a9224eff03</td>\n",
       "      <td>set([retail shop])</td>\n",
       "      <td>H St Hair</td>\n",
       "      <td>fq</td>\n",
       "    </tr>\n",
       "    <tr>\n",
       "      <th>119</th>\n",
       "      <td>49741076</td>\n",
       "      <td>{u'highway': u'stop'}</td>\n",
       "      <td>POLYGON ((-77.00051435602411 38.90372700026779...</td>\n",
       "      <td>Node</td>\n",
       "      <td>set([cycling facilities])</td>\n",
       "      <td>1937</td>\n",
       "      <td>Office</td>\n",
       "      <td>5196607a498ea8ef674126c6</td>\n",
       "      <td>set([professional service])</td>\n",
       "      <td>1050 First Street- First Floor</td>\n",
       "      <td>fq</td>\n",
       "    </tr>\n",
       "    <tr>\n",
       "      <th>9848</th>\n",
       "      <td>3215048828</td>\n",
       "      <td>{u'highway': u'crossing'}</td>\n",
       "      <td>POLYGON ((-77.00051435607736 38.9036611002678,...</td>\n",
       "      <td>Node</td>\n",
       "      <td>set([cycling facilities])</td>\n",
       "      <td>1937</td>\n",
       "      <td>Office</td>\n",
       "      <td>5196607a498ea8ef674126c6</td>\n",
       "      <td>set([professional service])</td>\n",
       "      <td>1050 First Street- First Floor</td>\n",
       "      <td>fq</td>\n",
       "    </tr>\n",
       "    <tr>\n",
       "      <th>9853</th>\n",
       "      <td>3215048833</td>\n",
       "      <td>{u'highway': u'crossing'}</td>\n",
       "      <td>POLYGON ((-77.00060495602411 38.90372700031248...</td>\n",
       "      <td>Node</td>\n",
       "      <td>set([cycling facilities])</td>\n",
       "      <td>1937</td>\n",
       "      <td>Office</td>\n",
       "      <td>5196607a498ea8ef674126c6</td>\n",
       "      <td>set([professional service])</td>\n",
       "      <td>1050 First Street- First Floor</td>\n",
       "      <td>fq</td>\n",
       "    </tr>\n",
       "    <tr>\n",
       "      <th>121</th>\n",
       "      <td>49741170</td>\n",
       "      <td>{u'highway': u'traffic_signals'}</td>\n",
       "      <td>POLYGON ((-77.00051134182351 38.92129500026632...</td>\n",
       "      <td>Node</td>\n",
       "      <td>set([cycling facilities])</td>\n",
       "      <td>15328</td>\n",
       "      <td>Dive Bar</td>\n",
       "      <td>4df9b4b4b61c7e9df14d054b</td>\n",
       "      <td>set([nightlife spot])</td>\n",
       "      <td>The Bone Pit</td>\n",
       "      <td>fq</td>\n",
       "    </tr>\n",
       "    <tr>\n",
       "      <th>124</th>\n",
       "      <td>49741647</td>\n",
       "      <td>{u'highway': u'traffic_signals'}</td>\n",
       "      <td>POLYGON ((-77.04661016543443 38.89208972301151...</td>\n",
       "      <td>Node</td>\n",
       "      <td>set([cycling facilities])</td>\n",
       "      <td>10334</td>\n",
       "      <td>Police Station</td>\n",
       "      <td>4f71abffe4b02fc4362e4c4c</td>\n",
       "      <td>set([professional service])</td>\n",
       "      <td>Cop on a Segway</td>\n",
       "      <td>fq</td>\n",
       "    </tr>\n",
       "    <tr>\n",
       "      <th>126</th>\n",
       "      <td>49741663</td>\n",
       "      <td>{u'highway': u'traffic_signals'}</td>\n",
       "      <td>POLYGON ((-77.04660606289069 38.89523832300948...</td>\n",
       "      <td>Node</td>\n",
       "      <td>set([cycling facilities])</td>\n",
       "      <td>9871</td>\n",
       "      <td>Government Building</td>\n",
       "      <td>51cb17ac498e0d8ec2a88112</td>\n",
       "      <td>set([professional service])</td>\n",
       "      <td>State Dept - SA3</td>\n",
       "      <td>fq</td>\n",
       "    </tr>\n",
       "    <tr>\n",
       "      <th>...</th>\n",
       "      <td>...</td>\n",
       "      <td>...</td>\n",
       "      <td>...</td>\n",
       "      <td>...</td>\n",
       "      <td>...</td>\n",
       "      <td>...</td>\n",
       "      <td>...</td>\n",
       "      <td>...</td>\n",
       "      <td>...</td>\n",
       "      <td>...</td>\n",
       "      <td>...</td>\n",
       "    </tr>\n",
       "    <tr>\n",
       "      <th>11622</th>\n",
       "      <td>4350302655</td>\n",
       "      <td>{u'amenity': u'bicycle_parking', u'bicycle_par...</td>\n",
       "      <td>POLYGON ((-77.03178884632875 38.91572671569861...</td>\n",
       "      <td>Node</td>\n",
       "      <td>set([cycling facilities])</td>\n",
       "      <td>17374</td>\n",
       "      <td>Residential Building (Apartment / Condo)</td>\n",
       "      <td>52bd988411d2902f71745ae4</td>\n",
       "      <td>set([residence])</td>\n",
       "      <td>The Harper</td>\n",
       "      <td>fq</td>\n",
       "    </tr>\n",
       "    <tr>\n",
       "      <th>11622</th>\n",
       "      <td>4350302655</td>\n",
       "      <td>{u'amenity': u'bicycle_parking', u'bicycle_par...</td>\n",
       "      <td>POLYGON ((-77.03178884632875 38.91572671569861...</td>\n",
       "      <td>Node</td>\n",
       "      <td>set([cycling facilities])</td>\n",
       "      <td>17360</td>\n",
       "      <td>Optical Shop</td>\n",
       "      <td>53012c82498e2de03a503bde</td>\n",
       "      <td>set([retail shop])</td>\n",
       "      <td>Georgetown Optician</td>\n",
       "      <td>fq</td>\n",
       "    </tr>\n",
       "    <tr>\n",
       "      <th>11622</th>\n",
       "      <td>4350302655</td>\n",
       "      <td>{u'amenity': u'bicycle_parking', u'bicycle_par...</td>\n",
       "      <td>POLYGON ((-77.03178884632875 38.91572671569861...</td>\n",
       "      <td>Node</td>\n",
       "      <td>set([cycling facilities])</td>\n",
       "      <td>17380</td>\n",
       "      <td>Bus Line</td>\n",
       "      <td>4ff595b2e4b04619c6a74a64</td>\n",
       "      <td>set([transportation])</td>\n",
       "      <td>Bus Stop (50 Buses)</td>\n",
       "      <td>fq</td>\n",
       "    </tr>\n",
       "    <tr>\n",
       "      <th>11622</th>\n",
       "      <td>4350302655</td>\n",
       "      <td>{u'amenity': u'bicycle_parking', u'bicycle_par...</td>\n",
       "      <td>POLYGON ((-77.03178884632875 38.91572671569861...</td>\n",
       "      <td>Node</td>\n",
       "      <td>set([cycling facilities])</td>\n",
       "      <td>17379</td>\n",
       "      <td>Bus Station</td>\n",
       "      <td>50e9f5f8e4b0b7b974a9a065</td>\n",
       "      <td>set([transportation])</td>\n",
       "      <td>WMATA Bus Stop #1001631 (52, 53, 54)</td>\n",
       "      <td>fq</td>\n",
       "    </tr>\n",
       "    <tr>\n",
       "      <th>11637</th>\n",
       "      <td>4355640154</td>\n",
       "      <td>{u'artwork_type': u'statue', u'tourism': u'art...</td>\n",
       "      <td>POLYGON ((-77.06086064292991 38.91994243004258...</td>\n",
       "      <td>Node</td>\n",
       "      <td>set([outdoors and recreation])</td>\n",
       "      <td>16153</td>\n",
       "      <td>Embassy / Consulate</td>\n",
       "      <td>4c125d9582a3c9b64d8af9f8</td>\n",
       "      <td>set([professional service])</td>\n",
       "      <td>Embassy Of South Africa</td>\n",
       "      <td>fq</td>\n",
       "    </tr>\n",
       "    <tr>\n",
       "      <th>11638</th>\n",
       "      <td>4355640750</td>\n",
       "      <td>{u'network': u'WMATA Metrobus', u'bus': u'yes'...</td>\n",
       "      <td>POLYGON ((-77.03203645104937 38.90988681582079...</td>\n",
       "      <td>Node</td>\n",
       "      <td>set([transportation])</td>\n",
       "      <td>19604</td>\n",
       "      <td>Bus Line</td>\n",
       "      <td>4c4edb6fea24c9b65b2a5c16</td>\n",
       "      <td>set([transportation])</td>\n",
       "      <td>Circulator Stop - 14th and P</td>\n",
       "      <td>fq</td>\n",
       "    </tr>\n",
       "    <tr>\n",
       "      <th>11638</th>\n",
       "      <td>4355640750</td>\n",
       "      <td>{u'network': u'WMATA Metrobus', u'bus': u'yes'...</td>\n",
       "      <td>POLYGON ((-77.03203645104937 38.90988681582079...</td>\n",
       "      <td>Node</td>\n",
       "      <td>set([transportation])</td>\n",
       "      <td>19603</td>\n",
       "      <td>Real Estate Office</td>\n",
       "      <td>5441881f498efb053adc2451</td>\n",
       "      <td>set([professional service])</td>\n",
       "      <td>Sotheby's International Realty</td>\n",
       "      <td>fq</td>\n",
       "    </tr>\n",
       "    <tr>\n",
       "      <th>11638</th>\n",
       "      <td>4355640750</td>\n",
       "      <td>{u'network': u'WMATA Metrobus', u'bus': u'yes'...</td>\n",
       "      <td>POLYGON ((-77.03203645104937 38.90988681582079...</td>\n",
       "      <td>Node</td>\n",
       "      <td>set([transportation])</td>\n",
       "      <td>19605</td>\n",
       "      <td>Real Estate Office</td>\n",
       "      <td>4dd54101d4c0e6b33e4eb108</td>\n",
       "      <td>set([professional service])</td>\n",
       "      <td>TTR Sotheby's International Realty</td>\n",
       "      <td>fq</td>\n",
       "    </tr>\n",
       "    <tr>\n",
       "      <th>11661</th>\n",
       "      <td>4377972406</td>\n",
       "      <td>{u'covered': u'no', u'amenity': u'bicycle_park...</td>\n",
       "      <td>POLYGON ((-77.0700109542645 38.90592533455742,...</td>\n",
       "      <td>Node</td>\n",
       "      <td>set([cycling facilities])</td>\n",
       "      <td>1816</td>\n",
       "      <td>Bus Station</td>\n",
       "      <td>4c802915d34ca14352ca1680</td>\n",
       "      <td>set([transportation])</td>\n",
       "      <td>GUTS Shuttle Stop - Rosslyn at Car Barn</td>\n",
       "      <td>fq</td>\n",
       "    </tr>\n",
       "    <tr>\n",
       "      <th>11661</th>\n",
       "      <td>4377972406</td>\n",
       "      <td>{u'covered': u'no', u'amenity': u'bicycle_park...</td>\n",
       "      <td>POLYGON ((-77.0700109542645 38.90592533455742,...</td>\n",
       "      <td>Node</td>\n",
       "      <td>set([cycling facilities])</td>\n",
       "      <td>1820</td>\n",
       "      <td>Bus Station</td>\n",
       "      <td>4c7d7f795af8b60c68cc8f10</td>\n",
       "      <td>set([transportation])</td>\n",
       "      <td>GUTS Shuttle Stop -- Arlington Loop at Car Barn</td>\n",
       "      <td>fq</td>\n",
       "    </tr>\n",
       "    <tr>\n",
       "      <th>11671</th>\n",
       "      <td>4397971400</td>\n",
       "      <td>{u'operator': u'U.S. Postal Service', u'amenit...</td>\n",
       "      <td>POLYGON ((-77.03628965207707 38.90861651791932...</td>\n",
       "      <td>Node</td>\n",
       "      <td>set([professional service])</td>\n",
       "      <td>19666</td>\n",
       "      <td>General College &amp; University</td>\n",
       "      <td>4be1a2d5755dc9b65acf4592</td>\n",
       "      <td>set([schools&amp;university])</td>\n",
       "      <td>The Washington Center</td>\n",
       "      <td>fq</td>\n",
       "    </tr>\n",
       "    <tr>\n",
       "      <th>11676</th>\n",
       "      <td>4398003274</td>\n",
       "      <td>{u'operator': u'U.S. Postal Service', u'amenit...</td>\n",
       "      <td>POLYGON ((-77.05149645322791 38.90719832542236...</td>\n",
       "      <td>Node</td>\n",
       "      <td>set([professional service])</td>\n",
       "      <td>318</td>\n",
       "      <td>Elementary School</td>\n",
       "      <td>502e8af2e4b078fb5913fc55</td>\n",
       "      <td>set([schools&amp;university])</td>\n",
       "      <td>Francis Stevens Educational Campus</td>\n",
       "      <td>fq</td>\n",
       "    </tr>\n",
       "    <tr>\n",
       "      <th>11677</th>\n",
       "      <td>4401369306</td>\n",
       "      <td>{u'website': u'http://www.aag.org', u'name': u...</td>\n",
       "      <td>POLYGON ((-77.03659014849484 38.91304851806758...</td>\n",
       "      <td>Node</td>\n",
       "      <td>set([professional service])</td>\n",
       "      <td>18095</td>\n",
       "      <td>Laundry Service</td>\n",
       "      <td>4cdc738bcea2224b685b8b4c</td>\n",
       "      <td>set([retail shop])</td>\n",
       "      <td>The Chastleton Laundry Room</td>\n",
       "      <td>fq</td>\n",
       "    </tr>\n",
       "    <tr>\n",
       "      <th>11695</th>\n",
       "      <td>4408719966</td>\n",
       "      <td>{u'amenity': u'parking', u'capacity': u'1'}</td>\n",
       "      <td>POLYGON ((-77.06394552284064 38.94478323156451...</td>\n",
       "      <td>Node</td>\n",
       "      <td>set([transportation])</td>\n",
       "      <td>8224</td>\n",
       "      <td>Bike Rental / Bike Share</td>\n",
       "      <td>4e2cc0e87d8b7deda6df0926</td>\n",
       "      <td>set([cycling facilities])</td>\n",
       "      <td>Capital Bikeshare - Van Ness</td>\n",
       "      <td>fq</td>\n",
       "    </tr>\n",
       "    <tr>\n",
       "      <th>11718</th>\n",
       "      <td>4412518942</td>\n",
       "      <td>{u'crossing': u'zebra', u'highway': u'crossing'}</td>\n",
       "      <td>POLYGON ((-77.0294288718825 38.88410151453427,...</td>\n",
       "      <td>Node</td>\n",
       "      <td>set([cycling facilities])</td>\n",
       "      <td>11714</td>\n",
       "      <td>Office</td>\n",
       "      <td>50f595bde4b0be12e7fc5afe</td>\n",
       "      <td>set([professional service])</td>\n",
       "      <td>FEPOC</td>\n",
       "      <td>fq</td>\n",
       "    </tr>\n",
       "    <tr>\n",
       "      <th>11719</th>\n",
       "      <td>4412518950</td>\n",
       "      <td>{u'crossing': u'zebra', u'highway': u'crossing'}</td>\n",
       "      <td>POLYGON ((-77.02950557171604 38.88430761457211...</td>\n",
       "      <td>Node</td>\n",
       "      <td>set([cycling facilities])</td>\n",
       "      <td>11712</td>\n",
       "      <td>Coffee Shop</td>\n",
       "      <td>4a8adfc9f964a520ae0a20e3</td>\n",
       "      <td>set([food])</td>\n",
       "      <td>Starbucks</td>\n",
       "      <td>fq</td>\n",
       "    </tr>\n",
       "    <tr>\n",
       "      <th>11730</th>\n",
       "      <td>4421411506</td>\n",
       "      <td>{u'shop': u'dry_cleaning', u'opening_hours': u...</td>\n",
       "      <td>POLYGON ((-77.02105416229081 38.89597341040214...</td>\n",
       "      <td>Node</td>\n",
       "      <td>set([retail shop])</td>\n",
       "      <td>5728</td>\n",
       "      <td>Conference Room</td>\n",
       "      <td>50ed8e48e4b0183bd86f817f</td>\n",
       "      <td>set([professional service])</td>\n",
       "      <td>Clara Barton Conference Room</td>\n",
       "      <td>fq</td>\n",
       "    </tr>\n",
       "    <tr>\n",
       "      <th>11744</th>\n",
       "      <td>4429694165</td>\n",
       "      <td>{u'amenity': u'bicycle_rental', u'network': u'...</td>\n",
       "      <td>POLYGON ((-77.00592657122733 38.88490910293817...</td>\n",
       "      <td>Node</td>\n",
       "      <td>set([cycling facilities])</td>\n",
       "      <td>11537</td>\n",
       "      <td>Food Truck</td>\n",
       "      <td>5790ed0a498ec563a0cd52c5</td>\n",
       "      <td>set([food])</td>\n",
       "      <td>Peoples Food Truck</td>\n",
       "      <td>fq</td>\n",
       "    </tr>\n",
       "    <tr>\n",
       "      <th>11746</th>\n",
       "      <td>4433431823</td>\n",
       "      <td>{u'addr:housenumber': u'1346', u'website': u'h...</td>\n",
       "      <td>POLYGON ((-77.03078974277679 38.92012001520563...</td>\n",
       "      <td>Node</td>\n",
       "      <td>set([food])</td>\n",
       "      <td>15900</td>\n",
       "      <td>Coworking Space</td>\n",
       "      <td>4e7134828877753731cedd30</td>\n",
       "      <td>set([professional service])</td>\n",
       "      <td>GeekEasy</td>\n",
       "      <td>fq</td>\n",
       "    </tr>\n",
       "    <tr>\n",
       "      <th>11747</th>\n",
       "      <td>4436558787</td>\n",
       "      <td>{u'addr:housenumber': u'3216', u'amenity': u'b...</td>\n",
       "      <td>POLYGON ((-77.02360943436715 38.93051841166285...</td>\n",
       "      <td>Node</td>\n",
       "      <td>set([nightlife spot])</td>\n",
       "      <td>13741</td>\n",
       "      <td>Bar</td>\n",
       "      <td>57eb3114498e65b30d8036ce</td>\n",
       "      <td>set([nightlife spot])</td>\n",
       "      <td>Union Drinkery</td>\n",
       "      <td>fq</td>\n",
       "    </tr>\n",
       "    <tr>\n",
       "      <th>11748</th>\n",
       "      <td>4436597694</td>\n",
       "      <td>{u'operator': u'U.S. Postal Service', u'amenit...</td>\n",
       "      <td>POLYGON ((-77.06278795687139 38.9026954309936,...</td>\n",
       "      <td>Node</td>\n",
       "      <td>set([professional service])</td>\n",
       "      <td>3046</td>\n",
       "      <td>Bar</td>\n",
       "      <td>40b3de00f964a5201b001fe3</td>\n",
       "      <td>set([nightlife spot])</td>\n",
       "      <td>Mr. Smith's of Georgetown</td>\n",
       "      <td>fq</td>\n",
       "    </tr>\n",
       "    <tr>\n",
       "      <th>11748</th>\n",
       "      <td>4436597694</td>\n",
       "      <td>{u'operator': u'U.S. Postal Service', u'amenit...</td>\n",
       "      <td>POLYGON ((-77.06278795687139 38.9026954309936,...</td>\n",
       "      <td>Node</td>\n",
       "      <td>set([professional service])</td>\n",
       "      <td>3056</td>\n",
       "      <td>Bar</td>\n",
       "      <td>4f5e667de4b04ddc38985225</td>\n",
       "      <td>set([nightlife spot])</td>\n",
       "      <td>Chadwick's Up Bar</td>\n",
       "      <td>fq</td>\n",
       "    </tr>\n",
       "    <tr>\n",
       "      <th>11748</th>\n",
       "      <td>4436597694</td>\n",
       "      <td>{u'operator': u'U.S. Postal Service', u'amenit...</td>\n",
       "      <td>POLYGON ((-77.06278795687139 38.9026954309936,...</td>\n",
       "      <td>Node</td>\n",
       "      <td>set([professional service])</td>\n",
       "      <td>3057</td>\n",
       "      <td>Parking</td>\n",
       "      <td>4bc0ff61920eb713e8051a2c</td>\n",
       "      <td>set([transportation])</td>\n",
       "      <td>CPI Parking garage</td>\n",
       "      <td>fq</td>\n",
       "    </tr>\n",
       "    <tr>\n",
       "      <th>11764</th>\n",
       "      <td>4452279849</td>\n",
       "      <td>{u'addr:housenumber': u'1326', u'cuisine': u't...</td>\n",
       "      <td>POLYGON ((-77.03211685245046 38.90815331586045...</td>\n",
       "      <td>Node</td>\n",
       "      <td>set([food])</td>\n",
       "      <td>20458</td>\n",
       "      <td>Belgian Restaurant</td>\n",
       "      <td>511cffcde4b077257fe421b2</td>\n",
       "      <td>set([food])</td>\n",
       "      <td>B Too</td>\n",
       "      <td>fq</td>\n",
       "    </tr>\n",
       "    <tr>\n",
       "      <th>11764</th>\n",
       "      <td>4452279849</td>\n",
       "      <td>{u'addr:housenumber': u'1326', u'cuisine': u't...</td>\n",
       "      <td>POLYGON ((-77.03211685245046 38.90815331586045...</td>\n",
       "      <td>Node</td>\n",
       "      <td>set([food])</td>\n",
       "      <td>20459</td>\n",
       "      <td>Sushi Restaurant</td>\n",
       "      <td>4cddd0fd78ddf04d56a29698</td>\n",
       "      <td>set([food])</td>\n",
       "      <td>Baan Thai / Tsunami Sushi</td>\n",
       "      <td>fq</td>\n",
       "    </tr>\n",
       "    <tr>\n",
       "      <th>11764</th>\n",
       "      <td>4452279849</td>\n",
       "      <td>{u'addr:housenumber': u'1326', u'cuisine': u't...</td>\n",
       "      <td>POLYGON ((-77.03211685245046 38.90815331586045...</td>\n",
       "      <td>Node</td>\n",
       "      <td>set([food])</td>\n",
       "      <td>20460</td>\n",
       "      <td>Thai Restaurant</td>\n",
       "      <td>4a90346cf964a520891620e3</td>\n",
       "      <td>set([food])</td>\n",
       "      <td>Thai Tanic Restaurant</td>\n",
       "      <td>fq</td>\n",
       "    </tr>\n",
       "    <tr>\n",
       "      <th>11766</th>\n",
       "      <td>4460765203</td>\n",
       "      <td>{u'addr:housenumber': u'1310', u'amenity': u'r...</td>\n",
       "      <td>POLYGON ((-77.06344025314853 38.90730243131543...</td>\n",
       "      <td>Node</td>\n",
       "      <td>set([food])</td>\n",
       "      <td>404</td>\n",
       "      <td>Hotel</td>\n",
       "      <td>4bc5a406ccbcef3b67b9e6d2</td>\n",
       "      <td>set([outdoors and recreation])</td>\n",
       "      <td>The Georgetown Inn</td>\n",
       "      <td>fq</td>\n",
       "    </tr>\n",
       "    <tr>\n",
       "      <th>11766</th>\n",
       "      <td>4460765203</td>\n",
       "      <td>{u'addr:housenumber': u'1310', u'amenity': u'r...</td>\n",
       "      <td>POLYGON ((-77.06344025314853 38.90730243131543...</td>\n",
       "      <td>Node</td>\n",
       "      <td>set([food])</td>\n",
       "      <td>403</td>\n",
       "      <td>Bar</td>\n",
       "      <td>4b353c6af964a520732b25e3</td>\n",
       "      <td>set([nightlife spot])</td>\n",
       "      <td>Daily Grill - Georgetown</td>\n",
       "      <td>fq</td>\n",
       "    </tr>\n",
       "    <tr>\n",
       "      <th>11772</th>\n",
       "      <td>1029391_0</td>\n",
       "      <td>{u'building': u'office', u'type': u'site', u'n...</td>\n",
       "      <td>POLYGON ((-77.04001105812317 38.90113631975548...</td>\n",
       "      <td>Relation</td>\n",
       "      <td>set([professional service])</td>\n",
       "      <td>4162</td>\n",
       "      <td>Dentist's Office</td>\n",
       "      <td>4c3f1eceb8b4be9a5509cdef</td>\n",
       "      <td>set([professional service])</td>\n",
       "      <td>Dr. Christina Mills and Associates</td>\n",
       "      <td>fq</td>\n",
       "    </tr>\n",
       "    <tr>\n",
       "      <th>11772</th>\n",
       "      <td>1029391_0</td>\n",
       "      <td>{u'building': u'office', u'type': u'site', u'n...</td>\n",
       "      <td>POLYGON ((-77.04001105812317 38.90113631975548...</td>\n",
       "      <td>Relation</td>\n",
       "      <td>set([professional service])</td>\n",
       "      <td>4185</td>\n",
       "      <td>Dentist's Office</td>\n",
       "      <td>55549420498ee703d3cf7d02</td>\n",
       "      <td>set([professional service])</td>\n",
       "      <td>Dr. Alan Helig DDS</td>\n",
       "      <td>fq</td>\n",
       "    </tr>\n",
       "  </tbody>\n",
       "</table>\n",
       "<p>3952 rows × 11 columns</p>\n",
       "</div>"
      ],
      "text/plain": [
       "          id_left                                           tag_left  \\\n",
       "8        49716664      {u'source': u'Bing', u'highway': u'crossing'}   \n",
       "22       49719415                   {u'highway': u'traffic_signals'}   \n",
       "58       49732053                   {u'highway': u'traffic_signals'}   \n",
       "64       49732286                   {u'highway': u'traffic_signals'}   \n",
       "9321   3016605404                   {u'highway': u'traffic_signals'}   \n",
       "72       49734010                              {u'highway': u'stop'}   \n",
       "76       49734611                   {u'highway': u'traffic_signals'}   \n",
       "77       49734612  {u'source': u'survey', u'highway': u'traffic_s...   \n",
       "10139  3378524030  {u'operator': u'United States Postal Service',...   \n",
       "11197  4082394066           {u'stop': u'minor', u'highway': u'stop'}   \n",
       "78       49734615  {u'source': u'survey', u'highway': u'traffic_s...   \n",
       "89       49737722                   {u'highway': u'traffic_signals'}   \n",
       "90       49737875  {u'traffic_signals': u'signal', u'highway': u'...   \n",
       "90       49737875  {u'traffic_signals': u'signal', u'highway': u'...   \n",
       "102      49739609                   {u'highway': u'traffic_signals'}   \n",
       "5773    775352984  {u'crossing': u'uncontrolled', u'crossing_ref'...   \n",
       "102      49739609                   {u'highway': u'traffic_signals'}   \n",
       "105      49739950  {u'source': u'survey', u'highway': u'traffic_s...   \n",
       "118      49741058                              {u'highway': u'stop'}   \n",
       "5873    776586119                          {u'highway': u'crossing'}   \n",
       "8031   2791131134                          {u'highway': u'crossing'}   \n",
       "118      49741058                              {u'highway': u'stop'}   \n",
       "5873    776586119                          {u'highway': u'crossing'}   \n",
       "8042   2791131202                          {u'highway': u'crossing'}   \n",
       "119      49741076                              {u'highway': u'stop'}   \n",
       "9848   3215048828                          {u'highway': u'crossing'}   \n",
       "9853   3215048833                          {u'highway': u'crossing'}   \n",
       "121      49741170                   {u'highway': u'traffic_signals'}   \n",
       "124      49741647                   {u'highway': u'traffic_signals'}   \n",
       "126      49741663                   {u'highway': u'traffic_signals'}   \n",
       "...           ...                                                ...   \n",
       "11622  4350302655  {u'amenity': u'bicycle_parking', u'bicycle_par...   \n",
       "11622  4350302655  {u'amenity': u'bicycle_parking', u'bicycle_par...   \n",
       "11622  4350302655  {u'amenity': u'bicycle_parking', u'bicycle_par...   \n",
       "11622  4350302655  {u'amenity': u'bicycle_parking', u'bicycle_par...   \n",
       "11637  4355640154  {u'artwork_type': u'statue', u'tourism': u'art...   \n",
       "11638  4355640750  {u'network': u'WMATA Metrobus', u'bus': u'yes'...   \n",
       "11638  4355640750  {u'network': u'WMATA Metrobus', u'bus': u'yes'...   \n",
       "11638  4355640750  {u'network': u'WMATA Metrobus', u'bus': u'yes'...   \n",
       "11661  4377972406  {u'covered': u'no', u'amenity': u'bicycle_park...   \n",
       "11661  4377972406  {u'covered': u'no', u'amenity': u'bicycle_park...   \n",
       "11671  4397971400  {u'operator': u'U.S. Postal Service', u'amenit...   \n",
       "11676  4398003274  {u'operator': u'U.S. Postal Service', u'amenit...   \n",
       "11677  4401369306  {u'website': u'http://www.aag.org', u'name': u...   \n",
       "11695  4408719966        {u'amenity': u'parking', u'capacity': u'1'}   \n",
       "11718  4412518942   {u'crossing': u'zebra', u'highway': u'crossing'}   \n",
       "11719  4412518950   {u'crossing': u'zebra', u'highway': u'crossing'}   \n",
       "11730  4421411506  {u'shop': u'dry_cleaning', u'opening_hours': u...   \n",
       "11744  4429694165  {u'amenity': u'bicycle_rental', u'network': u'...   \n",
       "11746  4433431823  {u'addr:housenumber': u'1346', u'website': u'h...   \n",
       "11747  4436558787  {u'addr:housenumber': u'3216', u'amenity': u'b...   \n",
       "11748  4436597694  {u'operator': u'U.S. Postal Service', u'amenit...   \n",
       "11748  4436597694  {u'operator': u'U.S. Postal Service', u'amenit...   \n",
       "11748  4436597694  {u'operator': u'U.S. Postal Service', u'amenit...   \n",
       "11764  4452279849  {u'addr:housenumber': u'1326', u'cuisine': u't...   \n",
       "11764  4452279849  {u'addr:housenumber': u'1326', u'cuisine': u't...   \n",
       "11764  4452279849  {u'addr:housenumber': u'1326', u'cuisine': u't...   \n",
       "11766  4460765203  {u'addr:housenumber': u'1310', u'amenity': u'r...   \n",
       "11766  4460765203  {u'addr:housenumber': u'1310', u'amenity': u'r...   \n",
       "11772   1029391_0  {u'building': u'office', u'type': u'site', u'n...   \n",
       "11772   1029391_0  {u'building': u'office', u'type': u'site', u'n...   \n",
       "\n",
       "                                                geometry type_left  \\\n",
       "8      POLYGON ((-77.00900476913097 38.88750470445696...      Node   \n",
       "22     POLYGON ((-77.05696555480179 38.90525342812081...      Node   \n",
       "58     POLYGON ((-77.05805425481758 38.90523442865798...      Node   \n",
       "64     POLYGON ((-77.02800236543074 38.8920883138304,...      Node   \n",
       "9321   POLYGON ((-77.02814476543053 38.89208861390066...      Node   \n",
       "72     POLYGON ((-77.01360948760406 38.86462800672898...      Node   \n",
       "76     POLYGON ((-77.04331293640715 38.92800152138454...      Node   \n",
       "77     POLYGON ((-77.03876393272729 38.93255011914005...      Node   \n",
       "10139  POLYGON ((-77.03892363276702 38.93250101921883...      Node   \n",
       "11197  POLYGON ((-77.03888013276854 38.93249911919739...      Node   \n",
       "78     POLYGON ((-77.0326513336996 38.93134601612411,...      Node   \n",
       "89     POLYGON ((-77.05135945710234 38.90240402535479...      Node   \n",
       "90     POLYGON ((-77.00428395192243 38.90880230212771...      Node   \n",
       "90     POLYGON ((-77.00428395192243 38.90880230212771...      Node   \n",
       "102    POLYGON ((-76.98544635887737 38.90019699283324...      Node   \n",
       "5773   POLYGON ((-76.98559015887717 38.90019719290417...      Node   \n",
       "102    POLYGON ((-76.98544635887737 38.90019699283324...      Node   \n",
       "105    POLYGON ((-77.04262634072533 38.92266102104578...      Node   \n",
       "118    POLYGON ((-77.00051335887017 38.90020500026729...      Node   \n",
       "5873   POLYGON ((-77.00059145887025 38.90020490030585...      Node   \n",
       "8031   POLYGON ((-77.00051385895687 38.90009770026756...      Node   \n",
       "118    POLYGON ((-77.00051335887017 38.90020500026729...      Node   \n",
       "5873   POLYGON ((-77.00059145887025 38.90020490030585...      Node   \n",
       "8042   POLYGON ((-77.00041665887024 38.90020490021961...      Node   \n",
       "119    POLYGON ((-77.00051435602411 38.90372700026779...      Node   \n",
       "9848   POLYGON ((-77.00051435607736 38.9036611002678,...      Node   \n",
       "9853   POLYGON ((-77.00060495602411 38.90372700031248...      Node   \n",
       "121    POLYGON ((-77.00051134182351 38.92129500026632...      Node   \n",
       "124    POLYGON ((-77.04661016543443 38.89208972301151...      Node   \n",
       "126    POLYGON ((-77.04660606289069 38.89523832300948...      Node   \n",
       "...                                                  ...       ...   \n",
       "11622  POLYGON ((-77.03178884632875 38.91572671569861...      Node   \n",
       "11622  POLYGON ((-77.03178884632875 38.91572671569861...      Node   \n",
       "11622  POLYGON ((-77.03178884632875 38.91572671569861...      Node   \n",
       "11622  POLYGON ((-77.03178884632875 38.91572671569861...      Node   \n",
       "11637  POLYGON ((-77.06086064292991 38.91994243004258...      Node   \n",
       "11638  POLYGON ((-77.03203645104937 38.90988681582079...      Node   \n",
       "11638  POLYGON ((-77.03203645104937 38.90988681582079...      Node   \n",
       "11638  POLYGON ((-77.03203645104937 38.90988681582079...      Node   \n",
       "11661  POLYGON ((-77.0700109542645 38.90592533455742,...      Node   \n",
       "11661  POLYGON ((-77.0700109542645 38.90592533455742,...      Node   \n",
       "11671  POLYGON ((-77.03628965207707 38.90861651791932...      Node   \n",
       "11676  POLYGON ((-77.05149645322791 38.90719832542236...      Node   \n",
       "11677  POLYGON ((-77.03659014849484 38.91304851806758...      Node   \n",
       "11695  POLYGON ((-77.06394552284064 38.94478323156451...      Node   \n",
       "11718  POLYGON ((-77.0294288718825 38.88410151453427,...      Node   \n",
       "11719  POLYGON ((-77.02950557171604 38.88430761457211...      Node   \n",
       "11730  POLYGON ((-77.02105416229081 38.89597341040214...      Node   \n",
       "11744  POLYGON ((-77.00592657122733 38.88490910293817...      Node   \n",
       "11746  POLYGON ((-77.03078974277679 38.92012001520563...      Node   \n",
       "11747  POLYGON ((-77.02360943436715 38.93051841166285...      Node   \n",
       "11748  POLYGON ((-77.06278795687139 38.9026954309936,...      Node   \n",
       "11748  POLYGON ((-77.06278795687139 38.9026954309936,...      Node   \n",
       "11748  POLYGON ((-77.06278795687139 38.9026954309936,...      Node   \n",
       "11764  POLYGON ((-77.03211685245046 38.90815331586045...      Node   \n",
       "11764  POLYGON ((-77.03211685245046 38.90815331586045...      Node   \n",
       "11764  POLYGON ((-77.03211685245046 38.90815331586045...      Node   \n",
       "11766  POLYGON ((-77.06344025314853 38.90730243131543...      Node   \n",
       "11766  POLYGON ((-77.06344025314853 38.90730243131543...      Node   \n",
       "11772  POLYGON ((-77.04001105812317 38.90113631975548...  Relation   \n",
       "11772  POLYGON ((-77.04001105812317 38.90113631975548...  Relation   \n",
       "\n",
       "                        category_left  index_right  \\\n",
       "8           set([cycling facilities])        11142   \n",
       "22          set([cycling facilities])         1506   \n",
       "58          set([cycling facilities])         1475   \n",
       "64          set([cycling facilities])        10258   \n",
       "9321        set([cycling facilities])        10258   \n",
       "72          set([cycling facilities])        12979   \n",
       "76          set([cycling facilities])        14338   \n",
       "77          set([cycling facilities])        13548   \n",
       "10139     set([professional service])        13548   \n",
       "11197       set([cycling facilities])        13548   \n",
       "78          set([cycling facilities])         9580   \n",
       "89          set([cycling facilities])         2917   \n",
       "90          set([cycling facilities])        19357   \n",
       "90          set([cycling facilities])        19367   \n",
       "102         set([cycling facilities])         3166   \n",
       "5773        set([cycling facilities])         3166   \n",
       "102         set([cycling facilities])         3187   \n",
       "105         set([cycling facilities])        15074   \n",
       "118         set([cycling facilities])         3480   \n",
       "5873        set([cycling facilities])         3480   \n",
       "8031        set([cycling facilities])         3480   \n",
       "118         set([cycling facilities])         3468   \n",
       "5873        set([cycling facilities])         3468   \n",
       "8042        set([cycling facilities])         3468   \n",
       "119         set([cycling facilities])         1937   \n",
       "9848        set([cycling facilities])         1937   \n",
       "9853        set([cycling facilities])         1937   \n",
       "121         set([cycling facilities])        15328   \n",
       "124         set([cycling facilities])        10334   \n",
       "126         set([cycling facilities])         9871   \n",
       "...                               ...          ...   \n",
       "11622       set([cycling facilities])        17374   \n",
       "11622       set([cycling facilities])        17360   \n",
       "11622       set([cycling facilities])        17380   \n",
       "11622       set([cycling facilities])        17379   \n",
       "11637  set([outdoors and recreation])        16153   \n",
       "11638           set([transportation])        19604   \n",
       "11638           set([transportation])        19603   \n",
       "11638           set([transportation])        19605   \n",
       "11661       set([cycling facilities])         1816   \n",
       "11661       set([cycling facilities])         1820   \n",
       "11671     set([professional service])        19666   \n",
       "11676     set([professional service])          318   \n",
       "11677     set([professional service])        18095   \n",
       "11695           set([transportation])         8224   \n",
       "11718       set([cycling facilities])        11714   \n",
       "11719       set([cycling facilities])        11712   \n",
       "11730              set([retail shop])         5728   \n",
       "11744       set([cycling facilities])        11537   \n",
       "11746                     set([food])        15900   \n",
       "11747           set([nightlife spot])        13741   \n",
       "11748     set([professional service])         3046   \n",
       "11748     set([professional service])         3056   \n",
       "11748     set([professional service])         3057   \n",
       "11764                     set([food])        20458   \n",
       "11764                     set([food])        20459   \n",
       "11764                     set([food])        20460   \n",
       "11766                     set([food])          404   \n",
       "11766                     set([food])          403   \n",
       "11772     set([professional service])         4162   \n",
       "11772     set([professional service])         4185   \n",
       "\n",
       "                                      tag_right                  id_right  \\\n",
       "8                           Government Building  4be09e4c98f2a5931cd8c25a   \n",
       "22                                  Men's Store  5391f13f498e8a555acb7023   \n",
       "58                                         Bank  4bc0fb9874a9a593f019d1f6   \n",
       "64                                  Art Gallery  4c27ccfc97d00f4725f13eea   \n",
       "9321                                Art Gallery  4c27ccfc97d00f4725f13eea   \n",
       "72                          Government Building  4de4542fd164df8575287ffe   \n",
       "76                     Bike Rental / Bike Share  4e54f80ad4c0fe0342802d27   \n",
       "77                              Laundry Service  4be0a15bcb81c9b6bb7e668b   \n",
       "10139                           Laundry Service  4be0a15bcb81c9b6bb7e668b   \n",
       "11197                           Laundry Service  4be0a15bcb81c9b6bb7e668b   \n",
       "78     Residential Building (Apartment / Condo)  559d2ee1498eda0fed1ec34d   \n",
       "89                                 Home Service  56a5f623498e6a36842bedc8   \n",
       "90                         Other Great Outdoors  4e5b274a483b865169f56669   \n",
       "90                                   Food Court  4f2d7a79e4b083c42743e1ef   \n",
       "102                           Korean Restaurant  56f07414498e1422777598a0   \n",
       "5773                          Korean Restaurant  56f07414498e1422777598a0   \n",
       "102                         American Restaurant  5168a83be4b0088a3ce6ac2a   \n",
       "105                                 Coffee Shop  4a97092ef964a520182820e3   \n",
       "118                                 Bus Station  4daecca60437710b813ab310   \n",
       "5873                                Bus Station  4daecca60437710b813ab310   \n",
       "8031                                Bus Station  4daecca60437710b813ab310   \n",
       "118                          Salon / Barbershop  5643150538fa12a9224eff03   \n",
       "5873                         Salon / Barbershop  5643150538fa12a9224eff03   \n",
       "8042                         Salon / Barbershop  5643150538fa12a9224eff03   \n",
       "119                                      Office  5196607a498ea8ef674126c6   \n",
       "9848                                     Office  5196607a498ea8ef674126c6   \n",
       "9853                                     Office  5196607a498ea8ef674126c6   \n",
       "121                                    Dive Bar  4df9b4b4b61c7e9df14d054b   \n",
       "124                              Police Station  4f71abffe4b02fc4362e4c4c   \n",
       "126                         Government Building  51cb17ac498e0d8ec2a88112   \n",
       "...                                         ...                       ...   \n",
       "11622  Residential Building (Apartment / Condo)  52bd988411d2902f71745ae4   \n",
       "11622                              Optical Shop  53012c82498e2de03a503bde   \n",
       "11622                                  Bus Line  4ff595b2e4b04619c6a74a64   \n",
       "11622                               Bus Station  50e9f5f8e4b0b7b974a9a065   \n",
       "11637                       Embassy / Consulate  4c125d9582a3c9b64d8af9f8   \n",
       "11638                                  Bus Line  4c4edb6fea24c9b65b2a5c16   \n",
       "11638                        Real Estate Office  5441881f498efb053adc2451   \n",
       "11638                        Real Estate Office  4dd54101d4c0e6b33e4eb108   \n",
       "11661                               Bus Station  4c802915d34ca14352ca1680   \n",
       "11661                               Bus Station  4c7d7f795af8b60c68cc8f10   \n",
       "11671              General College & University  4be1a2d5755dc9b65acf4592   \n",
       "11676                         Elementary School  502e8af2e4b078fb5913fc55   \n",
       "11677                           Laundry Service  4cdc738bcea2224b685b8b4c   \n",
       "11695                  Bike Rental / Bike Share  4e2cc0e87d8b7deda6df0926   \n",
       "11718                                    Office  50f595bde4b0be12e7fc5afe   \n",
       "11719                               Coffee Shop  4a8adfc9f964a520ae0a20e3   \n",
       "11730                           Conference Room  50ed8e48e4b0183bd86f817f   \n",
       "11744                                Food Truck  5790ed0a498ec563a0cd52c5   \n",
       "11746                           Coworking Space  4e7134828877753731cedd30   \n",
       "11747                                       Bar  57eb3114498e65b30d8036ce   \n",
       "11748                                       Bar  40b3de00f964a5201b001fe3   \n",
       "11748                                       Bar  4f5e667de4b04ddc38985225   \n",
       "11748                                   Parking  4bc0ff61920eb713e8051a2c   \n",
       "11764                        Belgian Restaurant  511cffcde4b077257fe421b2   \n",
       "11764                          Sushi Restaurant  4cddd0fd78ddf04d56a29698   \n",
       "11764                           Thai Restaurant  4a90346cf964a520891620e3   \n",
       "11766                                     Hotel  4bc5a406ccbcef3b67b9e6d2   \n",
       "11766                                       Bar  4b353c6af964a520732b25e3   \n",
       "11772                          Dentist's Office  4c3f1eceb8b4be9a5509cdef   \n",
       "11772                          Dentist's Office  55549420498ee703d3cf7d02   \n",
       "\n",
       "                       category_right  \\\n",
       "8         set([professional service])   \n",
       "22                 set([retail shop])   \n",
       "58        set([professional service])   \n",
       "64                         set([art])   \n",
       "9321                       set([art])   \n",
       "72        set([professional service])   \n",
       "76          set([cycling facilities])   \n",
       "77                 set([retail shop])   \n",
       "10139              set([retail shop])   \n",
       "11197              set([retail shop])   \n",
       "78                   set([residence])   \n",
       "89                 set([retail shop])   \n",
       "90     set([outdoors and recreation])   \n",
       "90                        set([food])   \n",
       "102                       set([food])   \n",
       "5773                      set([food])   \n",
       "102                       set([food])   \n",
       "105                       set([food])   \n",
       "118             set([transportation])   \n",
       "5873            set([transportation])   \n",
       "8031            set([transportation])   \n",
       "118                set([retail shop])   \n",
       "5873               set([retail shop])   \n",
       "8042               set([retail shop])   \n",
       "119       set([professional service])   \n",
       "9848      set([professional service])   \n",
       "9853      set([professional service])   \n",
       "121             set([nightlife spot])   \n",
       "124       set([professional service])   \n",
       "126       set([professional service])   \n",
       "...                               ...   \n",
       "11622                set([residence])   \n",
       "11622              set([retail shop])   \n",
       "11622           set([transportation])   \n",
       "11622           set([transportation])   \n",
       "11637     set([professional service])   \n",
       "11638           set([transportation])   \n",
       "11638     set([professional service])   \n",
       "11638     set([professional service])   \n",
       "11661           set([transportation])   \n",
       "11661           set([transportation])   \n",
       "11671       set([schools&university])   \n",
       "11676       set([schools&university])   \n",
       "11677              set([retail shop])   \n",
       "11695       set([cycling facilities])   \n",
       "11718     set([professional service])   \n",
       "11719                     set([food])   \n",
       "11730     set([professional service])   \n",
       "11744                     set([food])   \n",
       "11746     set([professional service])   \n",
       "11747           set([nightlife spot])   \n",
       "11748           set([nightlife spot])   \n",
       "11748           set([nightlife spot])   \n",
       "11748           set([transportation])   \n",
       "11764                     set([food])   \n",
       "11764                     set([food])   \n",
       "11764                     set([food])   \n",
       "11766  set([outdoors and recreation])   \n",
       "11766           set([nightlife spot])   \n",
       "11772     set([professional service])   \n",
       "11772     set([professional service])   \n",
       "\n",
       "                                                  name type_right  \n",
       "8              Office of Rep. Chris Van Hollen (MD-08)         fq  \n",
       "22                                           Ike Behar         fq  \n",
       "58                                         Wells Fargo         fq  \n",
       "64            Michael Jackson's Fedora @Apollo Exhibit         fq  \n",
       "9321          Michael Jackson's Fedora @Apollo Exhibit         fq  \n",
       "72                            National Response Center         fq  \n",
       "76                    Adams Mill & Harvard Bikestation         fq  \n",
       "77                                     Lamont Cleaners         fq  \n",
       "10139                                  Lamont Cleaners         fq  \n",
       "11197                                  Lamont Cleaners         fq  \n",
       "78                                         The Herbert         fq  \n",
       "89                 2400 Pennsylvania Avenue Apartments         fq  \n",
       "90                                  Dave Thomas Circle         fq  \n",
       "90                                       wings over dc         fq  \n",
       "102                                  BAB Korean Fusion         fq  \n",
       "5773                                 BAB Korean Fusion         fq  \n",
       "102                                      rose's dejavu         fq  \n",
       "105                                          Starbucks         fq  \n",
       "118                       X2 4th St NE & H St Bus Stop         fq  \n",
       "5873                      X2 4th St NE & H St Bus Stop         fq  \n",
       "8031                      X2 4th St NE & H St Bus Stop         fq  \n",
       "118                                          H St Hair         fq  \n",
       "5873                                         H St Hair         fq  \n",
       "8042                                         H St Hair         fq  \n",
       "119                     1050 First Street- First Floor         fq  \n",
       "9848                    1050 First Street- First Floor         fq  \n",
       "9853                    1050 First Street- First Floor         fq  \n",
       "121                                       The Bone Pit         fq  \n",
       "124                                    Cop on a Segway         fq  \n",
       "126                                   State Dept - SA3         fq  \n",
       "...                                                ...        ...  \n",
       "11622                                       The Harper         fq  \n",
       "11622                              Georgetown Optician         fq  \n",
       "11622                              Bus Stop (50 Buses)         fq  \n",
       "11622             WMATA Bus Stop #1001631 (52, 53, 54)         fq  \n",
       "11637                          Embassy Of South Africa         fq  \n",
       "11638                     Circulator Stop - 14th and P         fq  \n",
       "11638                   Sotheby's International Realty         fq  \n",
       "11638               TTR Sotheby's International Realty         fq  \n",
       "11661          GUTS Shuttle Stop - Rosslyn at Car Barn         fq  \n",
       "11661  GUTS Shuttle Stop -- Arlington Loop at Car Barn         fq  \n",
       "11671                            The Washington Center         fq  \n",
       "11676               Francis Stevens Educational Campus         fq  \n",
       "11677                      The Chastleton Laundry Room         fq  \n",
       "11695                     Capital Bikeshare - Van Ness         fq  \n",
       "11718                                            FEPOC         fq  \n",
       "11719                                        Starbucks         fq  \n",
       "11730                     Clara Barton Conference Room         fq  \n",
       "11744                               Peoples Food Truck         fq  \n",
       "11746                                         GeekEasy         fq  \n",
       "11747                                   Union Drinkery         fq  \n",
       "11748                        Mr. Smith's of Georgetown         fq  \n",
       "11748                                Chadwick's Up Bar         fq  \n",
       "11748                               CPI Parking garage         fq  \n",
       "11764                                            B Too         fq  \n",
       "11764                        Baan Thai / Tsunami Sushi         fq  \n",
       "11764                            Thai Tanic Restaurant         fq  \n",
       "11766                               The Georgetown Inn         fq  \n",
       "11766                         Daily Grill - Georgetown         fq  \n",
       "11772               Dr. Christina Mills and Associates         fq  \n",
       "11772                               Dr. Alan Helig DDS         fq  \n",
       "\n",
       "[3952 rows x 11 columns]"
      ]
     },
     "execution_count": 13,
     "metadata": {},
     "output_type": "execute_result"
    }
   ],
   "source": [
    "fq_pts\n",
    "# over kill example\n",
    "# fq_pts[(fq_pts.apply(lambda x: len(x.category_right - x.category_left)==0, axis=1))]\n",
    "# fq_pts[(fq_pts.id_left==2276095966)]"
   ]
  },
  {
   "cell_type": "code",
   "execution_count": 14,
   "metadata": {
    "collapsed": false
   },
   "outputs": [],
   "source": [
    "fq_pts['name_left'] = fq_pts.tag_left.apply(lambda x: x.get('name',''))\n",
    "fq_pts['name_sml'] = fq_pts.apply(lambda x: similarity(x.name_left, x['name']),axis=1)"
   ]
  },
  {
   "cell_type": "code",
   "execution_count": 15,
   "metadata": {
    "collapsed": true
   },
   "outputs": [],
   "source": [
    "def connected_nodes(edges):\n",
    "    import networkx as nx\n",
    "    G = nx.Graph()\n",
    "    G.add_edges_from(edges)\n",
    "    return [x.nodes() for x in nx.connected_component_subgraphs(G)]\n",
    "def similar_name(row,threshold=0.8):\n",
    "    return row.name_sml>threshold\n",
    "def no_name_but_same_category(row):\n",
    "    if not row.name_sml==-1.0:\n",
    "        return False\n",
    "    return len(row.category_right - row.category_left)==0"
   ]
  },
  {
   "cell_type": "code",
   "execution_count": 16,
   "metadata": {
    "collapsed": false
   },
   "outputs": [
    {
     "name": "stdout",
     "output_type": "stream",
     "text": [
      "conn components:  1882\n",
      "(531, 15)\n",
      "similar name     433\n",
      "same category     98\n",
      "dtype: int64\n",
      "1    407\n",
      "2     44\n",
      "3      6\n",
      "5      2\n",
      "4      2\n",
      "dtype: int64\n"
     ]
    }
   ],
   "source": [
    "\n",
    "pairs = fq_pts[['id_left','id_right']].values\n",
    "conn_nodes = connected_nodes(pairs)\n",
    "print 'conn components: ',len(conn_nodes)\n",
    "mask_df = lambda df, x: df[(df.id_left.isin(x))|df.id_right.isin(x)]\n",
    "over_lap_dfs = []\n",
    "for idx,x in enumerate(conn_nodes):\n",
    "    x = set(x)\n",
    "    mask = mask_df(fq_pts,x)\n",
    "    assert set(mask[['id_left','id_right']].values.flatten())==x, (idx, x,mask)\n",
    "    mask_name_sml = mask[mask.apply(similar_name,axis=1)].copy()\n",
    "    if mask_name_sml.shape[0]>0:\n",
    "        mask_name_sml['criteria'] = 'similar name'\n",
    "        mask_name_sml['component_idx'] = idx\n",
    "        over_lap_dfs.append(mask_name_sml)\n",
    "    else:\n",
    "        mask_same_cateory = mask[mask.apply(no_name_but_same_category,axis=1)].copy()\n",
    "        mask_same_cateory['criteria'] = 'same category'\n",
    "        mask_same_cateory['component_idx'] = idx\n",
    "        over_lap_dfs.append(mask_same_cateory)    \n",
    "    \n",
    "fq_pts_overlap = pd.concat(over_lap_dfs)\n",
    "print fq_pts_overlap.shape\n",
    "print fq_pts_overlap.criteria.value_counts()\n",
    "print fq_pts_overlap.component_idx.value_counts().value_counts()"
   ]
  },
  {
   "cell_type": "code",
   "execution_count": 17,
   "metadata": {
    "collapsed": false
   },
   "outputs": [
    {
     "data": {
      "text/plain": [
       "((513L,), (521L,))"
      ]
     },
     "execution_count": 17,
     "metadata": {},
     "output_type": "execute_result"
    }
   ],
   "source": [
    "overlap_nodeid = np.unique(fq_pts_overlap.id_left)\n",
    "overlap_fqid = np.unique(fq_pts_overlap.id_right)\n",
    "overlap_nodeid.shape, overlap_fqid.shape"
   ]
  },
  {
   "cell_type": "code",
   "execution_count": 18,
   "metadata": {
    "collapsed": false
   },
   "outputs": [],
   "source": [
    "pts_not_overlap = pts_gpdf_bfr[~pts_gpdf_bfr.id.isin(overlap_nodeid)]\n",
    "fqs_not_overlap = venues_gpdf_bfr[~venues_gpdf_bfr.id.isin(overlap_fqid)]"
   ]
  },
  {
   "cell_type": "code",
   "execution_count": 19,
   "metadata": {
    "collapsed": false
   },
   "outputs": [],
   "source": [
    "overlap_merged = []\n",
    "for idx, row in fq_pts_overlap.iterrows():\n",
    "    oid, fqid = row.id_left, row.id_right\n",
    "    category = row.category_left | row.category_right\n",
    "    tag = str(row.tag_left) + '<br> FS:'+ row.tag_right\n",
    "    pts = [row.geometry]\n",
    "    venues_gpdf_bfr[venues_gpdf_bfr.id==fqid]\n",
    "    pts.append(venues_gpdf_bfr[venues_gpdf_bfr.id==fqid].geometry.values[0])\n",
    "    union_pts = cascaded_union(pts)\n",
    "    tp = row.type_left+'_fq'\n",
    "    overlap_merged.append((oid, tag, category, union_pts,tp))    \n",
    "overlap_merged = gp.GeoDataFrame(overlap_merged,columns=['id','tag','category','geometry','type'])"
   ]
  },
  {
   "cell_type": "code",
   "execution_count": 21,
   "metadata": {
    "collapsed": false
   },
   "outputs": [
    {
     "data": {
      "text/plain": [
       "((11268, 5), (17576, 6), (531, 5), (29375, 6))"
      ]
     },
     "execution_count": 21,
     "metadata": {},
     "output_type": "execute_result"
    }
   ],
   "source": [
    "pts_merged = pd.concat([pts_not_overlap, fqs_not_overlap, overlap_merged],ignore_index=True)\n",
    "pts_not_overlap.shape, fqs_not_overlap.shape, overlap_merged.shape, pts_merged.shape"
   ]
  },
  {
   "cell_type": "markdown",
   "metadata": {},
   "source": [
    "## overlap between osm ways"
   ]
  },
  {
   "cell_type": "code",
   "execution_count": 22,
   "metadata": {
    "collapsed": true
   },
   "outputs": [],
   "source": [
    "from Cycling_Safe.utils.geofunc import remove_equal_shpobj, merge_within"
   ]
  },
  {
   "cell_type": "code",
   "execution_count": 23,
   "metadata": {
    "collapsed": true
   },
   "outputs": [],
   "source": [
    "def get_sub_tree(tree_df, node_id, looping=0):\n",
    "    mask_node = (tree_df.node == node_id)\n",
    "    mask_children = (tree_df.parent == node_id)\n",
    "    assert looping < 100, 'looping too much nodeid:' + str(node_id)\n",
    "\n",
    "    node = tree_df[mask_node]\n",
    "    nid = node.node.values[0]\n",
    "    subtree = {nid}\n",
    "\n",
    "    children_id = tree_df[mask_children].node.values\n",
    "    if len(children_id) == 0:\n",
    "        return subtree, node.shape\n",
    "    \n",
    "    subtree.update(children_id)\n",
    "\n",
    "    for cid in children_id:\n",
    "        c_subtree, c_tree_shape = get_sub_tree(tree_df, cid, looping + 1)\n",
    "        subtree.update(c_subtree)\n",
    "    return subtree, node.shape"
   ]
  },
  {
   "cell_type": "code",
   "execution_count": 24,
   "metadata": {
    "collapsed": false
   },
   "outputs": [
    {
     "name": "stdout",
     "output_type": "stream",
     "text": [
      "begin merge within 2016-12-12 13:30:13.921000\n",
      "keep = 23319 equal pair = 637 (23319, 5) 2016-12-12 13:30:23.747000\n",
      "sjoin.shape = (34072, 10) 2016-12-12 13:31:05.812000\n",
      "messy tree shape = (34072, 2) 2016-12-12 13:31:05.839000\n",
      "clean tree shape = (23319, 3) 2016-12-12 13:31:18.782000\n"
     ]
    }
   ],
   "source": [
    "tree, tree_all_parent, tree_direct_parent, equal_pair_index = merge_within(lns_gpdf)\n",
    "tree = tree.apply(lambda x: x)"
   ]
  },
  {
   "cell_type": "code",
   "execution_count": 25,
   "metadata": {
    "collapsed": true
   },
   "outputs": [],
   "source": [
    "df_epi = pd.DataFrame(equal_pair_index,columns=['keep','equal'])"
   ]
  },
  {
   "cell_type": "code",
   "execution_count": 26,
   "metadata": {
    "collapsed": false
   },
   "outputs": [
    {
     "name": "stdout",
     "output_type": "stream",
     "text": [
      "1209\n",
      "2016-12-12 13:31:18.832000\n",
      "2016-12-12 13:31:32.250000\n",
      "0\n"
     ]
    }
   ],
   "source": [
    "nodes_have_children = tree_direct_parent[\n",
    "    (tree_direct_parent.node.isin(tree_direct_parent.parent.value_counts().index.tolist()))\n",
    "    & (tree_direct_parent.parent == -1)].node.tolist()\n",
    "print len(nodes_have_children)\n",
    "print datetime.datetime.now()\n",
    "sub_trees = []\n",
    "shape_error = []\n",
    "assert_error = []\n",
    "for node_id in nodes_have_children:\n",
    "    try:\n",
    "        subtree, shape = get_sub_tree(tree_direct_parent, node_id)\n",
    "    except Exception as e:\n",
    "        assert_error.append((node_id, e))\n",
    "        continue\n",
    "    if shape != (1, 7):\n",
    "        shape_error.append((node_id, subtree, shape))\n",
    "    sub_trees.append(subtree)\n",
    "print datetime.datetime.now()\n",
    "print len(assert_error)\n",
    "sub_trees = dict(zip(nodes_have_children, sub_trees))"
   ]
  },
  {
   "cell_type": "code",
   "execution_count": 27,
   "metadata": {
    "collapsed": false
   },
   "outputs": [],
   "source": [
    "new_category = []\n",
    "for idx, a in tree.iterrows():\n",
    "    equal_objs = lns_gpdf.loc[df_epi[df_epi.keep==idx].equal].category.values\n",
    "    c = set.union(*equal_objs) if len(equal_objs)>0 else set()\n",
    "    c.update(a.category)\n",
    "    if not idx in sub_trees:\n",
    "        new_category.append(c)\n",
    "    else:\n",
    "        subtree = sub_trees[idx]\n",
    "        c.update(set.union(*lns_gpdf.loc[list(subtree)].category.values))\n",
    "        new_category.append(c)\n"
   ]
  },
  {
   "cell_type": "code",
   "execution_count": 28,
   "metadata": {
    "collapsed": false,
    "scrolled": false
   },
   "outputs": [],
   "source": [
    "tree['category'] = new_category"
   ]
  },
  {
   "cell_type": "code",
   "execution_count": 29,
   "metadata": {
    "collapsed": false
   },
   "outputs": [
    {
     "data": {
      "text/plain": [
       "(14554, 5)"
      ]
     },
     "execution_count": 29,
     "metadata": {},
     "output_type": "execute_result"
    }
   ],
   "source": [
    "lns_merged = gp.GeoDataFrame(tree)\n",
    "\n",
    "lns_merged.crs={'init': 'epsg:4326', 'no_defs': True}\n",
    "lns_merged.shape"
   ]
  },
  {
   "cell_type": "markdown",
   "metadata": {},
   "source": [
    "##  (discard)overlap between ways and points"
   ]
  },
  {
   "cell_type": "code",
   "execution_count": 30,
   "metadata": {
    "collapsed": false
   },
   "outputs": [],
   "source": [
    "# lns_pts_overlap = gp.tools.sjoin(lns_merged, pts_merged)\n",
    "# # lns_pts_overlap = lns_pts_overlap[lns_pts_overlap.category_left==lns_pts_overlap.category_right]\n",
    "# lns_pts_overlap = lns_pts_overlap[lns_pts_overlap.apply(lambda x: len(x.category_right - x.category_left)==0, axis=1)]\n",
    "# pts_in_lns = pd.unique(lns_pts_overlap.index_right)\n",
    "# pts_not_in_lns = pts_merged.drop(pts_in_lns)"
   ]
  },
  {
   "cell_type": "markdown",
   "metadata": {},
   "source": [
    "### visualize data on the map"
   ]
  },
  {
   "cell_type": "code",
   "execution_count": 32,
   "metadata": {
    "collapsed": true
   },
   "outputs": [],
   "source": [
    "dc_segments = gp.read_file('../data/opendc_segments.geojson')"
   ]
  },
  {
   "cell_type": "code",
   "execution_count": 33,
   "metadata": {
    "collapsed": false
   },
   "outputs": [],
   "source": [
    "outliners_segid = eval(open('dc_outliners.txt').readlines()[0])\n",
    "outliners_segid = set(outliners_segid)\n",
    "dc_outliners = dc_segments[dc_segments.STREETSEGID.isin(outliners_segid)][['STREETSEGID','geometry']].copy()"
   ]
  },
  {
   "cell_type": "code",
   "execution_count": 34,
   "metadata": {
    "collapsed": false
   },
   "outputs": [],
   "source": [
    "dc_outliners['color']='#F00'"
   ]
  },
  {
   "cell_type": "code",
   "execution_count": 39,
   "metadata": {
    "collapsed": false
   },
   "outputs": [],
   "source": []
  },
  {
   "cell_type": "code",
   "execution_count": 40,
   "metadata": {
    "collapsed": false
   },
   "outputs": [],
   "source": [
    "lns_merged_vis = lns_merged.copy()\n",
    "lns_merged_vis['color'] = lns_merged_vis.apply(lambda x: {'Way':'#00F','Relation':'#0FF'}[x.type], axis=1)\n",
    "lns_merged_vis.category = lns_merged_vis.category.apply(str)\n",
    "lns_merged_vis.tag = lns_merged_vis.tag.apply(str)\n",
    "\n",
    "\n",
    "\n",
    "pts_merged_vis = pts_merged.copy()\n",
    "pts_merged_vis['color'] = pts_merged_vis.apply(lambda x: {'Node':'#F00', 'fq':'#0F0', 'Node_fq':'#FF0','Relation_fq':'#FF0', 'Relation':'#0FF'}[x.type],axis=1)\n",
    "pts_merged_vis.category = pts_merged_vis.category.apply(str)\n",
    "pts_merged_vis.tag = pts_merged_vis.tag.apply(lambda x: str({k.encode('utf-8'):v.encode('utf-8') for k, v in x.items()}) if type(x)==dict else x.encode('utf-8'))\n",
    "\n",
    "import Cycling_Safe.utils.leaflet_creation_v2;reload(Cycling_Safe.utils.leaflet_creation_v2)\n",
    "from Cycling_Safe.utils.leaflet_creation_v2 import get_color_for_df, create_map_visualization\n",
    "html_title = 'osm_frsq_with_category'\n",
    "file_path = '../data/'\n",
    "file_name = 'osm_frsq_with_category'\n",
    "lon, lat = -77.0163424758, 38.9047829846\n",
    "zoom = 12\n",
    "init_layer = ['light']\n",
    "map_layer = ['light','streets','satellite']\n",
    "binding_data = [['pts', 'points'], ['osm_lns','osm lines'],['dc_outliners','dc_outliners']]\n",
    "gpdfs = [pts_merged_vis, lns_merged_vis,dc_outliners]\n",
    "create_map_visualization(html_title, file_path, file_name, lat, lon, zoom, init_layer, map_layer, binding_data, gpdfs)"
   ]
  },
  {
   "cell_type": "markdown",
   "metadata": {},
   "source": [
    "## output category distribution"
   ]
  },
  {
   "cell_type": "markdown",
   "metadata": {},
   "source": [
    "### get data near segment"
   ]
  },
  {
   "cell_type": "code",
   "execution_count": 82,
   "metadata": {
    "collapsed": true
   },
   "outputs": [],
   "source": [
    "def crs_prepossess(gpdf, init_crs, bfr_crs):\n",
    "    gpdf_crs = gpdf.copy()\n",
    "    if gpdf_crs.crs==None:\n",
    "        gpdf_crs.crs = {'init': u'epsg:{}'.format(init_crs)}\n",
    "    return gpdf_crs.to_crs(epsg=bfr_crs)\n",
    "\n",
    "def bfr_20m(seg):\n",
    "    return seg.geometry.buffer(20)\n",
    "\n",
    "def get_objs_nearby(segments, objs, bfr_func, init_crs, bfr_crs):\n",
    "    seg_crs = crs_prepossess(segments, init_crs, bfr_crs)\n",
    "    obj_crs = crs_prepossess(objs, init_crs, bfr_crs)\n",
    "    seg_crs.geometry = seg_crs.apply(bfr_20m,axis=1)\n",
    "\n",
    "    sjoin = gp.tools.sjoin(seg_crs, obj_crs,op='intersects')\n",
    "    obj_ids_nearby = set(sjoin.index_right)\n",
    "    objs_nearby = objs[objs.index.isin(obj_ids_nearby)]\n",
    "    return sjoin,objs_nearby\n"
   ]
  },
  {
   "cell_type": "code",
   "execution_count": 112,
   "metadata": {
    "collapsed": false
   },
   "outputs": [],
   "source": [
    "\n",
    "semantic_data = lns_merged.append(pts_merged,ignore_index=True)\n",
    "semantic2seg, semantic_near = get_objs_nearby(dc_segments, semantic_data, bfr_20m, 4326, 3559)"
   ]
  },
  {
   "cell_type": "code",
   "execution_count": 114,
   "metadata": {
    "collapsed": false
   },
   "outputs": [
    {
     "data": {
      "text/plain": [
       "((113138, 28), (38233, 6))"
      ]
     },
     "execution_count": 114,
     "metadata": {},
     "output_type": "execute_result"
    }
   ],
   "source": [
    "semantic2seg.shape, semantic_near.shape"
   ]
  },
  {
   "cell_type": "markdown",
   "metadata": {},
   "source": [
    "### output category count distribution"
   ]
  },
  {
   "cell_type": "code",
   "execution_count": 115,
   "metadata": {
    "collapsed": false
   },
   "outputs": [
    {
     "data": {
      "text/plain": [
       "38233"
      ]
     },
     "execution_count": 115,
     "metadata": {},
     "output_type": "execute_result"
    }
   ],
   "source": [
    "list_mapped = semantic_near.category.apply(list).values\n",
    "len(list_mapped)"
   ]
  },
  {
   "cell_type": "code",
   "execution_count": 116,
   "metadata": {
    "collapsed": false
   },
   "outputs": [],
   "source": [
    "from collections import defaultdict\n",
    "def get_sum_categories(list_mapped):\n",
    "    sum_categories = defaultdict(int)\n",
    "    for mapped in list_mapped:\n",
    "        for c in list(mapped):\n",
    "            sum_categories[c]+=1\n",
    "    return sum_categories\n",
    "pd.DataFrame(get_sum_categories(list_mapped).items(),columns=['category','osm_plus_fq']).to_csv('../data/category_osm_fq.csv')"
   ]
  },
  {
   "cell_type": "markdown",
   "metadata": {
    "collapsed": true
   },
   "source": [
    "### output category segment distribution"
   ]
  },
  {
   "cell_type": "code",
   "execution_count": 117,
   "metadata": {
    "collapsed": false
   },
   "outputs": [
    {
     "data": {
      "text/plain": [
       "(12522, (13522, 22))"
      ]
     },
     "execution_count": 117,
     "metadata": {},
     "output_type": "execute_result"
    }
   ],
   "source": [
    "semantic_per_segment = {}\n",
    "for segid, grp in semantic2seg.groupby('STREETSEGID'):  \n",
    "#     print segid\n",
    "    semantic_per_segment[segid] = dict(get_sum_categories(grp.category.values))\n",
    "len(semantic_per_segment), dc_segments.shape"
   ]
  },
  {
   "cell_type": "code",
   "execution_count": 118,
   "metadata": {
    "collapsed": false
   },
   "outputs": [],
   "source": [
    "dc_segment_category = dc_segments[['STREETSEGID']].merge(pd.DataFrame(semantic_per_segment.items(),columns=['STREETSEGID','category']),how='left')"
   ]
  },
  {
   "cell_type": "code",
   "execution_count": 119,
   "metadata": {
    "collapsed": false
   },
   "outputs": [],
   "source": [
    "dc_segment_category['total'] = dc_segment_category.category.apply(lambda x: sum(x.values()) if type(x)!=float else 0)"
   ]
  },
  {
   "cell_type": "code",
   "execution_count": 120,
   "metadata": {
    "collapsed": false
   },
   "outputs": [],
   "source": [
    "labels = ['art','outdoors and recreation', 'retail shop', 'professional service', 'food', 'nightlife spot','residence','schools&university','cycling facilities','transportation']\n",
    "for l in labels:\n",
    "    dc_segment_category[l] = dc_segment_category.category.apply(lambda x: x.get(l,0) if type(x)!=float else 0)"
   ]
  },
  {
   "cell_type": "code",
   "execution_count": 121,
   "metadata": {
    "collapsed": false
   },
   "outputs": [],
   "source": [
    "dc_segment_category.drop('category',axis=1).to_csv('../data/category_osm_fq_per_segment.csv')"
   ]
  },
  {
   "cell_type": "code",
   "execution_count": null,
   "metadata": {
    "collapsed": true
   },
   "outputs": [],
   "source": []
  },
  {
   "cell_type": "code",
   "execution_count": null,
   "metadata": {
    "collapsed": true
   },
   "outputs": [],
   "source": []
  },
  {
   "cell_type": "code",
   "execution_count": null,
   "metadata": {
    "collapsed": true
   },
   "outputs": [],
   "source": []
  },
  {
   "cell_type": "code",
   "execution_count": null,
   "metadata": {
    "collapsed": true
   },
   "outputs": [],
   "source": []
  },
  {
   "cell_type": "code",
   "execution_count": null,
   "metadata": {
    "collapsed": true
   },
   "outputs": [],
   "source": []
  },
  {
   "cell_type": "code",
   "execution_count": null,
   "metadata": {
    "collapsed": true
   },
   "outputs": [],
   "source": []
  }
 ],
 "metadata": {
  "kernelspec": {
   "display_name": "Python 2",
   "language": "python",
   "name": "python2"
  },
  "language_info": {
   "codemirror_mode": {
    "name": "ipython",
    "version": 2
   },
   "file_extension": ".py",
   "mimetype": "text/x-python",
   "name": "python",
   "nbconvert_exporter": "python",
   "pygments_lexer": "ipython2",
   "version": "2.7.11"
  }
 },
 "nbformat": 4,
 "nbformat_minor": 0
}
