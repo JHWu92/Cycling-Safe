{
 "cells": [
  {
   "cell_type": "markdown",
   "metadata": {},
   "source": [
    "1. what kinds of bike lanes and how are they represented in OSM: https://wiki.openstreetmap.org/wiki/Bicycle\n",
    "2. The highway=cycleway tag indicates a separate way for the use of cyclists. http://wiki.openstreetmap.org/wiki/Tag:highway%3Dcycleway\n",
    "3. Add the cycleway=* tag to a highway=* to map cycling infrastructure that is an inherent part of the road\n",
    "4. pedestrian: http://wiki.openstreetmap.org/wiki/Pedestrian"
   ]
  },
  {
   "cell_type": "code",
   "execution_count": 1,
   "metadata": {
    "collapsed": true
   },
   "outputs": [],
   "source": [
    "%matplotlib inline \n",
    "import geopandas as gp\n",
    "from osmread import Node, Way, Relation\n",
    "import datetime\n",
    "import pandas as pd\n"
   ]
  },
  {
   "cell_type": "markdown",
   "metadata": {},
   "source": [
    "# read osm raw"
   ]
  },
  {
   "cell_type": "code",
   "execution_count": 2,
   "metadata": {
    "collapsed": false,
    "scrolled": true
   },
   "outputs": [
    {
     "name": "stdout",
     "output_type": "stream",
     "text": [
      "begin reading osm 2016-12-17 21:48:28.419000\n",
      "finish reading osm 2016-12-17 21:49:42.081000\n",
      "[\"len of <class 'osmread.elements.Node'> = 2546260\", \"len of <class 'osmread.elements.Way'> = 306332\", \"len of <class 'osmread.elements.Relation'> = 3427\"]\n"
     ]
    }
   ],
   "source": [
    "from utils.osm_helper import *\n",
    "OSM_DC_BBOX_PATH = 'data/osm/osm_dc_bbox.osm'\n",
    "OSM_DC_BBOX = osm_container(OSM_DC_BBOX_PATH)\n",
    "print OSM_DC_BBOX.data_size()"
   ]
  },
  {
   "cell_type": "code",
   "execution_count": 3,
   "metadata": {
    "collapsed": false
   },
   "outputs": [
    {
     "name": "stdout",
     "output_type": "stream",
     "text": [
      "Node 1652906\n",
      "Relation 2556\n",
      "Way 194767\n"
     ]
    },
    {
     "data": {
      "text/plain": [
       "(194767, 1652906, 2556)"
      ]
     },
     "execution_count": 3,
     "metadata": {},
     "output_type": "execute_result"
    }
   ],
   "source": [
    "DC_OSM_IDS_PATH ='data/osm/osm_ids_within_dc_polygon.txt'\n",
    "DC_OSM_IDS={}\n",
    "with open(DC_OSM_IDS_PATH) as f:\n",
    "    DC_OSM_IDS = eval(f.readlines()[0])\n",
    "for key, value in DC_OSM_IDS.items():\n",
    "    print key, len(value)\n",
    "     \n",
    "def dc_obj(osm_objs, osm_ids, osmtype, osmtype_str):\n",
    "    return [obj for obj in osm_objs.osm_objs[osmtype] if obj.id in osm_ids[osmtype_str]]\n",
    "\n",
    "DC_NODES = dc_obj(OSM_DC_BBOX, DC_OSM_IDS,Node, 'Node')\n",
    "DC_WAYS = dc_obj(OSM_DC_BBOX, DC_OSM_IDS, Way, 'Way')\n",
    "DC_RLTNS = dc_obj(OSM_DC_BBOX, DC_OSM_IDS, Relation, 'Relation')\n",
    "len(DC_WAYS), len(DC_NODES), len(DC_RLTNS)"
   ]
  },
  {
   "cell_type": "code",
   "execution_count": 4,
   "metadata": {
    "collapsed": true
   },
   "outputs": [],
   "source": [
    "import utils.osm.osmFilter; reload(utils.osm.osmFilter)\n",
    "from utils.osm.osmFilter import *"
   ]
  },
  {
   "cell_type": "code",
   "execution_count": 5,
   "metadata": {
    "collapsed": false
   },
   "outputs": [
    {
     "data": {
      "text/plain": [
       "(2764, 7548, 26)"
      ]
     },
     "execution_count": 5,
     "metadata": {},
     "output_type": "execute_result"
    }
   ],
   "source": [
    "bk_nodes = [o for o in DC_NODES if filter_is_bike_facilities(o)]\n",
    "bk_ways = [o for o in DC_WAYS if filter_is_bike_facilities(o)]\n",
    "bk_rltns = [o for o in DC_RLTNS if filter_is_bike_facilities(o)]\n",
    "len(bk_nodes), len(bk_ways), len(bk_rltns)\n",
    "# bk_nodes[:10]"
   ]
  },
  {
   "cell_type": "code",
   "execution_count": 6,
   "metadata": {
    "collapsed": false
   },
   "outputs": [],
   "source": [
    "tag_for_pattern = ['highway', 'cycleway', 'cycleway:left', 'cycleway:right', 'cycleway:both',\n",
    "     'oneway:bicycle', 'bicycle', 'bicycle:lanes', 'bicycle:backward',\n",
    "     'amenity', 'foot', 'sidewalk','oneway',\n",
    "    'lanes']\n",
    "## TODO: highway='footway', footway=sidewalk"
   ]
  },
  {
   "cell_type": "code",
   "execution_count": 7,
   "metadata": {
    "collapsed": false
   },
   "outputs": [],
   "source": [
    "\n",
    "bk_type = {\n",
    "    'L1a_1': [('highway','*'), ('cycleway','lane')],\n",
    "    'L1a_2': [('highway','*'),('cycleway:left','lane'),('cycleway:right','lane'),],\n",
    "    'L1a_3': [('highway','*'),('cycleway:both','lane'),],\n",
    "    'L1b_1': [('highway','*'),('cycleway:right','lane'),('oneway:bicycle','no')],\n",
    "    'L1b_2': [('highway','*'), ('cycleway','lane')],\n",
    "    'L2': [('highway','*'),('cycleway:right','lane'),('-oneway:bicycle','no')],\n",
    "    'M1_1': [('highway','*'),('oneway','yes'),('cycleway','lane'),('oneway:bicycle','no')],\n",
    "    'M1_2': [('highway','*'),('oneway','yes'),('cycleway:left','opposite_lane'),('cycleway:right','lane')],\n",
    "    'M2a_1': [('highway','*'),('oneway','yes'),('cycleway:right','lane')],\n",
    "    'M2a_2': [('highway','*'),('oneway','yes'),('cycleway','lane')],\n",
    "    'M2b_1': [('highway','*'),('oneway','yes'),('cycleway:left','lane'),('-oneway:bicycle','no')],\n",
    "    'M2b_2': [('highway','*'),('oneway','yes'),('cycleway','lane')],\n",
    "    'M2c': [('highway','*'),('oneway','yes'),('cycleway','lane'),('lanes',['2',2])],\n",
    "    'M2d': [('highway','*'),('oneway','yes'),('cycleway:left','lane'),('oneway:bicycle','no'),],\n",
    "    'M3a_1': [('highway','*'), ('oneway','yes'),('oneway:bicycle','no'),('cycleway:left','opposite_lane')],\n",
    "    'M3a_2': [('highway','*'), ('oneway','yes'),('oneway:bicycle','no'),('cycleway','opposite_lane')],\n",
    "    'M3b_1': [('highway','*'), ('oneway','yes'),('oneway:bicycle','no'),('cycleway:right','opposite_lane')],\n",
    "    'M3b_2': [('highway','*'), ('oneway','yes'),('oneway:bicycle','no'),('cycleway','opposite_lane')],\n",
    "    'M4_1': [('highway','*'),('oneway','yes'),('cycleway:right','lane')],\n",
    "    'M4_2': [('highway','*'),('oneway','yes'),('cycleway','lane')],\n",
    "    'M4_3': [('highway','*'), ('cycleway','lane')],\n",
    "    'M4_3': [('highway','*'),('cycleway:left','lane'),('cycleway:right','lane'),],\n",
    "    'M4_5': [('highway','*'),('cycleway:both','lane'),],\n",
    "    \n",
    "    'T1_1':[('highway','*'),('bicycle','use_sidepath')],\n",
    "    'T1_2':[('highway','cycleway'),('oneway','yes')],\n",
    "    'T1_3':[('highway','*'),('cycleway','track')],\n",
    "    'T2_1':[('highway','*'),('bicycle','use_sidepath')],\n",
    "    'T2_2':[('highway','cycleway'),('oneway','no')],\n",
    "    'T2_3':[('highway','*'),('cycleway:right','track')],\n",
    "\n",
    "    'T3_1':[('highway','*'),('bicycle','use_sidepath')],\n",
    "    'T3_2':[('highway','cycleway'),('oneway','no')],\n",
    "    'T3_3':[('highway','*'),('oneway','yes'),('cycleway:right','track'),('oneway:bicycle','no')],    \n",
    "\n",
    "    'T4_1':[('highway','*'),('bicycle','use_sidepath')],\n",
    "    'T4_2':[('highway','cycleway'),('oneway','yes')],\n",
    "    'T4_3':[('highway','*'),('cycleway:right','track')],    \n",
    "    \n",
    "    'S1_1':[('highway','*'),('oneway','yes'),('oneway:bicycle','no')],\n",
    "    'S1_2':[('highway','*'),('oneway','yes'),('cycleway','opposite')],\n",
    "    \n",
    "    \n",
    "    'foot':[('highway','footway'),],\n",
    "    'pedestrian': [('highway','pedestrian'),],\n",
    "    'sidewalk':[('sidewalk','*'),],\n",
    "    'M2d_my': [('highway','service'), ('cycleway:left','opposite_lane'), ('oneway','yes')],\n",
    "    'M1_my':[('highway','secondary'), ('cycleway','opposite_lane'), ('bicycle','designated'), ('oneway','yes'), ('lanes','1')]\n",
    "    \n",
    "} \n",
    "\n"
   ]
  },
  {
   "cell_type": "code",
   "execution_count": 8,
   "metadata": {
    "collapsed": false
   },
   "outputs": [],
   "source": [
    "tags_ways = []\n",
    "for w in bk_ways:\n",
    "    tags_ways.append([w.id]+[w.tags.get(t,None) for t in tag_for_pattern])\n"
   ]
  },
  {
   "cell_type": "code",
   "execution_count": 9,
   "metadata": {
    "collapsed": true
   },
   "outputs": [],
   "source": [
    "vectors = pd.DataFrame(tags_ways, columns=['id']+tag_for_pattern)"
   ]
  },
  {
   "cell_type": "code",
   "execution_count": 10,
   "metadata": {
    "collapsed": false
   },
   "outputs": [],
   "source": [
    "def pattern(row):\n",
    "    a =row.dropna()[1:]\n",
    "    return tuple(['{}={}'.format(k,v) for k,v in zip(a.index.tolist(), a.tolist())])\n"
   ]
  },
  {
   "cell_type": "code",
   "execution_count": 11,
   "metadata": {
    "collapsed": false
   },
   "outputs": [],
   "source": [
    "vectors['pattern']=vectors.apply(pattern,axis=1)"
   ]
  },
  {
   "cell_type": "code",
   "execution_count": 56,
   "metadata": {
    "collapsed": false
   },
   "outputs": [
    {
     "data": {
      "text/plain": [
       "(453, 7)"
      ]
     },
     "execution_count": 56,
     "metadata": {},
     "output_type": "execute_result"
    }
   ],
   "source": [
    "pattern2category = pd.read_csv('bk_pattern2category.tsv',sep='\\t')\n",
    "pattern2category.pattern = pattern2category.pattern.apply(eval)\n",
    "pattern2category.shape"
   ]
  },
  {
   "cell_type": "code",
   "execution_count": 57,
   "metadata": {
    "collapsed": false
   },
   "outputs": [
    {
     "data": {
      "text/plain": [
       "(7548, 16)"
      ]
     },
     "execution_count": 57,
     "metadata": {},
     "output_type": "execute_result"
    }
   ],
   "source": [
    "vectors.shape"
   ]
  },
  {
   "cell_type": "code",
   "execution_count": 59,
   "metadata": {
    "collapsed": false
   },
   "outputs": [
    {
     "data": {
      "text/plain": [
       "(7548, 22)"
      ]
     },
     "execution_count": 59,
     "metadata": {},
     "output_type": "execute_result"
    }
   ],
   "source": [
    "vectors = vectors.merge(pattern2category_new,left_on='pattern',right_on='pattern',how='left')\n",
    "vectors.shape"
   ]
  },
  {
   "cell_type": "code",
   "execution_count": 148,
   "metadata": {
    "collapsed": false
   },
   "outputs": [],
   "source": [
    "bike_facilities_id = set(vectors[vectors.bikable!='no'].id)"
   ]
  },
  {
   "cell_type": "code",
   "execution_count": 539,
   "metadata": {
    "collapsed": false
   },
   "outputs": [
    {
     "data": {
      "text/html": [
       "<div>\n",
       "<table border=\"1\" class=\"dataframe\">\n",
       "  <thead>\n",
       "    <tr style=\"text-align: right;\">\n",
       "      <th></th>\n",
       "      <th>id</th>\n",
       "      <th>highway</th>\n",
       "      <th>cycleway</th>\n",
       "      <th>cycleway:left</th>\n",
       "      <th>cycleway:right</th>\n",
       "      <th>cycleway:both</th>\n",
       "      <th>oneway:bicycle</th>\n",
       "      <th>bicycle</th>\n",
       "      <th>bicycle:lanes</th>\n",
       "      <th>bicycle:backward</th>\n",
       "      <th>...</th>\n",
       "      <th>sidewalk_x</th>\n",
       "      <th>oneway</th>\n",
       "      <th>lanes</th>\n",
       "      <th>pattern</th>\n",
       "      <th>cycle_lane</th>\n",
       "      <th>is_shared</th>\n",
       "      <th>cycle_way</th>\n",
       "      <th>sidewalk_y</th>\n",
       "      <th>bikable</th>\n",
       "      <th>description</th>\n",
       "    </tr>\n",
       "  </thead>\n",
       "  <tbody>\n",
       "    <tr>\n",
       "      <th>2101</th>\n",
       "      <td>112192545</td>\n",
       "      <td>tertiary</td>\n",
       "      <td>None</td>\n",
       "      <td>shared_lane</td>\n",
       "      <td>lane</td>\n",
       "      <td>None</td>\n",
       "      <td>None</td>\n",
       "      <td>None</td>\n",
       "      <td>None</td>\n",
       "      <td>None</td>\n",
       "      <td>...</td>\n",
       "      <td>both</td>\n",
       "      <td>None</td>\n",
       "      <td>2</td>\n",
       "      <td>(highway=tertiary, cycleway:left=shared_lane, ...</td>\n",
       "      <td>one</td>\n",
       "      <td>NaN</td>\n",
       "      <td>NaN</td>\n",
       "      <td>both</td>\n",
       "      <td>NaN</td>\n",
       "      <td>one way cycle lane, two way sidewalk</td>\n",
       "    </tr>\n",
       "  </tbody>\n",
       "</table>\n",
       "<p>1 rows × 22 columns</p>\n",
       "</div>"
      ],
      "text/plain": [
       "             id   highway cycleway cycleway:left cycleway:right cycleway:both  \\\n",
       "2101  112192545  tertiary     None   shared_lane           lane          None   \n",
       "\n",
       "     oneway:bicycle bicycle bicycle:lanes bicycle:backward  \\\n",
       "2101           None    None          None             None   \n",
       "\n",
       "                      ...                  sidewalk_x oneway lanes  \\\n",
       "2101                  ...                        both   None     2   \n",
       "\n",
       "                                                pattern cycle_lane is_shared  \\\n",
       "2101  (highway=tertiary, cycleway:left=shared_lane, ...        one       NaN   \n",
       "\n",
       "     cycle_way  sidewalk_y bikable                           description  \n",
       "2101       NaN        both     NaN  one way cycle lane, two way sidewalk  \n",
       "\n",
       "[1 rows x 22 columns]"
      ]
     },
     "execution_count": 539,
     "metadata": {},
     "output_type": "execute_result"
    }
   ],
   "source": [
    "vectors[vectors.id==112192545]"
   ]
  },
  {
   "cell_type": "markdown",
   "metadata": {},
   "source": [
    "## preliminary pattern"
   ]
  },
  {
   "cell_type": "code",
   "execution_count": 524,
   "metadata": {
    "collapsed": false
   },
   "outputs": [],
   "source": [
    "bk_tps = bk_type.keys()\n",
    "result = []\n",
    "for way in bk_ways:\n",
    "#     result.append([and_filter(way,bk_type[tp]) for tp in bk_tps])\n",
    "    result.append((way.id, ','.join([tp for tp in bk_tps if and_filter(way,bk_type[tp])  ])))\n",
    "# df = pd.DataFrame(result, columns=bk_tps)\n",
    "df = pd.DataFrame(result, columns=['id','type'])\n",
    "p = []\n",
    "for pattern, grp in df.merge(vectors[['id','pattern']]).groupby('pattern'):\n",
    "    p.append( (pattern, '##'.join(list(set(grp['type'].values))), grp.shape[0]))\n",
    "# pd.DataFrame(p).sort(2, ascending=False).to_csv('bk_pattern.csv')"
   ]
  },
  {
   "cell_type": "code",
   "execution_count": 571,
   "metadata": {
    "collapsed": false
   },
   "outputs": [
    {
     "data": {
      "text/html": [
       "<div>\n",
       "<table border=\"1\" class=\"dataframe\">\n",
       "  <thead>\n",
       "    <tr style=\"text-align: right;\">\n",
       "      <th></th>\n",
       "      <th>id</th>\n",
       "      <th>type</th>\n",
       "      <th>pattern</th>\n",
       "    </tr>\n",
       "  </thead>\n",
       "  <tbody>\n",
       "    <tr>\n",
       "      <th>2592</th>\n",
       "      <td>132577607</td>\n",
       "      <td>T1_3</td>\n",
       "      <td>(highway=residential, cycleway=track, bicycle=...</td>\n",
       "    </tr>\n",
       "  </tbody>\n",
       "</table>\n",
       "</div>"
      ],
      "text/plain": [
       "             id  type                                            pattern\n",
       "2592  132577607  T1_3  (highway=residential, cycleway=track, bicycle=..."
      ]
     },
     "execution_count": 571,
     "metadata": {},
     "output_type": "execute_result"
    }
   ],
   "source": [
    "m = df.merge(vectors[['id','pattern']])\n",
    "m[m.pattern==\n",
    "('highway=residential', 'cycleway=track', 'bicycle=designated', 'lanes=2')\n",
    "\n",
    " ]"
   ]
  },
  {
   "cell_type": "code",
   "execution_count": null,
   "metadata": {
    "collapsed": true
   },
   "outputs": [],
   "source": []
  },
  {
   "cell_type": "code",
   "execution_count": null,
   "metadata": {
    "collapsed": true
   },
   "outputs": [],
   "source": []
  },
  {
   "cell_type": "code",
   "execution_count": null,
   "metadata": {
    "collapsed": true
   },
   "outputs": [],
   "source": []
  },
  {
   "cell_type": "code",
   "execution_count": null,
   "metadata": {
    "collapsed": true
   },
   "outputs": [],
   "source": []
  },
  {
   "cell_type": "code",
   "execution_count": null,
   "metadata": {
    "collapsed": true
   },
   "outputs": [],
   "source": []
  },
  {
   "cell_type": "code",
   "execution_count": 63,
   "metadata": {
    "collapsed": false
   },
   "outputs": [],
   "source": [
    "import sys, os\n",
    "sys.path.insert(0, os.path.abspath('../'))\n",
    "from utils.osm.osm2shp import *\n"
   ]
  },
  {
   "cell_type": "code",
   "execution_count": 64,
   "metadata": {
    "collapsed": true
   },
   "outputs": [],
   "source": [
    "dc_segments = gp.read_file('data/opendc_segments.geojson')"
   ]
  },
  {
   "cell_type": "code",
   "execution_count": 504,
   "metadata": {
    "collapsed": true
   },
   "outputs": [],
   "source": [
    "pts = [(nd.id, nd.tags, node2pt(nd),'Node') for nd in bk_nodes]\n",
    "pts_gpdf = gp.GeoDataFrame(pts, columns=['id','tag', 'geometry','type'])\n",
    "lns = [(way.id, way.tags, way2lineOrpoly(OSM_DC_BBOX, way),'Way') for way in bk_ways]\n",
    "lns_gpdf = gp.GeoDataFrame(lns, columns=['id','tag', 'geometry','type'])\n"
   ]
  },
  {
   "cell_type": "code",
   "execution_count": 505,
   "metadata": {
    "collapsed": false
   },
   "outputs": [],
   "source": [
    "rltn_pts = []\n",
    "rltn_lns = []\n",
    "\n",
    "for r in bk_rltns:\n",
    "    shps = rltn2dictShp(OSM_DC_BBOX,r)\n",
    "    cnt = 0\n",
    "    pts = [(r.id,'{}_{}'.format(r.id,i+cnt), r.tags, pt, 'Relation') for i, pt in enumerate(shps['Point'])]\n",
    "    rltn_pts.extend(pts)\n",
    "    cnt+=len(shps['Point'])\n",
    "    lns = [(r.id,'{}_{}'.format(r.id,i+cnt), r.tags, pt, 'Relation') for i, pt in enumerate(shps['LineString'])]\n",
    "    rltn_lns.extend(lns)\n",
    "    cnt+=len(shps['LineString'])\n",
    "    polys = [('{}_{}'.format(r.id,i+cnt), r.tags, pt, 'Relation') for i, pt in enumerate(shps['Polygon'])]\n",
    "    rltn_lns.extend(polys)\n",
    "    \n",
    "# rltn_pts = pd.DataFrame(rltn_pts, columns=['id','id_keep','tag','geometry','type']).merge(category_in_dc_df)\n",
    "# rltn_pts = rltn_pts.drop(['id','has_category'], axis=1)\n",
    "# rltn_pts.columns = ['id','tag','geometry','type','category']\n",
    "\n",
    "# rltn_lns = pd.DataFrame(rltn_lns, columns=['id','id_keep','tag','geometry','type']).merge(category_in_dc_df)\n",
    "# rltn_lns = rltn_lns.drop(['id','has_category'], axis=1)\n",
    "# rltn_lns.columns = ['id','tag','geometry','type','category']\n"
   ]
  },
  {
   "cell_type": "code",
   "execution_count": 506,
   "metadata": {
    "collapsed": false
   },
   "outputs": [],
   "source": [
    "rltn_pts_df = pd.DataFrame(rltn_pts,columns=['id','tag','geometry','type'])\n",
    "rltn_lns_df = pd.DataFrame(rltn_lns,columns = ['id','tag','geometry','type'])"
   ]
  },
  {
   "cell_type": "code",
   "execution_count": 507,
   "metadata": {
    "collapsed": false
   },
   "outputs": [],
   "source": [
    "pts_merged = pts_gpdf.append(rltn_pts_df,ignore_index=True)\n",
    "lns_merged = lns_gpdf.append(rltn_lns_df,ignore_index=True)"
   ]
  },
  {
   "cell_type": "code",
   "execution_count": 508,
   "metadata": {
    "collapsed": false
   },
   "outputs": [],
   "source": [
    "pts_merged.crs = {'init': u'epsg:4326', 'no_defs': True}\n",
    "lns_merged.crs = {'init': u'epsg:4326', 'no_defs': True}"
   ]
  },
  {
   "cell_type": "code",
   "execution_count": null,
   "metadata": {
    "collapsed": true
   },
   "outputs": [],
   "source": []
  },
  {
   "cell_type": "code",
   "execution_count": null,
   "metadata": {
    "collapsed": true
   },
   "outputs": [],
   "source": []
  },
  {
   "cell_type": "code",
   "execution_count": 509,
   "metadata": {
    "collapsed": false
   },
   "outputs": [],
   "source": [
    "dc_segments_bfr20 = dc_segments.to_crs(epsg=3559)"
   ]
  },
  {
   "cell_type": "code",
   "execution_count": 510,
   "metadata": {
    "collapsed": true
   },
   "outputs": [],
   "source": [
    "dc_segments_bfr20.geometry = dc_segments_bfr20.buffer(20)\n"
   ]
  },
  {
   "cell_type": "code",
   "execution_count": 511,
   "metadata": {
    "collapsed": false
   },
   "outputs": [
    {
     "name": "stdout",
     "output_type": "stream",
     "text": [
      "(7608, 4)\n"
     ]
    }
   ],
   "source": [
    "# lns_merged = lns_merged[lns_merged.id.isin(bike_facilities_id)]\n",
    "print lns_merged.shape\n",
    "lns_merged_crs = lns_merged.to_crs(epsg=3559)\n",
    "dc_segments_crs = dc_segments.to_crs(epsg=3559)"
   ]
  },
  {
   "cell_type": "code",
   "execution_count": 512,
   "metadata": {
    "collapsed": false
   },
   "outputs": [
    {
     "data": {
      "text/plain": [
       "({'init': 'epsg:3559', 'no_defs': True}, (33329, 26), (7608, 4))"
      ]
     },
     "execution_count": 512,
     "metadata": {},
     "output_type": "execute_result"
    }
   ],
   "source": [
    "sjoin = gp.tools.sjoin(dc_segments_bfr20, lns_merged_crs)\n",
    "sjoin.crs, sjoin.shape, lns_merged_crs.shape"
   ]
  },
  {
   "cell_type": "code",
   "execution_count": 513,
   "metadata": {
    "collapsed": false,
    "scrolled": true
   },
   "outputs": [
    {
     "data": {
      "text/html": [
       "<div>\n",
       "<table border=\"1\" class=\"dataframe\">\n",
       "  <thead>\n",
       "    <tr style=\"text-align: right;\">\n",
       "      <th></th>\n",
       "      <th>STREETSEGID</th>\n",
       "      <th>id</th>\n",
       "      <th>geometry_seg_bfr</th>\n",
       "      <th>geometry_seg</th>\n",
       "      <th>geometry_osm</th>\n",
       "      <th>type</th>\n",
       "    </tr>\n",
       "  </thead>\n",
       "  <tbody>\n",
       "    <tr>\n",
       "      <th>0</th>\n",
       "      <td>876</td>\n",
       "      <td>6060492</td>\n",
       "      <td>POLYGON ((398912.3642750882 142565.1483322567,...</td>\n",
       "      <td>LINESTRING (398925.8415719268 142548.615571075...</td>\n",
       "      <td>LINESTRING (399219.2720089791 142722.965105728...</td>\n",
       "      <td>Way</td>\n",
       "    </tr>\n",
       "    <tr>\n",
       "      <th>1</th>\n",
       "      <td>10824</td>\n",
       "      <td>6060492</td>\n",
       "      <td>POLYGON ((399207.1940460324 142703.6292555482,...</td>\n",
       "      <td>LINESTRING (399219.0716272215 142723.845613301...</td>\n",
       "      <td>LINESTRING (399219.2720089791 142722.965105728...</td>\n",
       "      <td>Way</td>\n",
       "    </tr>\n",
       "    <tr>\n",
       "      <th>11</th>\n",
       "      <td>10824</td>\n",
       "      <td>6060035</td>\n",
       "      <td>POLYGON ((399207.1940460324 142703.6292555482,...</td>\n",
       "      <td>LINESTRING (399219.0716272215 142723.845613301...</td>\n",
       "      <td>LINESTRING (399321.2075351905 142719.292404369...</td>\n",
       "      <td>Way</td>\n",
       "    </tr>\n",
       "  </tbody>\n",
       "</table>\n",
       "</div>"
      ],
      "text/plain": [
       "    STREETSEGID       id                                   geometry_seg_bfr  \\\n",
       "0           876  6060492  POLYGON ((398912.3642750882 142565.1483322567,...   \n",
       "1         10824  6060492  POLYGON ((399207.1940460324 142703.6292555482,...   \n",
       "11        10824  6060035  POLYGON ((399207.1940460324 142703.6292555482,...   \n",
       "\n",
       "                                         geometry_seg  \\\n",
       "0   LINESTRING (398925.8415719268 142548.615571075...   \n",
       "1   LINESTRING (399219.0716272215 142723.845613301...   \n",
       "11  LINESTRING (399219.0716272215 142723.845613301...   \n",
       "\n",
       "                                         geometry_osm type  \n",
       "0   LINESTRING (399219.2720089791 142722.965105728...  Way  \n",
       "1   LINESTRING (399219.2720089791 142722.965105728...  Way  \n",
       "11  LINESTRING (399321.2075351905 142719.292404369...  Way  "
      ]
     },
     "execution_count": 513,
     "metadata": {},
     "output_type": "execute_result"
    }
   ],
   "source": [
    "adf = sjoin[['STREETSEGID','id','geometry']].merge(dc_segments_crs[['STREETSEGID','geometry']], left_on='STREETSEGID', right_on='STREETSEGID')\n",
    "adf = adf.merge(lns_merged_crs.drop('tag',axis=1),left_on='id',right_on='id')\n",
    "adf.columns = [u'STREETSEGID', u'id', u'geometry_seg_bfr', u'geometry_seg', u'geometry_osm', u'type']\n",
    "adf[adf.STREETSEGID.isin([876,10824])]"
   ]
  },
  {
   "cell_type": "code",
   "execution_count": 514,
   "metadata": {
    "collapsed": false
   },
   "outputs": [],
   "source": [
    "import math\n",
    "def dot(vA, vB):\n",
    "    return vA[0]*vB[0]+vA[1]*vB[1]\n",
    "def ang(lineA, lineB):\n",
    "    # Get nicer vector form\n",
    "    vA = [(lineA[0][0]-lineA[1][0]), (lineA[0][1]-lineA[1][1])]\n",
    "    vB = [(lineB[0][0]-lineB[1][0]), (lineB[0][1]-lineB[1][1])]\n",
    "    # Get dot prod\n",
    "    dot_prod = dot(vA, vB)\n",
    "    # Get magnitudes\n",
    "    magA = dot(vA, vA)**0.5\n",
    "    magB = dot(vB, vB)**0.5\n",
    "    if magA==0 or magB==0:\n",
    "        return 0\n",
    "    # Get cosine value\n",
    "    cos_ = dot_prod/magA/magB \n",
    "    cos_ = cos_ if cos_<1 else 1\n",
    "    cos_ = cos_ if cos_>-1 else -1\n",
    "#     print magA, magB, dot_prod, cos_\n",
    "    # Get angle in radians and then convert to degrees\n",
    "    angle = math.acos(cos_)\n",
    "    # Basically doing angle <- angle mod 360\n",
    "    ang_deg = math.degrees(angle)%360\n",
    "\n",
    "    if ang_deg-180>=0:\n",
    "#         return 360 - ang_deg\n",
    "        ang_deg = 360 - ang_deg\n",
    "    if ang_deg>90:\n",
    "        return 180-ang_deg\n",
    "    return ang_deg"
   ]
  },
  {
   "cell_type": "code",
   "execution_count": 515,
   "metadata": {
    "collapsed": false
   },
   "outputs": [],
   "source": [
    "def filter_lns_by_angle(ln, seg, ang_thres=10):\n",
    "    pts = [Point(pt) for pt in ln.coords]\n",
    "    projs = [seg.project(pt) for pt in pts]\n",
    "    proj_ln = LineString([seg.interpolate(pt) for pt in projs])\n",
    "    ln_coords = ln.coords\n",
    "    proj_ln_coords = proj_ln.coords\n",
    "    sublns = zip(ln_coords[:-1],ln_coords[1:])\n",
    "    subprojlns = zip(proj_ln_coords[:-1],proj_ln_coords[1:])\n",
    "    keep_pts = []\n",
    "    keep_ln_len = 0.0\n",
    "    for i in range(len(sublns)):\n",
    "        if LineString(subprojlns[i]).length!=0 and ang(sublns[i],subprojlns[i])<ang_thres:\n",
    "#             print ang(sublns[i],subprojlns[i]), ang_thres\n",
    "            keep_pts.extend(sublns[i])\n",
    "            keep_ln_len+=LineString(sublns[i]).length\n",
    "    return keep_pts, keep_ln_len"
   ]
  },
  {
   "cell_type": "code",
   "execution_count": 516,
   "metadata": {
    "collapsed": false,
    "scrolled": false
   },
   "outputs": [],
   "source": [
    "from shapely.geometry import Point, LineString, Polygon\n",
    "def len_cvr(row,ang_thres=10):\n",
    "    seg = row.geometry_seg\n",
    "    seg_length = seg.length\n",
    "    seg_bfr = row.geometry_seg_bfr\n",
    "    osm_ln = row.geometry_osm\n",
    "    osm_ln = osm_ln.exterior if isinstance(osm_ln, Polygon) else osm_ln\n",
    "    intersected_ln = osm_ln.intersection(seg_bfr)\n",
    "    if isinstance(intersected_ln,LineString):\n",
    "        intersected_ln = [intersected_ln]\n",
    "    proj_positions = []\n",
    "    intersected_ln_len = 0\n",
    "    for ln in intersected_ln:\n",
    "        keep_pts,keep_ln_len = filter_lns_by_angle(ln, seg, ang_thres)\n",
    "        proj_positions.extend([seg.project(Point(pt_coords)) for pt_coords in keep_pts])\n",
    "        intersected_ln_len += keep_ln_len\n",
    "    if len(proj_positions)==0:\n",
    "        return 0\n",
    "    cover_len = max(proj_positions)-min(proj_positions)\n",
    "    cover_len = cover_len if cover_len<intersected_ln_len else intersected_ln_len\n",
    "#     return intersected_ln\n",
    "    return cover_len/seg_length\n",
    "\n",
    "adf['len_prcnt'] = adf.apply(len_cvr, axis=1)\n",
    "# adf.loc[[772]].apply(len_cvr, axis=1)\n",
    "# adf[adf.STREETSEGID==8755].apply(len_cvr,axis=1)"
   ]
  },
  {
   "cell_type": "code",
   "execution_count": 517,
   "metadata": {
    "collapsed": false
   },
   "outputs": [
    {
     "data": {
      "text/html": [
       "<div>\n",
       "<table border=\"1\" class=\"dataframe\">\n",
       "  <thead>\n",
       "    <tr style=\"text-align: right;\">\n",
       "      <th></th>\n",
       "      <th>STREETSEGID</th>\n",
       "      <th>id</th>\n",
       "      <th>geometry_seg_bfr</th>\n",
       "      <th>geometry_seg</th>\n",
       "      <th>geometry_osm</th>\n",
       "      <th>type</th>\n",
       "      <th>len_prcnt</th>\n",
       "    </tr>\n",
       "  </thead>\n",
       "  <tbody>\n",
       "    <tr>\n",
       "      <th>772</th>\n",
       "      <td>4447</td>\n",
       "      <td>385380666</td>\n",
       "      <td>POLYGON ((398930.3176307577 136007.9099901246,...</td>\n",
       "      <td>LINESTRING (398943.7117234197 136027.844247719...</td>\n",
       "      <td>POLYGON ((398931.9062568073 136010.9158626902,...</td>\n",
       "      <td>Way</td>\n",
       "      <td>0.140219</td>\n",
       "    </tr>\n",
       "  </tbody>\n",
       "</table>\n",
       "</div>"
      ],
      "text/plain": [
       "     STREETSEGID         id  \\\n",
       "772         4447  385380666   \n",
       "\n",
       "                                      geometry_seg_bfr  \\\n",
       "772  POLYGON ((398930.3176307577 136007.9099901246,...   \n",
       "\n",
       "                                          geometry_seg  \\\n",
       "772  LINESTRING (398943.7117234197 136027.844247719...   \n",
       "\n",
       "                                          geometry_osm type  len_prcnt  \n",
       "772  POLYGON ((398931.9062568073 136010.9158626902,...  Way   0.140219  "
      ]
     },
     "execution_count": 517,
     "metadata": {},
     "output_type": "execute_result"
    },
    {
     "data": {
      "image/png": "[encoded data removed]",
      "text/plain": [
       "<matplotlib.figure.Figure at 0xf58c9828>"
      ]
     },
     "metadata": {},
     "output_type": "display_data"
    }
   ],
   "source": [
    "# test case for calibration of len_cvr function\n",
    "gp.GeoDataFrame(adf[772:773].geometry_osm.values.tolist()+adf[772:773].geometry_seg_bfr.values.tolist(),columns=['geometry']).plot()\n",
    "adf[772:773]"
   ]
  },
  {
   "cell_type": "code",
   "execution_count": 519,
   "metadata": {
    "collapsed": false,
    "scrolled": true
   },
   "outputs": [
    {
     "data": {
      "text/plain": [
       "array([[<matplotlib.axes._subplots.AxesSubplot object at 0x000000003AA2CC50>]], dtype=object)"
      ]
     },
     "execution_count": 519,
     "metadata": {},
     "output_type": "execute_result"
    },
    {
     "data": {
      "image/png": "[encoded data removed]",
      "text/plain": [
       "<matplotlib.figure.Figure at 0x3aa3e630>"
      ]
     },
     "metadata": {},
     "output_type": "display_data"
    }
   ],
   "source": [
    "adf[['STREETSEGID','len_prcnt']].groupby('STREETSEGID').agg(sum).hist()"
   ]
  },
  {
   "cell_type": "code",
   "execution_count": 540,
   "metadata": {
    "collapsed": false
   },
   "outputs": [
    {
     "data": {
      "text/plain": [
       "(33329, 7)"
      ]
     },
     "execution_count": 540,
     "metadata": {},
     "output_type": "execute_result"
    }
   ],
   "source": [
    "adf.shape"
   ]
  },
  {
   "cell_type": "code",
   "execution_count": 541,
   "metadata": {
    "collapsed": false,
    "scrolled": true
   },
   "outputs": [
    {
     "data": {
      "text/plain": [
       "<matplotlib.axes._subplots.AxesSubplot at 0xd2864d68>"
      ]
     },
     "execution_count": 541,
     "metadata": {},
     "output_type": "execute_result"
    },
    {
     "data": {
      "image/png": "[encoded data removed]",
      "text/plain": [
       "<matplotlib.figure.Figure at 0x8bd7f198>"
      ]
     },
     "metadata": {},
     "output_type": "display_data"
    }
   ],
   "source": [
    "adf['len_prcnt'].hist()"
   ]
  },
  {
   "cell_type": "code",
   "execution_count": 546,
   "metadata": {
    "collapsed": false,
    "scrolled": true
   },
   "outputs": [],
   "source": [
    "sum_len = adf[adf.len_prcnt>0.3][['STREETSEGID','len_prcnt']].groupby('STREETSEGID').agg(sum)\n",
    "a = sum_len[sum_len.len_prcnt>0.8].index.tolist()\n",
    "\n",
    "# test effect of different parameters\n",
    "# sum_len = adf[adf.len_prcnt>0.2][['STREETSEGID','len_prcnt']].groupby('STREETSEGID').agg(sum)\n",
    "# b = sum_len[sum_len.len_prcnt>0.8].index.tolist()\n",
    "# len(a), len(b), len(set(b)-set(a))"
   ]
  },
  {
   "cell_type": "code",
   "execution_count": 547,
   "metadata": {
    "collapsed": false
   },
   "outputs": [
    {
     "data": {
      "text/plain": [
       "(13522, 23)"
      ]
     },
     "execution_count": 547,
     "metadata": {},
     "output_type": "execute_result"
    }
   ],
   "source": [
    "dc_segments.shape"
   ]
  },
  {
   "cell_type": "code",
   "execution_count": 522,
   "metadata": {
    "collapsed": false
   },
   "outputs": [
    {
     "data": {
      "text/plain": [
       "(4769, 5072)"
      ]
     },
     "execution_count": 522,
     "metadata": {},
     "output_type": "execute_result"
    }
   ],
   "source": [
    "dc_overlap_ids = set(sum_len[sum_len.len_prcnt>0.8].index)\n",
    "lns_overlap_ids = set(adf[adf.STREETSEGID.isin(dc_overlap_ids)].id)\n",
    "len(dc_overlap_ids), len(lns_overlap_ids)"
   ]
  },
  {
   "cell_type": "code",
   "execution_count": 548,
   "metadata": {
    "collapsed": false
   },
   "outputs": [],
   "source": [
    "adfv = adf[(adf.STREETSEGID.isin(dc_overlap_ids))&(adf.len_prcnt>0.3)].merge(\n",
    "    vectors[['id',u'cycle_lane', u'is_shared', u'cycle_way',u'sidewalk_y', u'bikable']],left_on='id',right_on='id')"
   ]
  },
  {
   "cell_type": "markdown",
   "metadata": {},
   "source": [
    "TODO :\n",
    "so far, the coverage only include bk_ways, need to include relation\n"
   ]
  },
  {
   "cell_type": "code",
   "execution_count": 552,
   "metadata": {
    "collapsed": false
   },
   "outputs": [],
   "source": [
    "aaa = set([segid for segid, grp in adfv.groupby('STREETSEGID')])"
   ]
  },
  {
   "cell_type": "code",
   "execution_count": 553,
   "metadata": {
    "collapsed": false
   },
   "outputs": [
    {
     "data": {
      "text/plain": [
       "{3517, 5418}"
      ]
     },
     "execution_count": 553,
     "metadata": {},
     "output_type": "execute_result"
    }
   ],
   "source": [
    "dc_overlap_ids-aaa"
   ]
  },
  {
   "cell_type": "code",
   "execution_count": 549,
   "metadata": {
    "collapsed": false
   },
   "outputs": [],
   "source": [
    "result = []\n",
    "cols = ['cycle_lane','is_shared','cycle_way','sidewalk_y','bikable']\n",
    "for segid, grp in adfv.groupby('STREETSEGID'):\n",
    "    \n",
    "    result.append(tuple([segid]+[tuple(x for x in grp[c].values if not pd.isnull(x)) for c in cols]))\n",
    "#     break\n",
    "result = pd.DataFrame(result,columns=['STREETSEGID']+cols)"
   ]
  },
  {
   "cell_type": "code",
   "execution_count": 550,
   "metadata": {
    "collapsed": false
   },
   "outputs": [
    {
     "data": {
      "text/plain": [
       "()       3993\n",
       "both      437\n",
       "one       309\n",
       "right      28\n",
       "dtype: int64"
      ]
     },
     "execution_count": 550,
     "metadata": {},
     "output_type": "execute_result"
    }
   ],
   "source": [
    "result.cycle_lane.apply(lambda x: 'both' if x==('both',) or len(x)>1 else x if len(x)==0 else x[0]).value_counts()"
   ]
  },
  {
   "cell_type": "code",
   "execution_count": 526,
   "metadata": {
    "collapsed": false
   },
   "outputs": [
    {
     "data": {
      "text/plain": [
       "0    4716\n",
       "1      51\n",
       "dtype: int64"
      ]
     },
     "execution_count": 526,
     "metadata": {},
     "output_type": "execute_result"
    }
   ],
   "source": [
    "result.is_shared.apply(lambda x: 1 if len(x)>0 else 0).value_counts()"
   ]
  },
  {
   "cell_type": "code",
   "execution_count": 527,
   "metadata": {
    "collapsed": false
   },
   "outputs": [
    {
     "data": {
      "text/plain": [
       "         4470\n",
       "both      216\n",
       "one        72\n",
       "right       9\n",
       "dtype: int64"
      ]
     },
     "execution_count": 527,
     "metadata": {},
     "output_type": "execute_result"
    }
   ],
   "source": [
    "result.cycle_way.apply(lambda x: 'both' if x==('both',) or len(x)>1 else '' if len(x)==0 else x[0]).value_counts()"
   ]
  },
  {
   "cell_type": "code",
   "execution_count": 529,
   "metadata": {
    "collapsed": false,
    "scrolled": true
   },
   "outputs": [
    {
     "data": {
      "text/plain": [
       "both     3101\n",
       "         1107\n",
       "no        287\n",
       "right     147\n",
       "left      125\n",
       "dtype: int64"
      ]
     },
     "execution_count": 529,
     "metadata": {},
     "output_type": "execute_result"
    }
   ],
   "source": [
    "result.sidewalk_y.apply(lambda x: 'both' if x==('both',) or len(x)>1 else '' if len(x)==0 else x[0]).value_counts()"
   ]
  },
  {
   "cell_type": "code",
   "execution_count": 538,
   "metadata": {
    "collapsed": false
   },
   "outputs": [
    {
     "data": {
      "text/plain": [
       "       3829\n",
       "yes     912\n",
       "no       26\n",
       "dtype: int64"
      ]
     },
     "execution_count": 538,
     "metadata": {},
     "output_type": "execute_result"
    }
   ],
   "source": [
    "result.bikable.apply(lambda x: 'yes' if 'yes' in x else '' if len(x)==0 else 'no' ).value_counts()"
   ]
  },
  {
   "cell_type": "code",
   "execution_count": 545,
   "metadata": {
    "collapsed": false,
    "scrolled": false
   },
   "outputs": [],
   "source": [
    "dc_segments['color'] = '#ee0'\n",
    "lns_merged_vis = lns_merged.copy()\n",
    "lns_merged_vis['color'] = lns_merged_vis.apply(lambda x: {'Way':'#00F','Relation':'#0FF'}[x.type], axis=1)\n",
    "lns_merged_vis.tag = lns_merged_vis.tag.apply(str)\n",
    "\n",
    "# split_vis = split.copy()\n",
    "# split_vis['color'] = '#00f'\n",
    "\n",
    "pts_merged_vis = pts_gpdf.copy()\n",
    "pts_merged_vis.geometry = pts_merged_vis.buffer(0.0001)\n",
    "pts_merged_vis['color'] = pts_merged_vis.apply(lambda x: {'Node':'#F00', 'fq':'#0F0', 'Node_fq':'#FF0','Relation_fq':'#FF0', 'Relation':'#0FF'}[x.type],axis=1)\n",
    "pts_merged_vis.tag = pts_merged_vis.tag.apply(lambda x: str({k.encode('utf-8'):v.encode('utf-8') for k, v in x.items()}) if type(x)==dict else x.encode('utf-8'))\n",
    "\n",
    "import utils.leaflet_creation_v2;reload(utils.leaflet_creation_v2)\n",
    "from utils.leaflet_creation_v2 import get_color_for_df, create_map_visualization\n",
    "html_title = 'bk_osm'\n",
    "file_path = 'data/'\n",
    "file_name = 'bk_osm'\n",
    "lon, lat = -77.0163424758, 38.9047829846\n",
    "zoom = 12\n",
    "init_layer = ['light']\n",
    "map_layer = ['light','streets','satellite']\n",
    "binding_data = [['pts', 'points'], ['osm_lns','osm lines'],['dc_segments','dc_segments'],\n",
    "#                 ['split_vis','split_vis'],\n",
    "                ['lns_merged_vis','lns_merged_vis']]\n",
    "# gpdfs = [pts_merged_vis, lns_merged_vis,dc_segments]\n",
    "# gpdfs = [pts_merged_vis, lns_merged_vis.loc[lns_overlap_ids],dc_segments.loc[dc_overlap_ids], split_vis, lns_merged_vis[~lns_merged_vis.index.isin(lns_overlap_ids)]]\n",
    "gpdfs = [pts_merged_vis, \n",
    "         lns_merged_vis[lns_merged_vis.id.isin(lns_overlap_ids)],\n",
    "         dc_segments[dc_segments.STREETSEGID.isin(dc_overlap_ids)], \n",
    "#          split_vis, \n",
    "         lns_merged_vis]\n",
    "         \n",
    "create_map_visualization(html_title, file_path, file_name, lat, lon, zoom, init_layer, map_layer, binding_data, gpdfs) "
   ]
  },
  {
   "cell_type": "code",
   "execution_count": 452,
   "metadata": {
    "collapsed": false
   },
   "outputs": [
    {
     "data": {
      "text/plain": [
       "((), ())                      3966\n",
       "((both,), ())                  328\n",
       "((one,), ())                   308\n",
       "((both,), (1.0,))               41\n",
       "((one, one), ())                36\n",
       "((right,), ())                  26\n",
       "((both, both), ())              12\n",
       "((both, both), (1.0, 1.0))       7\n",
       "((right, right), ())             6\n",
       "((both, one, one), ())           2\n",
       "((right,), (1.0,))               2\n",
       "((both, one), ())                2\n",
       "((one,), (1.0,))                 1\n",
       "((both, both, both), ())         1\n",
       "((one, one, one), ())            1\n",
       "((one, one, one, one), ())       1\n",
       "dtype: int64"
      ]
     },
     "execution_count": 452,
     "metadata": {},
     "output_type": "execute_result"
    }
   ],
   "source": [
    "result[['cycle_lane','is_shared']].apply(tuple,axis=1).value_counts()"
   ]
  },
  {
   "cell_type": "code",
   "execution_count": 533,
   "metadata": {
    "collapsed": false,
    "scrolled": true
   },
   "outputs": [
    {
     "data": {
      "text/html": [
       "<div>\n",
       "<table border=\"1\" class=\"dataframe\">\n",
       "  <thead>\n",
       "    <tr style=\"text-align: right;\">\n",
       "      <th></th>\n",
       "      <th>STREETSEGID</th>\n",
       "      <th>cycle_lane</th>\n",
       "      <th>is_shared</th>\n",
       "      <th>cycle_way</th>\n",
       "      <th>sidewalk_y</th>\n",
       "      <th>bikable</th>\n",
       "    </tr>\n",
       "  </thead>\n",
       "  <tbody>\n",
       "    <tr>\n",
       "      <th>39</th>\n",
       "      <td>94</td>\n",
       "      <td>()</td>\n",
       "      <td>()</td>\n",
       "      <td>()</td>\n",
       "      <td>(both, both)</td>\n",
       "      <td>(yes, no)</td>\n",
       "    </tr>\n",
       "    <tr>\n",
       "      <th>2189</th>\n",
       "      <td>6129</td>\n",
       "      <td>()</td>\n",
       "      <td>()</td>\n",
       "      <td>()</td>\n",
       "      <td>()</td>\n",
       "      <td>(yes, no)</td>\n",
       "    </tr>\n",
       "    <tr>\n",
       "      <th>2778</th>\n",
       "      <td>7822</td>\n",
       "      <td>()</td>\n",
       "      <td>()</td>\n",
       "      <td>()</td>\n",
       "      <td>()</td>\n",
       "      <td>(yes, no)</td>\n",
       "    </tr>\n",
       "    <tr>\n",
       "      <th>2882</th>\n",
       "      <td>8128</td>\n",
       "      <td>()</td>\n",
       "      <td>()</td>\n",
       "      <td>()</td>\n",
       "      <td>()</td>\n",
       "      <td>(yes, no)</td>\n",
       "    </tr>\n",
       "    <tr>\n",
       "      <th>3145</th>\n",
       "      <td>8871</td>\n",
       "      <td>()</td>\n",
       "      <td>()</td>\n",
       "      <td>()</td>\n",
       "      <td>()</td>\n",
       "      <td>(yes, no)</td>\n",
       "    </tr>\n",
       "    <tr>\n",
       "      <th>3536</th>\n",
       "      <td>10018</td>\n",
       "      <td>()</td>\n",
       "      <td>()</td>\n",
       "      <td>()</td>\n",
       "      <td>()</td>\n",
       "      <td>(yes, no)</td>\n",
       "    </tr>\n",
       "  </tbody>\n",
       "</table>\n",
       "</div>"
      ],
      "text/plain": [
       "      STREETSEGID cycle_lane is_shared cycle_way    sidewalk_y    bikable\n",
       "39             94         ()        ()        ()  (both, both)  (yes, no)\n",
       "2189         6129         ()        ()        ()            ()  (yes, no)\n",
       "2778         7822         ()        ()        ()            ()  (yes, no)\n",
       "2882         8128         ()        ()        ()            ()  (yes, no)\n",
       "3145         8871         ()        ()        ()            ()  (yes, no)\n",
       "3536        10018         ()        ()        ()            ()  (yes, no)"
      ]
     },
     "execution_count": 533,
     "metadata": {},
     "output_type": "execute_result"
    }
   ],
   "source": [
    "result[result.cycle_lane==('one','one','one')]\n",
    "result[result.cycle_lane==('one','one')]\n",
    "result[result.cycle_lane==('both', 'one','one')]\n",
    "# result[result.cycle_lane==('one', 'one', 'right', 'one')]\n",
    "result[result.cycle_lane==('right', 'right')]\n",
    "# result[result.cycle_lane==('one', 'one', 'one', 'one')]\n",
    "# result[result.cycle_lane==('both', 'both')]\n",
    "\n",
    "result[result.bikable==('yes', 'no')]\n"
   ]
  },
  {
   "cell_type": "markdown",
   "metadata": {},
   "source": [
    "# one case explore"
   ]
  },
  {
   "cell_type": "code",
   "execution_count": 534,
   "metadata": {
    "collapsed": false
   },
   "outputs": [
    {
     "data": {
      "text/html": [
       "<div>\n",
       "<table border=\"1\" class=\"dataframe\">\n",
       "  <thead>\n",
       "    <tr style=\"text-align: right;\">\n",
       "      <th></th>\n",
       "      <th>BEGINMEASURE</th>\n",
       "      <th>DIRECTIONALITY</th>\n",
       "      <th>ENDMEASURE</th>\n",
       "      <th>FACILITYID</th>\n",
       "      <th>FROMADDRESSLEFTTHEO</th>\n",
       "      <th>FROMADDRESSRIGHTTHEO</th>\n",
       "      <th>FROMNODEID</th>\n",
       "      <th>OBJECTID</th>\n",
       "      <th>OBJECTID_1</th>\n",
       "      <th>QUADRANT</th>\n",
       "      <th>...</th>\n",
       "      <th>SHAPE_Length</th>\n",
       "      <th>SOURCEID</th>\n",
       "      <th>STREETID</th>\n",
       "      <th>STREETSEGID</th>\n",
       "      <th>STREETTYPE</th>\n",
       "      <th>TOADDRESSLEFTTHEO</th>\n",
       "      <th>TOADDRESSRIGHTTHEO</th>\n",
       "      <th>TONODEID</th>\n",
       "      <th>UPDATETIMESTAMP</th>\n",
       "      <th>geometry</th>\n",
       "    </tr>\n",
       "  </thead>\n",
       "  <tbody>\n",
       "    <tr>\n",
       "      <th>245</th>\n",
       "      <td>0</td>\n",
       "      <td>2</td>\n",
       "      <td>170.947533</td>\n",
       "      <td>SEGID-94</td>\n",
       "      <td>100</td>\n",
       "      <td>101</td>\n",
       "      <td>14593</td>\n",
       "      <td>246</td>\n",
       "      <td>341</td>\n",
       "      <td>NW</td>\n",
       "      <td>...</td>\n",
       "      <td>170.947563</td>\n",
       "      <td>10070010</td>\n",
       "      <td>100070</td>\n",
       "      <td>94</td>\n",
       "      <td>ST</td>\n",
       "      <td>198</td>\n",
       "      <td>199</td>\n",
       "      <td>14594</td>\n",
       "      <td>2005-11-01T12:55:46</td>\n",
       "      <td>LINESTRING (-77.02191028459816 38.890545942886...</td>\n",
       "    </tr>\n",
       "  </tbody>\n",
       "</table>\n",
       "<p>1 rows × 22 columns</p>\n",
       "</div>"
      ],
      "text/plain": [
       "     BEGINMEASURE  DIRECTIONALITY  ENDMEASURE FACILITYID  FROMADDRESSLEFTTHEO  \\\n",
       "245             0               2  170.947533   SEGID-94                  100   \n",
       "\n",
       "     FROMADDRESSRIGHTTHEO  FROMNODEID  OBJECTID  OBJECTID_1 QUADRANT  \\\n",
       "245                   101       14593       246         341       NW   \n",
       "\n",
       "                           ...                         SHAPE_Length  SOURCEID  \\\n",
       "245                        ...                           170.947563  10070010   \n",
       "\n",
       "     STREETID STREETSEGID  STREETTYPE  TOADDRESSLEFTTHEO TOADDRESSRIGHTTHEO  \\\n",
       "245    100070          94          ST                198                199   \n",
       "\n",
       "     TONODEID      UPDATETIMESTAMP  \\\n",
       "245     14594  2005-11-01T12:55:46   \n",
       "\n",
       "                                              geometry  \n",
       "245  LINESTRING (-77.02191028459816 38.890545942886...  \n",
       "\n",
       "[1 rows x 22 columns]"
      ]
     },
     "execution_count": 534,
     "metadata": {},
     "output_type": "execute_result"
    },
    {
     "data": {
      "image/png": "[encoded data removed]",
      "text/plain": [
       "<matplotlib.figure.Figure at 0x514ea828>"
      ]
     },
     "metadata": {},
     "output_type": "display_data"
    }
   ],
   "source": [
    "segid = 94\t\n",
    "dc_segments[dc_segments.STREETSEGID==segid].plot()\n",
    "# list(dc_segments[dc_segments.STREETSEGID==segid].geometry.values[0].coords)\n",
    "dc_segments[dc_segments.STREETSEGID==segid]"
   ]
  },
  {
   "cell_type": "code",
   "execution_count": 535,
   "metadata": {
    "collapsed": false
   },
   "outputs": [
    {
     "name": "stdout",
     "output_type": "stream",
     "text": [
      "http://www.openstreetmap.org/way/6055608\n",
      "http://www.openstreetmap.org/way/371698721\n",
      "http://www.openstreetmap.org/way/371698717\n",
      "http://www.openstreetmap.org/way/397321697\n"
     ]
    },
    {
     "data": {
      "text/html": [
       "<div>\n",
       "<table border=\"1\" class=\"dataframe\">\n",
       "  <thead>\n",
       "    <tr style=\"text-align: right;\">\n",
       "      <th></th>\n",
       "      <th>STREETSEGID</th>\n",
       "      <th>id</th>\n",
       "      <th>geometry_seg_bfr</th>\n",
       "      <th>geometry_seg</th>\n",
       "      <th>geometry_osm</th>\n",
       "      <th>type</th>\n",
       "      <th>len_prcnt</th>\n",
       "      <th>highway</th>\n",
       "      <th>cycleway</th>\n",
       "      <th>cycleway:left</th>\n",
       "      <th>...</th>\n",
       "      <th>sidewalk_x</th>\n",
       "      <th>oneway</th>\n",
       "      <th>lanes</th>\n",
       "      <th>pattern</th>\n",
       "      <th>cycle_lane</th>\n",
       "      <th>is_shared</th>\n",
       "      <th>cycle_way</th>\n",
       "      <th>sidewalk_y</th>\n",
       "      <th>bikable</th>\n",
       "      <th>description</th>\n",
       "    </tr>\n",
       "  </thead>\n",
       "  <tbody>\n",
       "    <tr>\n",
       "      <th>0</th>\n",
       "      <td>94</td>\n",
       "      <td>6055608</td>\n",
       "      <td>POLYGON ((398079.1438273705 135870.8759965343,...</td>\n",
       "      <td>LINESTRING (398099.1653689793 135856.054256225...</td>\n",
       "      <td>LINESTRING (398099.4258988897 135754.266359364...</td>\n",
       "      <td>Way</td>\n",
       "      <td>0.623815</td>\n",
       "      <td>secondary</td>\n",
       "      <td>None</td>\n",
       "      <td>None</td>\n",
       "      <td>...</td>\n",
       "      <td>both</td>\n",
       "      <td>None</td>\n",
       "      <td>6</td>\n",
       "      <td>(highway=secondary, sidewalk=both, lanes=6)</td>\n",
       "      <td>NaN</td>\n",
       "      <td>NaN</td>\n",
       "      <td>NaN</td>\n",
       "      <td>both</td>\n",
       "      <td>NaN</td>\n",
       "      <td>two way sidewalk</td>\n",
       "    </tr>\n",
       "    <tr>\n",
       "      <th>1</th>\n",
       "      <td>94</td>\n",
       "      <td>371698721</td>\n",
       "      <td>POLYGON ((398079.1438273705 135870.8759965343,...</td>\n",
       "      <td>LINESTRING (398099.1653689793 135856.054256225...</td>\n",
       "      <td>LINESTRING (398083.9502436844 135868.874566704...</td>\n",
       "      <td>Way</td>\n",
       "      <td>0.701696</td>\n",
       "      <td>footway</td>\n",
       "      <td>None</td>\n",
       "      <td>None</td>\n",
       "      <td>...</td>\n",
       "      <td>None</td>\n",
       "      <td>None</td>\n",
       "      <td>None</td>\n",
       "      <td>(highway=footway, foot=yes)</td>\n",
       "      <td>NaN</td>\n",
       "      <td>NaN</td>\n",
       "      <td>NaN</td>\n",
       "      <td>NaN</td>\n",
       "      <td>yes</td>\n",
       "      <td>footway</td>\n",
       "    </tr>\n",
       "    <tr>\n",
       "      <th>2</th>\n",
       "      <td>94</td>\n",
       "      <td>371698717</td>\n",
       "      <td>POLYGON ((398079.1438273705 135870.8759965343,...</td>\n",
       "      <td>LINESTRING (398099.1653689793 135856.054256225...</td>\n",
       "      <td>LINESTRING (398114.7309605903 136014.498375108...</td>\n",
       "      <td>Way</td>\n",
       "      <td>0.865372</td>\n",
       "      <td>footway</td>\n",
       "      <td>None</td>\n",
       "      <td>None</td>\n",
       "      <td>...</td>\n",
       "      <td>None</td>\n",
       "      <td>None</td>\n",
       "      <td>None</td>\n",
       "      <td>(highway=footway, bicycle=no, foot=yes)</td>\n",
       "      <td>NaN</td>\n",
       "      <td>NaN</td>\n",
       "      <td>NaN</td>\n",
       "      <td>NaN</td>\n",
       "      <td>no</td>\n",
       "      <td>foot_nobk</td>\n",
       "    </tr>\n",
       "    <tr>\n",
       "      <th>3</th>\n",
       "      <td>94</td>\n",
       "      <td>397321697</td>\n",
       "      <td>POLYGON ((398079.1438273705 135870.8759965343,...</td>\n",
       "      <td>LINESTRING (398099.1653689793 135856.054256225...</td>\n",
       "      <td>LINESTRING (398097.4545492663 135962.717341751...</td>\n",
       "      <td>Way</td>\n",
       "      <td>0.371338</td>\n",
       "      <td>secondary</td>\n",
       "      <td>None</td>\n",
       "      <td>None</td>\n",
       "      <td>...</td>\n",
       "      <td>both</td>\n",
       "      <td>None</td>\n",
       "      <td>7</td>\n",
       "      <td>(highway=secondary, sidewalk=both, lanes=7)</td>\n",
       "      <td>NaN</td>\n",
       "      <td>NaN</td>\n",
       "      <td>NaN</td>\n",
       "      <td>both</td>\n",
       "      <td>NaN</td>\n",
       "      <td>two way sidewalk</td>\n",
       "    </tr>\n",
       "  </tbody>\n",
       "</table>\n",
       "<p>4 rows × 28 columns</p>\n",
       "</div>"
      ],
      "text/plain": [
       "   STREETSEGID         id                                   geometry_seg_bfr  \\\n",
       "0           94    6055608  POLYGON ((398079.1438273705 135870.8759965343,...   \n",
       "1           94  371698721  POLYGON ((398079.1438273705 135870.8759965343,...   \n",
       "2           94  371698717  POLYGON ((398079.1438273705 135870.8759965343,...   \n",
       "3           94  397321697  POLYGON ((398079.1438273705 135870.8759965343,...   \n",
       "\n",
       "                                        geometry_seg  \\\n",
       "0  LINESTRING (398099.1653689793 135856.054256225...   \n",
       "1  LINESTRING (398099.1653689793 135856.054256225...   \n",
       "2  LINESTRING (398099.1653689793 135856.054256225...   \n",
       "3  LINESTRING (398099.1653689793 135856.054256225...   \n",
       "\n",
       "                                        geometry_osm type  len_prcnt  \\\n",
       "0  LINESTRING (398099.4258988897 135754.266359364...  Way   0.623815   \n",
       "1  LINESTRING (398083.9502436844 135868.874566704...  Way   0.701696   \n",
       "2  LINESTRING (398114.7309605903 136014.498375108...  Way   0.865372   \n",
       "3  LINESTRING (398097.4545492663 135962.717341751...  Way   0.371338   \n",
       "\n",
       "     highway cycleway cycleway:left        ...        sidewalk_x oneway lanes  \\\n",
       "0  secondary     None          None        ...              both   None     6   \n",
       "1    footway     None          None        ...              None   None  None   \n",
       "2    footway     None          None        ...              None   None  None   \n",
       "3  secondary     None          None        ...              both   None     7   \n",
       "\n",
       "                                       pattern cycle_lane is_shared cycle_way  \\\n",
       "0  (highway=secondary, sidewalk=both, lanes=6)        NaN       NaN       NaN   \n",
       "1                  (highway=footway, foot=yes)        NaN       NaN       NaN   \n",
       "2      (highway=footway, bicycle=no, foot=yes)        NaN       NaN       NaN   \n",
       "3  (highway=secondary, sidewalk=both, lanes=7)        NaN       NaN       NaN   \n",
       "\n",
       "  sidewalk_y bikable       description  \n",
       "0       both     NaN  two way sidewalk  \n",
       "1        NaN     yes           footway  \n",
       "2        NaN      no         foot_nobk  \n",
       "3       both     NaN  two way sidewalk  \n",
       "\n",
       "[4 rows x 28 columns]"
      ]
     },
     "execution_count": 535,
     "metadata": {},
     "output_type": "execute_result"
    }
   ],
   "source": [
    "print '\\n'.join(adf[(adf.STREETSEGID==segid)&(adf.len_prcnt>0.3)].apply(lambda x: 'http://www.openstreetmap.org/{}/{}'.format(x['type'].lower(), x['id']),axis=1).tolist())\n",
    "adf[(adf.STREETSEGID==segid)&(adf.len_prcnt>0.3)].merge(vectors)"
   ]
  },
  {
   "cell_type": "code",
   "execution_count": 536,
   "metadata": {
    "collapsed": false,
    "scrolled": true
   },
   "outputs": [
    {
     "data": {
      "text/plain": [
       "<matplotlib.axes._subplots.AxesSubplot at 0x48e48a58>"
      ]
     },
     "execution_count": 536,
     "metadata": {},
     "output_type": "execute_result"
    },
    {
     "data": {
      "image/png": "[encoded data removed]",
      "text/plain": [
       "<matplotlib.figure.Figure at 0x4815a080>"
      ]
     },
     "metadata": {},
     "output_type": "display_data"
    },
    {
     "data": {
      "image/png": "[encoded data removed]",
      "text/plain": [
       "<matplotlib.figure.Figure at 0x8cc91f28>"
      ]
     },
     "metadata": {},
     "output_type": "display_data"
    }
   ],
   "source": [
    "# dc_segments[dc_segments.STREETSEGID==segid][['geometry']].append(lns_merged[lns_merged.id.isin(adf[adf.STREETSEGID==segid].id)]).plot()\n",
    "gp.GeoDataFrame(dc_segments[dc_segments.STREETSEGID==segid][['geometry']].to_crs(epsg=3559).buffer(20).to_crs(epsg=4326),columns=['geometry']).append(lns_merged[lns_merged.id.isin(adf[(adf.STREETSEGID==segid)&(adf.len_prcnt>0.3)].id)]).plot()\n",
    "gp.GeoDataFrame(dc_segments[dc_segments.STREETSEGID==segid][['geometry']].to_crs(epsg=3559).buffer(20).to_crs(epsg=4326),columns=['geometry']).append(lns_merged[lns_merged.id.isin(adf[adf.STREETSEGID==segid].id)]).plot()"
   ]
  },
  {
   "cell_type": "code",
   "execution_count": null,
   "metadata": {
    "collapsed": true
   },
   "outputs": [],
   "source": []
  },
  {
   "cell_type": "code",
   "execution_count": null,
   "metadata": {
    "collapsed": true
   },
   "outputs": [],
   "source": []
  },
  {
   "cell_type": "code",
   "execution_count": null,
   "metadata": {
    "collapsed": true
   },
   "outputs": [],
   "source": []
  },
  {
   "cell_type": "code",
   "execution_count": null,
   "metadata": {
    "collapsed": true
   },
   "outputs": [],
   "source": []
  },
  {
   "cell_type": "markdown",
   "metadata": {},
   "source": [
    "# abandon stuff"
   ]
  },
  {
   "cell_type": "markdown",
   "metadata": {},
   "source": [
    "## try to assign osm attributes to DCSeg by area of overlap. \n",
    "But it has many noise because of the crossing, or some osm is polygons"
   ]
  },
  {
   "cell_type": "code",
   "execution_count": 159,
   "metadata": {
    "collapsed": false
   },
   "outputs": [
    {
     "data": {
      "text/plain": [
       "((13522, 22), (7053, 4))"
      ]
     },
     "execution_count": 159,
     "metadata": {},
     "output_type": "execute_result"
    }
   ],
   "source": [
    "dc_segment_bfr = dc_segments.to_crs(epsg=3559)\n",
    "lns_merged_bfr = lns_merged.to_crs(epsg=3559)\n",
    "dc_segment_bfr.shape, lns_merged_bfr.shape\n",
    "dc_segment_bfr.geometry = dc_segment_bfr.buffer(10)\n",
    "lns_merged_bfr.geometry = lns_merged_bfr.buffer(10)\n",
    "def get_area_percentage(x):\n",
    "    area_left = x.geometry_x.area\n",
    "    area_right = x.geometry_y.area\n",
    "    return x.area/area_left if area_left<area_right else x.area/area_right\n",
    "\n",
    "import pandas as pd\n",
    "\n",
    "def get_overlap(left_gdf, right_gdf):\n",
    "    jgdf = gp.tools.sjoin(left_gdf, right_gdf, how='left')\n",
    "#     jgdf = jgdf.rename(columns={'geometry':'geometry_left'})\n",
    "    jgdf_intrsetn = pd.merge(jgdf,right_gdf[['geometry']],left_on='index_right',right_index = True)\n",
    "#     print jgdf_intrsetn.columns\n",
    "    jgdf_intrsetn['intersection']=jgdf_intrsetn.apply(lambda x: x.geometry_x.intersection(x.geometry_y),axis=1)\n",
    "    jgdf_intrsetn['area'] = jgdf_intrsetn['intersection'].apply(lambda x: x.area)\n",
    "    jgdf_intrsetn['area_prcnt'] = jgdf_intrsetn.apply(get_area_percentage, axis=1)\n",
    "    return jgdf_intrsetn\n",
    "\n",
    "overlap_df= get_overlap(dc_segment_bfr, lns_merged_bfr)"
   ]
  },
  {
   "cell_type": "code",
   "execution_count": 74,
   "metadata": {
    "collapsed": false,
    "scrolled": true
   },
   "outputs": [
    {
     "data": {
      "text/plain": [
       "<matplotlib.axes._subplots.AxesSubplot at 0xfbd8a5c0>"
      ]
     },
     "execution_count": 74,
     "metadata": {},
     "output_type": "execute_result"
    },
    {
     "data": {
      "image/png": "[encoded data removed]",
      "text/plain": [
       "<matplotlib.figure.Figure at 0xfbd8a2e8>"
      ]
     },
     "metadata": {},
     "output_type": "display_data"
    }
   ],
   "source": [
    "\n",
    "overlap_df.area_prcnt.hist()\n",
    "overlap_df[(overlap_df.id==392135131)&((overlap_df.STREETSEGID==5942)|(overlap_df.STREETSEGID==8079))].apply(lambda x: (x.geometry_x.area, x.geometry_y.area,x.geometry_x.intersection(x.geometry_y).area), axis=1)\n",
    "overlap_df[(overlap_df.id==392135140)&((overlap_df.STREETSEGID==52)|(overlap_df.STREETSEGID==8369))]\n"
   ]
  },
  {
   "cell_type": "code",
   "execution_count": null,
   "metadata": {
    "collapsed": true
   },
   "outputs": [],
   "source": [
    "low, up = 0.5, 0.8\n",
    "low, up = 0.5, 1\n",
    "low, up = 0.8, 1\n",
    "# low, up = 0., .1\n",
    "\n",
    "dc_overlap_ids = set(overlap_df[(overlap_df.area_prcnt>low)&(overlap_df.area_prcnt<=up)].index)\n",
    "lns_overlap_ids = set(overlap_df[(overlap_df.area_prcnt>low)&(overlap_df.area_prcnt<=up)].index_right)\n",
    "len(dc_overlap_ids), len(lns_overlap_ids)"
   ]
  },
  {
   "cell_type": "markdown",
   "metadata": {},
   "source": [
    "## try to cut linestring by angle\n",
    "but it doesn't work well because segment itself cound have large angle\n",
    "\n",
    "Solution: keep linestring within the buffer range of segment, and use projection to mitigate the angle issue"
   ]
  },
  {
   "cell_type": "code",
   "execution_count": 312,
   "metadata": {
    "collapsed": false,
    "scrolled": true
   },
   "outputs": [],
   "source": [
    "# from shapely.geometry import Polygon, \n",
    "\n",
    "\n",
    "def split_linestring_by_large_angle(to_split_line, ang_thres=70):\n",
    "    new_lines = []\n",
    "    from shapely.geometry import LineString\n",
    "    from shapely.ops import linemerge\n",
    "    ln_coords = to_split_line.coords if isinstance(to_split_line, LineString) else to_split_line\n",
    "    ln_coords = ln_coords.exterior.coords if isinstance(ln_coords, Polygon) else ln_coords\n",
    "    sublns = zip(ln_coords[:-1],ln_coords[1:])\n",
    "    new_line = [sublns[0]]\n",
    "    for i in range(len(sublns)-1):\n",
    "#         print sublns[i],sublns[i+1]\n",
    "#         print ang(sublns[i],sublns[i+1]) \n",
    "        \n",
    "        if ang(sublns[i],sublns[i+1]) < ang_thres:\n",
    "            new_line.append(sublns[i+1])\n",
    "        else:\n",
    "            new_lines.append(linemerge(new_line))\n",
    "            new_line = [sublns[i+1]]\n",
    "    new_lines.append(linemerge(new_line))\n",
    "    return new_lines\n",
    "# lns_merged.apply(lambda x: len(split_linestring_by_large_angle(x.geometry))>1,axis=1)\n",
    "\n",
    "# print lns_merged.loc[6560]\n",
    "# split_linestring_by_large_angle(lns_merged.loc[0].geometry)\n",
    "split = lns_merged[lns_merged.apply(lambda x: len(split_linestring_by_large_angle(x.geometry))>1,axis=1)]"
   ]
  },
  {
   "cell_type": "code",
   "execution_count": 397,
   "metadata": {
    "collapsed": false
   },
   "outputs": [],
   "source": [
    "ln = lns_merged[lns_merged.id==168484390].to_crs(epsg=3559).geometry.values[0]\n",
    "ln2 = dc_segments[dc_segments.STREETSEGID==158].to_crs(epsg=3559).geometry.values[0]"
   ]
  },
  {
   "cell_type": "code",
   "execution_count": 406,
   "metadata": {
    "collapsed": false
   },
   "outputs": [
    {
     "name": "stdout",
     "output_type": "stream",
     "text": [
      "20\n",
      "7\n",
      "[164.1871952417697, 175.64936047995783, 271.8160792848538, 309.63887917028796, 354.84983598767525, 372.1404696138501, 422.7791862318039]\n"
     ]
    },
    {
     "data": {
      "text/plain": [
       "0.5927940497187876"
      ]
     },
     "execution_count": 406,
     "metadata": {},
     "output_type": "execute_result"
    }
   ],
   "source": [
    "dist_thres=25\n",
    "seg = ln2\n",
    "seg_length = seg.length\n",
    "osm_ln = ln\n",
    "osm_ln = osm_ln.exterior if isinstance(osm_ln, Polygon) else osm_ln\n",
    "pts = [Point(pt) for pt in osm_ln.coords]\n",
    "print len(pts)\n",
    "pts = [pt for pt in pts if pt.distance(seg)<dist_thres]\n",
    "print (len(pts))\n",
    "proj_positions = [seg.project(pt) for pt in pts]\n",
    "print proj_positions\n",
    "cover_len = max(proj_positions)-min(proj_positions)\n",
    "cover_len/seg_length\n",
    "pts = [seg.interpolate(pt) for pt in proj_positions]\n",
    "a = gp.GeoDataFrame(pts,columns=['geometry'])\n",
    "a.crs = {'init':'epsg:3559'}\n",
    "a.buffer(10).to_crs(epsg=4326).append(dc_segments[dc_segments.STREETSEGID==158].geometry).plot()"
   ]
  },
  {
   "cell_type": "code",
   "execution_count": 326,
   "metadata": {
    "collapsed": false
   },
   "outputs": [
    {
     "name": "stdout",
     "output_type": "stream",
     "text": [
      "POINT (0 0) 0.0 POINT (0 0)\n",
      "POINT (0 1) 1.0 POINT (0 1)\n",
      "POINT (0.5 3) 3.06155281281 POINT (0.5 3)\n",
      "POINT (1 3) 3.06155281281 POINT (0.5 3)\n",
      "POINT (0 3) 2.94028500029 POINT (0.4705882352941176 2.882352941176471)\n",
      "POINT (0 2) 1.97014250015 POINT (0.2352941176470588 1.941176470588235)\n",
      "POINT (0 0.2) 0.2 POINT (0 0.2)\n"
     ]
    }
   ],
   "source": [
    "geom = []\n",
    "ln = LineString([(0,0),(0,1),(0.5,3)])\n",
    "pts = [Point(0,0), Point(0,1), Point(0.5,3), Point(1,3),Point(0,3), Point(0,2), Point(0,0.2)]\n",
    "geom.append(ln)\n",
    "geom.extend(pts)\n",
    "for pt in pts:\n",
    "    print pt, ln.project(pt), ln.interpolate(ln.project(pt))\n",
    "    geom.append( ln.interpolate(ln.project(pt)))"
   ]
  },
  {
   "cell_type": "code",
   "execution_count": 327,
   "metadata": {
    "collapsed": false
   },
   "outputs": [
    {
     "data": {
      "text/plain": [
       "3.0615528128088303"
      ]
     },
     "execution_count": 327,
     "metadata": {},
     "output_type": "execute_result"
    }
   ],
   "source": [
    "ln.length"
   ]
  },
  {
   "cell_type": "code",
   "execution_count": 329,
   "metadata": {
    "collapsed": true
   },
   "outputs": [],
   "source": [
    "geom.append(ln_projed)"
   ]
  },
  {
   "cell_type": "code",
   "execution_count": 330,
   "metadata": {
    "collapsed": false,
    "scrolled": true
   },
   "outputs": [
    {
     "data": {
      "text/plain": [
       "<matplotlib.axes._subplots.AxesSubplot at 0x6a3a4a20>"
      ]
     },
     "execution_count": 330,
     "metadata": {},
     "output_type": "execute_result"
    },
    {
     "data": {
      "image/png": "[encoded data removed]",
      "text/plain": [
       "<matplotlib.figure.Figure at 0x6a3c1d30>"
      ]
     },
     "metadata": {},
     "output_type": "display_data"
    }
   ],
   "source": [
    "gp.GeoDataFrame(geom, columns=['geometry']).buffer(0.1).plot()"
   ]
  },
  {
   "cell_type": "code",
   "execution_count": 323,
   "metadata": {
    "collapsed": false
   },
   "outputs": [
    {
     "data": {
      "text/plain": [
       "2.04028500029"
      ]
     },
     "execution_count": 323,
     "metadata": {},
     "output_type": "execute_result"
    }
   ],
   "source": [
    "2.94028500029 - 0.9"
   ]
  },
  {
   "cell_type": "code",
   "execution_count": 328,
   "metadata": {
    "collapsed": false
   },
   "outputs": [
    {
     "data": {
      "text/plain": [
       "2.723319773408054"
      ]
     },
     "execution_count": 328,
     "metadata": {},
     "output_type": "execute_result"
    }
   ],
   "source": [
    "ln_projed = LineString([ (0.4705882352941176,2.882352941176471),(0 ,0.2)])\n",
    "ln_projed.length"
   ]
  },
  {
   "cell_type": "code",
   "execution_count": null,
   "metadata": {
    "collapsed": true
   },
   "outputs": [],
   "source": [
    "POINT (0 3) 2.94028500029 "
   ]
  },
  {
   "cell_type": "code",
   "execution_count": null,
   "metadata": {
    "collapsed": true
   },
   "outputs": [],
   "source": [
    "POINT (0 1.1) 1.09701425001 POINT (0.02352941176470589 1.094117647058824)"
   ]
  }
 ],
 "metadata": {
  "kernelspec": {
   "display_name": "Python 2",
   "language": "python",
   "name": "python2"
  },
  "language_info": {
   "codemirror_mode": {
    "name": "ipython",
    "version": 2
   },
   "file_extension": ".py",
   "mimetype": "text/x-python",
   "name": "python",
   "nbconvert_exporter": "python",
   "pygments_lexer": "ipython2",
   "version": "2.7.11"
  }
 },
 "nbformat": 4,
 "nbformat_minor": 0
}
