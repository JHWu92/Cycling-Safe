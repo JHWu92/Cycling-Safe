{
 "cells": [
  {
   "cell_type": "code",
   "execution_count": 10,
   "metadata": {
    "collapsed": true
   },
   "outputs": [],
   "source": [
    "import pandas as pd\n",
    "import geopandas as gp\n",
    "import numpy as np\n",
    "import shapely.geometry as shpgeo\n",
    "from osmread import parse_file, Node, Way, Relation\n",
    "import datetime\n",
    "%matplotlib inline"
   ]
  },
  {
   "cell_type": "code",
   "execution_count": 5,
   "metadata": {
    "collapsed": true
   },
   "outputs": [],
   "source": [
    "DCOSM_DATA_PATH = '../data/washingtonDC.osm'\n",
    "OUTPUT_DIR = '../data/output/'"
   ]
  },
  {
   "cell_type": "code",
   "execution_count": 11,
   "metadata": {
    "collapsed": false
   },
   "outputs": [
    {
     "name": "stdout",
     "output_type": "stream",
     "text": [
      "2016-10-28 22:47:38.111000\n",
      "[\"len of <class 'osmread.elements.Relation'> = 3427\", \"len of <class 'osmread.elements.Way'> = 306332\", \"len of <class 'osmread.elements.Node'> = 2546260\"]\n",
      "2016-10-28 22:49:00.809000\n"
     ]
    }
   ],
   "source": [
    "print datetime.datetime.now()\n",
    "\n",
    "OSM_OBJ = {Node: [], Way: [], Relation: []}\n",
    "for obj in parse_file(DCOSM_DATA_PATH):\n",
    "    \n",
    "    OSM_OBJ[type(obj)].append(obj)\n",
    "\n",
    "print ['len of {} = {}'.format(key, len(v)) for key, v in OSM_OBJ.items()]\n",
    "print datetime.datetime.now()"
   ]
  },
  {
   "cell_type": "code",
   "execution_count": 14,
   "metadata": {
    "collapsed": false
   },
   "outputs": [],
   "source": [
    "def build_idx(osm_objs):\n",
    "    return {o.id:i for i, o in enumerate(osm_objs)}\n",
    "OSM_OBJ_IDX = {}\n",
    "for key, objs in OSM_OBJ.items():\n",
    "    OSM_OBJ_IDX[key] = build_idx(objs)"
   ]
  },
  {
   "cell_type": "code",
   "execution_count": 13,
   "metadata": {
    "collapsed": true
   },
   "outputs": [],
   "source": [
    "def get_osm_obj_by_id(otype, oid):\n",
    "    idx = OSM_OBJ_IDX[otype][oid]\n",
    "    return OSM_OBJ[otype][idx]\n",
    "\n",
    "def get_osm_node_by_id(oid):\n",
    "    return get_osm_obj_by_id(Node, oid)\n",
    "\n",
    "def get_osm_way_by_id(oid):\n",
    "    return get_osm_obj_by_id(Way, oid)\n",
    "\n",
    "def get_osm_relation_by_id(oid):\n",
    "    return get_osm_obj_by_id(Relation, oid)"
   ]
  },
  {
   "cell_type": "code",
   "execution_count": null,
   "metadata": {
    "collapsed": true
   },
   "outputs": [],
   "source": []
  }
 ],
 "metadata": {
  "kernelspec": {
   "display_name": "Python 2",
   "language": "python",
   "name": "python2"
  },
  "language_info": {
   "codemirror_mode": {
    "name": "ipython",
    "version": 2
   },
   "file_extension": ".py",
   "mimetype": "text/x-python",
   "name": "python",
   "nbconvert_exporter": "python",
   "pygments_lexer": "ipython2",
   "version": "2.7.11"
  }
 },
 "nbformat": 4,
 "nbformat_minor": 0
}
