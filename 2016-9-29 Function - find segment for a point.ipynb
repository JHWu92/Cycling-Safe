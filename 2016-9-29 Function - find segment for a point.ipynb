{
 "cells": [
  {
   "cell_type": "markdown",
   "metadata": {},
   "source": [
    "#Questions\n",
    "- if one point is have equal distances to multiple segs, how to assign seg to it"
   ]
  },
  {
   "cell_type": "code",
   "execution_count": 1,
   "metadata": {
    "collapsed": false
   },
   "outputs": [
    {
     "name": "stdout",
     "output_type": "stream",
     "text": [
      "Populating the interactive namespace from numpy and matplotlib\n"
     ]
    }
   ],
   "source": [
    "%pylab inline\n",
    "import geopandas as gp\n",
    "from shapely.geometry import LineString, Point\n",
    "import rtree\n",
    "import os\n",
    "import numpy as np"
   ]
  },
  {
   "cell_type": "markdown",
   "metadata": {},
   "source": [
    "# Functions\n",
    "\n",
    "build_load_idx(seg_idx_path,segs,update=False): indexing segments\n",
    "\n",
    "pt2seg(pt,seg_idx): find the segment intersected/nearest to a given point"
   ]
  },
  {
   "cell_type": "code",
   "execution_count": 2,
   "metadata": {
    "collapsed": false
   },
   "outputs": [],
   "source": [
    "def build_load_idx(seg_idx_path, segs_with_ids, update=False):\n",
    "    \"\"\"\n",
    "    params:\n",
    "        seg_idx_path: the path of segment index if the index doesn't exist, the index will be built.\n",
    "        segs_with_ids: dict: key=objid, value=shapely.geometry.LineString, segments that will be indexed\n",
    "        update: True: rebuild the index no matter whether the index exists\n",
    "    Output:\n",
    "        rtree index of given segments.\n",
    "    \"\"\"\n",
    "    idx_exist = os.path.isfile(seg_idx_path+'.dat') & os.path.isfile(seg_idx_path+'.idx') \n",
    "    if update and idx_exist:\n",
    "        print 'remove existing files'\n",
    "        os.remove(seg_idx_path+'.dat')\n",
    "        os.remove(seg_idx_path+'.idx')\n",
    "        idx_exist = False\n",
    "    seg_idx = rtree.index.Rtree(seg_idx_path)\n",
    "    if not idx_exist:\n",
    "        print 'building idx'\n",
    "#         seg_idx?\n",
    "        for objid,seg in segs_with_ids.items():\n",
    "            seg_idx.insert(objid, seg.bounds)\n",
    "        print 'built idx'\n",
    "\n",
    "    return seg_idx\n",
    "\n",
    "def pt2seg(pt, segs_with_ids, seg_idx):\n",
    "    \"\"\"\n",
    "    params: \n",
    "        pt: shapely.geometry.Point\n",
    "        segs_with_ids:\n",
    "        seg_idx: rtree index of segments\n",
    "    Process:\n",
    "        1. load segment index and find segments(var:idx_match) whose bounds intersect with point's bounds\n",
    "           if there isn't any matched segment, the point will be buffered until len of idx_match !=0\n",
    "        2. find the segments that actually intersect with given point\n",
    "           if there isn't any intersected segment, nearest segment will be returned\n",
    "    Output:\n",
    "       hint: whether the returned segid is \"nearest\" or \"intersected\"\n",
    "       segid: assigned segment id\n",
    "       cnt: len of candidates \n",
    "       candidates: the index of segments that are \"equally near\"/\"intersected\" to the point\n",
    "       distance: the distance between point and segment\n",
    "    \"\"\"\n",
    "    \n",
    "    idx_match = list(seg_idx.intersection(pt.bounds))\n",
    "\n",
    "    # in case no idx is matched\n",
    "    bfr_value = 0.000001\n",
    "    while len(idx_match)==0:\n",
    "        idx_match = list(seg_idx.intersection(pt.buffer(bfr_value).bounds))\n",
    "        bfr_value*=2\n",
    "    \n",
    "    fil = [pt.intersects(segs_with_ids[idx]) for idx in idx_match]\n",
    "    seg_match = [idx for (idx,b) in zip(idx_match, fil) if b]\n",
    "    \n",
    "    if len(seg_match)==0:\n",
    "        dis = np.array([pt.distance(segs_with_ids[idx]) for idx in idx_match])\n",
    "        minimum = dis.min()\n",
    "        segid = idx_match[dis.argmin()]\n",
    "        return 'nearest', segid, int(np.where(dis==minimum)[0].shape[0]), np.array(idx_match)[np.where(dis==minimum)[0]],minimum\n",
    "    else:\n",
    "        segid=seg_match[0]\n",
    "        return 'intersected', segid, len(seg_match), np.array(seg_match),0"
   ]
  },
  {
   "cell_type": "markdown",
   "metadata": {},
   "source": [
    "# test data"
   ]
  },
  {
   "cell_type": "code",
   "execution_count": 3,
   "metadata": {
    "collapsed": false
   },
   "outputs": [
    {
     "data": {
      "text/plain": [
       "<matplotlib.axes._subplots.AxesSubplot at 0xb721e10>"
      ]
     },
     "execution_count": 3,
     "metadata": {},
     "output_type": "execute_result"
    },
    {
     "data": {
      "image/png": "[encoded data removed]",
      "text/plain": [
       "<matplotlib.figure.Figure at 0xb721908>"
      ]
     },
     "metadata": {},
     "output_type": "display_data"
    }
   ],
   "source": [
    "pts = [\n",
    "    (-2,2), # outside any indexed bounds, closest to only 1 seg\n",
    "    (0,2), # on seg 0\n",
    "    (0.5,2.5), # idx_match multiple segs\n",
    "    (0.5,2), # has equal distances between multiple segs\n",
    "    (1,2), # on seg 1\n",
    "    (1,1), # idx_match multiple segs\n",
    "    (1.5,4.5), # outside any indexed bounds, has equal distances between multiple segs\n",
    "    (2,4), # on seg 1\n",
    "    (2,2), # idx_match only seg 1 \n",
    "    (4,1), # in the intersection of multiple segs\n",
    "]\n",
    "segs = [\n",
    "    [(-1,0),(1,4)],\n",
    "    [(4,0),(4,4)],\n",
    "    [(0,0),(2,4),(4,1)],\n",
    "]\n",
    "# objids = [i for i in range(len(segs))]\n",
    "segs_with_objids = dict(zip([i for i in range(len(segs))],[LineString(seg) for seg in segs]))\n",
    "pts = [Point(pt) for pt in pts]\n",
    "pts_bfr = [pt.buffer(0.1) for pt in pts]\n",
    "gp.GeoDataFrame(segs_with_objids.values()+pts_bfr,columns=['geometry']).plot()"
   ]
  },
  {
   "cell_type": "markdown",
   "metadata": {},
   "source": [
    "read or build an index for segments"
   ]
  },
  {
   "cell_type": "code",
   "execution_count": 4,
   "metadata": {
    "collapsed": false,
    "scrolled": true
   },
   "outputs": [],
   "source": [
    "seg_idx_path = 'test_seg_idx'\n",
    "seg_idx = build_load_idx(seg_idx_path,segs_with_objids)"
   ]
  },
  {
   "cell_type": "markdown",
   "metadata": {},
   "source": [
    "find the intersected/nearest segment for a given point"
   ]
  },
  {
   "cell_type": "code",
   "execution_count": 5,
   "metadata": {
    "collapsed": false,
    "scrolled": false
   },
   "outputs": [
    {
     "name": "stdout",
     "output_type": "stream",
     "text": [
      "\n",
      "**************POINT (0.5 2.5)**************\n",
      "the nearest seg's id is #0, cnt=1, candidates=[0], distance=0.223607\n",
      "\n",
      "**************POINT (1.5 4.5)**************\n",
      "the nearest seg's id is #0, cnt=2, candidates=[0 2], distance=0.707107\n",
      "\n",
      "**************POINT (4 1)**************\n",
      "the intersected seg's id is #1, cnt=2, candidates=[1 2], distance=0.000000\n"
     ]
    }
   ],
   "source": [
    "seg_idx_path = 'test_seg_idx'\n",
    "for i in [2,6,9]:\n",
    "    pt = pts[i]\n",
    "    print '\\n', '**************%s**************' %pt\n",
    "    hint, segid, cnt, candidates, distance = pt2seg(pt, segs_with_objids, seg_idx)\n",
    "    print 'the %s seg\\'s id is #%d, cnt=%d, candidates=%s, distance=%f' % (hint, segid, cnt,candidates,distance)"
   ]
  },
  {
   "cell_type": "markdown",
   "metadata": {},
   "source": [
    "close the index"
   ]
  },
  {
   "cell_type": "code",
   "execution_count": 6,
   "metadata": {
    "collapsed": true
   },
   "outputs": [],
   "source": [
    "seg_idx.close()"
   ]
  },
  {
   "cell_type": "markdown",
   "metadata": {},
   "source": [
    "# Open DC data\n",
    "\n",
    "- Street segments in DC\n",
    "- moving violation"
   ]
  },
  {
   "cell_type": "code",
   "execution_count": 7,
   "metadata": {
    "collapsed": false
   },
   "outputs": [],
   "source": [
    "dc_segs = gp.read_file('Street_Segments.geojson')\n",
    "mv_ptns = gp.read_file('Moving_Violations_in_January_2016.geojson')"
   ]
  },
  {
   "cell_type": "code",
   "execution_count": null,
   "metadata": {
    "collapsed": false
   },
   "outputs": [],
   "source": [
    "segs_with_ids = dict(zip(dc_segs.STREETSEGID,dc_segs.geometry))\n",
    "dc_seg_idx_path = 'dc_seg_idx'\n",
    "dc_seg_idx = build_load_idx(dc_seg_idx_path, segs_with_ids)"
   ]
  },
  {
   "cell_type": "code",
   "execution_count": null,
   "metadata": {
    "collapsed": false
   },
   "outputs": [],
   "source": [
    "get_seg = mv_ptns.geometry.apply(lambda x: gp.GeoSeries(pt2seg(x, segs_with_ids, dc_seg_idx)))\n",
    "get_seg.columns=[['hint','seg','len_can','candidates','distance']]\n",
    "mv_ptns_get_seg = mv_ptns.join(get_seg)"
   ]
  },
  {
   "cell_type": "code",
   "execution_count": null,
   "metadata": {
    "collapsed": false,
    "scrolled": true
   },
   "outputs": [],
   "source": [
    "# mv_ptns_get_seg[['seg','STREETSEGID']][mv_ptns_get_seg.seg!=mv_ptns_get_seg.STREETSEGID]\n",
    "print mv_ptns_get_seg.len_can.value_counts().to_dict()\n",
    "mv_ptns_get_seg['distance'].hist()"
   ]
  },
  {
   "cell_type": "code",
   "execution_count": null,
   "metadata": {
    "collapsed": true
   },
   "outputs": [],
   "source": [
    "dc_seg_idx.close()"
   ]
  }
 ],
 "metadata": {
  "kernelspec": {
   "display_name": "Python 2",
   "language": "python",
   "name": "python2"
  },
  "language_info": {
   "codemirror_mode": {
    "name": "ipython",
    "version": 2
   },
   "file_extension": ".py",
   "mimetype": "text/x-python",
   "name": "python",
   "nbconvert_exporter": "python",
   "pygments_lexer": "ipython2",
   "version": "2.7.11"
  }
 },
 "nbformat": 4,
 "nbformat_minor": 0
}
